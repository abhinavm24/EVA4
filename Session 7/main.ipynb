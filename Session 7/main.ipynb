{
  "nbformat": 4,
  "nbformat_minor": 0,
  "metadata": {
    "colab": {
      "name": "Copy of s7.ipynb",
      "provenance": [],
      "authorship_tag": "ABX9TyPmZ4MqxClgsHqJu0DJVEz4",
      "include_colab_link": true
    },
    "kernelspec": {
      "name": "python3",
      "display_name": "Python 3"
    },
    "accelerator": "GPU",
    "widgets": {
      "application/vnd.jupyter.widget-state+json": {
        "23e1a53c909c4f48bcb20b94fde44726": {
          "model_module": "@jupyter-widgets/controls",
          "model_name": "HBoxModel",
          "state": {
            "_view_name": "HBoxView",
            "_dom_classes": [],
            "_model_name": "HBoxModel",
            "_view_module": "@jupyter-widgets/controls",
            "_model_module_version": "1.5.0",
            "_view_count": null,
            "_view_module_version": "1.5.0",
            "box_style": "",
            "layout": "IPY_MODEL_7dcb1684a1074e0e81b837f0fd675f90",
            "_model_module": "@jupyter-widgets/controls",
            "children": [
              "IPY_MODEL_933cc5ba647a42f89fa10fb6031e3870",
              "IPY_MODEL_138f6284633948059689c71015c483b4"
            ]
          }
        },
        "7dcb1684a1074e0e81b837f0fd675f90": {
          "model_module": "@jupyter-widgets/base",
          "model_name": "LayoutModel",
          "state": {
            "_view_name": "LayoutView",
            "grid_template_rows": null,
            "right": null,
            "justify_content": null,
            "_view_module": "@jupyter-widgets/base",
            "overflow": null,
            "_model_module_version": "1.2.0",
            "_view_count": null,
            "flex_flow": null,
            "width": null,
            "min_width": null,
            "border": null,
            "align_items": null,
            "bottom": null,
            "_model_module": "@jupyter-widgets/base",
            "top": null,
            "grid_column": null,
            "overflow_y": null,
            "overflow_x": null,
            "grid_auto_flow": null,
            "grid_area": null,
            "grid_template_columns": null,
            "flex": null,
            "_model_name": "LayoutModel",
            "justify_items": null,
            "grid_row": null,
            "max_height": null,
            "align_content": null,
            "visibility": null,
            "align_self": null,
            "height": null,
            "min_height": null,
            "padding": null,
            "grid_auto_rows": null,
            "grid_gap": null,
            "max_width": null,
            "order": null,
            "_view_module_version": "1.2.0",
            "grid_template_areas": null,
            "object_position": null,
            "object_fit": null,
            "grid_auto_columns": null,
            "margin": null,
            "display": null,
            "left": null
          }
        },
        "933cc5ba647a42f89fa10fb6031e3870": {
          "model_module": "@jupyter-widgets/controls",
          "model_name": "IntProgressModel",
          "state": {
            "_view_name": "ProgressView",
            "style": "IPY_MODEL_25464f021ca140a08bcccb38a19b3220",
            "_dom_classes": [],
            "description": "",
            "_model_name": "IntProgressModel",
            "bar_style": "success",
            "max": 1,
            "_view_module": "@jupyter-widgets/controls",
            "_model_module_version": "1.5.0",
            "value": 1,
            "_view_count": null,
            "_view_module_version": "1.5.0",
            "orientation": "horizontal",
            "min": 0,
            "description_tooltip": null,
            "_model_module": "@jupyter-widgets/controls",
            "layout": "IPY_MODEL_d221d7f955dc4d0cb58024f98d79700d"
          }
        },
        "138f6284633948059689c71015c483b4": {
          "model_module": "@jupyter-widgets/controls",
          "model_name": "HTMLModel",
          "state": {
            "_view_name": "HTMLView",
            "style": "IPY_MODEL_64df2ce87777422c9b2569cf8534c2c4",
            "_dom_classes": [],
            "description": "",
            "_model_name": "HTMLModel",
            "placeholder": "​",
            "_view_module": "@jupyter-widgets/controls",
            "_model_module_version": "1.5.0",
            "value": "170500096it [00:06, 27421009.54it/s]",
            "_view_count": null,
            "_view_module_version": "1.5.0",
            "description_tooltip": null,
            "_model_module": "@jupyter-widgets/controls",
            "layout": "IPY_MODEL_9ee3b283a86f41aab667d691fd971580"
          }
        },
        "25464f021ca140a08bcccb38a19b3220": {
          "model_module": "@jupyter-widgets/controls",
          "model_name": "ProgressStyleModel",
          "state": {
            "_view_name": "StyleView",
            "_model_name": "ProgressStyleModel",
            "description_width": "",
            "_view_module": "@jupyter-widgets/base",
            "_model_module_version": "1.5.0",
            "_view_count": null,
            "_view_module_version": "1.2.0",
            "bar_color": null,
            "_model_module": "@jupyter-widgets/controls"
          }
        },
        "d221d7f955dc4d0cb58024f98d79700d": {
          "model_module": "@jupyter-widgets/base",
          "model_name": "LayoutModel",
          "state": {
            "_view_name": "LayoutView",
            "grid_template_rows": null,
            "right": null,
            "justify_content": null,
            "_view_module": "@jupyter-widgets/base",
            "overflow": null,
            "_model_module_version": "1.2.0",
            "_view_count": null,
            "flex_flow": null,
            "width": null,
            "min_width": null,
            "border": null,
            "align_items": null,
            "bottom": null,
            "_model_module": "@jupyter-widgets/base",
            "top": null,
            "grid_column": null,
            "overflow_y": null,
            "overflow_x": null,
            "grid_auto_flow": null,
            "grid_area": null,
            "grid_template_columns": null,
            "flex": null,
            "_model_name": "LayoutModel",
            "justify_items": null,
            "grid_row": null,
            "max_height": null,
            "align_content": null,
            "visibility": null,
            "align_self": null,
            "height": null,
            "min_height": null,
            "padding": null,
            "grid_auto_rows": null,
            "grid_gap": null,
            "max_width": null,
            "order": null,
            "_view_module_version": "1.2.0",
            "grid_template_areas": null,
            "object_position": null,
            "object_fit": null,
            "grid_auto_columns": null,
            "margin": null,
            "display": null,
            "left": null
          }
        },
        "64df2ce87777422c9b2569cf8534c2c4": {
          "model_module": "@jupyter-widgets/controls",
          "model_name": "DescriptionStyleModel",
          "state": {
            "_view_name": "StyleView",
            "_model_name": "DescriptionStyleModel",
            "description_width": "",
            "_view_module": "@jupyter-widgets/base",
            "_model_module_version": "1.5.0",
            "_view_count": null,
            "_view_module_version": "1.2.0",
            "_model_module": "@jupyter-widgets/controls"
          }
        },
        "9ee3b283a86f41aab667d691fd971580": {
          "model_module": "@jupyter-widgets/base",
          "model_name": "LayoutModel",
          "state": {
            "_view_name": "LayoutView",
            "grid_template_rows": null,
            "right": null,
            "justify_content": null,
            "_view_module": "@jupyter-widgets/base",
            "overflow": null,
            "_model_module_version": "1.2.0",
            "_view_count": null,
            "flex_flow": null,
            "width": null,
            "min_width": null,
            "border": null,
            "align_items": null,
            "bottom": null,
            "_model_module": "@jupyter-widgets/base",
            "top": null,
            "grid_column": null,
            "overflow_y": null,
            "overflow_x": null,
            "grid_auto_flow": null,
            "grid_area": null,
            "grid_template_columns": null,
            "flex": null,
            "_model_name": "LayoutModel",
            "justify_items": null,
            "grid_row": null,
            "max_height": null,
            "align_content": null,
            "visibility": null,
            "align_self": null,
            "height": null,
            "min_height": null,
            "padding": null,
            "grid_auto_rows": null,
            "grid_gap": null,
            "max_width": null,
            "order": null,
            "_view_module_version": "1.2.0",
            "grid_template_areas": null,
            "object_position": null,
            "object_fit": null,
            "grid_auto_columns": null,
            "margin": null,
            "display": null,
            "left": null
          }
        }
      }
    }
  },
  "cells": [
    {
      "cell_type": "markdown",
      "metadata": {
        "id": "view-in-github",
        "colab_type": "text"
      },
      "source": [
        "<a href=\"https://colab.research.google.com/github/mshilpaa/EVA4/blob/master/Session%207/main.ipynb\" target=\"_parent\"><img src=\"https://colab.research.google.com/assets/colab-badge.svg\" alt=\"Open In Colab\"/></a>"
      ]
    },
    {
      "cell_type": "code",
      "metadata": {
        "id": "7bO4KQZ2BnVd",
        "colab_type": "code",
        "outputId": "d5287fa1-6ad9-4a95-8ec0-0ad2102856b1",
        "colab": {
          "base_uri": "https://localhost:8080/",
          "height": 121
        }
      },
      "source": [
        "# mount gdrive and unzip data\n",
        "from google.colab import drive\n",
        "drive.mount('/content/gdrive')"
      ],
      "execution_count": 1,
      "outputs": [
        {
          "output_type": "stream",
          "text": [
            "Go to this URL in a browser: https://accounts.google.com/o/oauth2/auth?client_id=947318989803-6bn6qk8qdgf4n4g3pfee6491hc0brc4i.apps.googleusercontent.com&redirect_uri=urn%3aietf%3awg%3aoauth%3a2.0%3aoob&response_type=code&scope=email%20https%3a%2f%2fwww.googleapis.com%2fauth%2fdocs.test%20https%3a%2f%2fwww.googleapis.com%2fauth%2fdrive%20https%3a%2f%2fwww.googleapis.com%2fauth%2fdrive.photos.readonly%20https%3a%2f%2fwww.googleapis.com%2fauth%2fpeopleapi.readonly\n",
            "\n",
            "Enter your authorization code:\n",
            "··········\n",
            "Mounted at /content/gdrive\n"
          ],
          "name": "stdout"
        }
      ]
    },
    {
      "cell_type": "code",
      "metadata": {
        "id": "zuVC28FuBrx_",
        "colab_type": "code",
        "colab": {}
      },
      "source": [
        "import sys\n",
        "folder = '/content/gdrive/My Drive/Colab Notebooks/s7'\n",
        "sys.path.append(folder)"
      ],
      "execution_count": 0,
      "outputs": []
    },
    {
      "cell_type": "code",
      "metadata": {
        "id": "KQfrOaeWCAeC",
        "colab_type": "code",
        "colab": {}
      },
      "source": [
        "%matplotlib inline\n",
        "import torch\n",
        "import data_loading\n",
        "import show_images\n",
        "import dnn_architecture\n",
        "import train_and_test\n",
        "import evaluate"
      ],
      "execution_count": 0,
      "outputs": []
    },
    {
      "cell_type": "code",
      "metadata": {
        "id": "Ny0tOxfPCV5t",
        "colab_type": "code",
        "outputId": "fe4bd840-6673-4fed-ad93-9a4830364c77",
        "colab": {
          "base_uri": "https://localhost:8080/",
          "height": 133,
          "referenced_widgets": [
            "23e1a53c909c4f48bcb20b94fde44726",
            "7dcb1684a1074e0e81b837f0fd675f90",
            "933cc5ba647a42f89fa10fb6031e3870",
            "138f6284633948059689c71015c483b4",
            "25464f021ca140a08bcccb38a19b3220",
            "d221d7f955dc4d0cb58024f98d79700d",
            "64df2ce87777422c9b2569cf8534c2c4",
            "9ee3b283a86f41aab667d691fd971580"
          ]
        }
      },
      "source": [
        "classes, trainloader, testloader = data_loading.load()"
      ],
      "execution_count": 4,
      "outputs": [
        {
          "output_type": "stream",
          "text": [
            "Downloading https://www.cs.toronto.edu/~kriz/cifar-10-python.tar.gz to ./data/cifar-10-python.tar.gz\n"
          ],
          "name": "stdout"
        },
        {
          "output_type": "display_data",
          "data": {
            "application/vnd.jupyter.widget-view+json": {
              "model_id": "23e1a53c909c4f48bcb20b94fde44726",
              "version_minor": 0,
              "version_major": 2
            },
            "text/plain": [
              "HBox(children=(IntProgress(value=1, bar_style='info', max=1), HTML(value='')))"
            ]
          },
          "metadata": {
            "tags": []
          }
        },
        {
          "output_type": "stream",
          "text": [
            "\n",
            "Extracting ./data/cifar-10-python.tar.gz to ./data\n",
            "Files already downloaded and verified\n",
            "CUDA Available? True\n"
          ],
          "name": "stdout"
        }
      ]
    },
    {
      "cell_type": "code",
      "metadata": {
        "id": "2WQOV5JOCcdh",
        "colab_type": "code",
        "outputId": "8ee236cb-5322-45a8-85de-00738b5e630d",
        "colab": {
          "base_uri": "https://localhost:8080/",
          "height": 154
        }
      },
      "source": [
        "show_images.show_random_images(trainloader, classes)"
      ],
      "execution_count": 5,
      "outputs": [
        {
          "output_type": "stream",
          "text": [
            "shape: torch.Size([128, 3, 32, 32])\n",
            "  cat truck truck   cat   cat\n"
          ],
          "name": "stdout"
        },
        {
          "output_type": "display_data",
          "data": {
            "image/png": "[encoded data removed]",
            "text/plain": [
              "<Figure size 432x288 with 1 Axes>"
            ]
          },
          "metadata": {
            "tags": []
          }
        }
      ]
    },
    {
      "cell_type": "code",
      "metadata": {
        "id": "MeFhl0oHCirx",
        "colab_type": "code",
        "outputId": "76e77fc4-5b2d-4841-d8e5-b7479a52473a",
        "colab": {
          "base_uri": "https://localhost:8080/",
          "height": 1000
        }
      },
      "source": [
        "!pip install torchsummary\n",
        "from torchsummary import summary\n",
        "use_cuda = torch.cuda.is_available()\n",
        "device = torch.device(\"cuda\" if use_cuda else \"cpu\")\n",
        "print(device)\n",
        "model = dnn_architecture.Net().to(device)\n",
        "summary(model, input_size=(3, 32, 32))"
      ],
      "execution_count": 6,
      "outputs": [
        {
          "output_type": "stream",
          "text": [
            "Requirement already satisfied: torchsummary in /usr/local/lib/python3.6/dist-packages (1.5.1)\n",
            "cuda\n",
            "----------------------------------------------------------------\n",
            "        Layer (type)               Output Shape         Param #\n",
            "================================================================\n",
            "            Conv2d-1           [-1, 16, 32, 32]             432\n",
            "              ReLU-2           [-1, 16, 32, 32]               0\n",
            "       BatchNorm2d-3           [-1, 16, 32, 32]              32\n",
            "           Dropout-4           [-1, 16, 32, 32]               0\n",
            "            Conv2d-5           [-1, 16, 32, 32]           2,304\n",
            "              ReLU-6           [-1, 16, 32, 32]               0\n",
            "       BatchNorm2d-7           [-1, 16, 32, 32]              32\n",
            "           Dropout-8           [-1, 16, 32, 32]               0\n",
            "         MaxPool2d-9           [-1, 16, 16, 16]               0\n",
            "           Conv2d-10           [-1, 32, 16, 16]           4,608\n",
            "             ReLU-11           [-1, 32, 16, 16]               0\n",
            "      BatchNorm2d-12           [-1, 32, 16, 16]              64\n",
            "          Dropout-13           [-1, 32, 16, 16]               0\n",
            "           Conv2d-14           [-1, 32, 16, 16]           9,216\n",
            "             ReLU-15           [-1, 32, 16, 16]               0\n",
            "      BatchNorm2d-16           [-1, 32, 16, 16]              64\n",
            "          Dropout-17           [-1, 32, 16, 16]               0\n",
            "        MaxPool2d-18             [-1, 32, 8, 8]               0\n",
            "           Conv2d-19             [-1, 32, 8, 8]             288\n",
            "             ReLU-20             [-1, 32, 8, 8]               0\n",
            "      BatchNorm2d-21             [-1, 32, 8, 8]              64\n",
            "          Dropout-22             [-1, 32, 8, 8]               0\n",
            "           Conv2d-23           [-1, 48, 10, 10]           1,536\n",
            "             ReLU-24           [-1, 48, 10, 10]               0\n",
            "      BatchNorm2d-25           [-1, 48, 10, 10]              96\n",
            "          Dropout-26           [-1, 48, 10, 10]               0\n",
            "           Conv2d-27           [-1, 48, 10, 10]             432\n",
            "             ReLU-28           [-1, 48, 10, 10]               0\n",
            "      BatchNorm2d-29           [-1, 48, 10, 10]              96\n",
            "          Dropout-30           [-1, 48, 10, 10]               0\n",
            "           Conv2d-31           [-1, 48, 12, 12]           2,304\n",
            "             ReLU-32           [-1, 48, 12, 12]               0\n",
            "      BatchNorm2d-33           [-1, 48, 12, 12]              96\n",
            "          Dropout-34           [-1, 48, 12, 12]               0\n",
            "           Conv2d-35           [-1, 48, 12, 12]          20,736\n",
            "             ReLU-36           [-1, 48, 12, 12]               0\n",
            "      BatchNorm2d-37           [-1, 48, 12, 12]              96\n",
            "          Dropout-38           [-1, 48, 12, 12]               0\n",
            "           Conv2d-39           [-1, 48, 12, 12]          20,736\n",
            "             ReLU-40           [-1, 48, 12, 12]               0\n",
            "      BatchNorm2d-41           [-1, 48, 12, 12]              96\n",
            "          Dropout-42           [-1, 48, 12, 12]               0\n",
            "        MaxPool2d-43             [-1, 48, 6, 6]               0\n",
            "           Conv2d-44             [-1, 48, 4, 4]          20,736\n",
            "             ReLU-45             [-1, 48, 4, 4]               0\n",
            "      BatchNorm2d-46             [-1, 48, 4, 4]              96\n",
            "          Dropout-47             [-1, 48, 4, 4]               0\n",
            "           Conv2d-48             [-1, 10, 4, 4]           4,320\n",
            "AdaptiveAvgPool2d-49             [-1, 10, 1, 1]               0\n",
            "================================================================\n",
            "Total params: 88,480\n",
            "Trainable params: 88,480\n",
            "Non-trainable params: 0\n",
            "----------------------------------------------------------------\n",
            "Input size (MB): 0.01\n",
            "Forward/backward pass size (MB): 2.57\n",
            "Params size (MB): 0.34\n",
            "Estimated Total Size (MB): 2.92\n",
            "----------------------------------------------------------------\n"
          ],
          "name": "stdout"
        }
      ]
    },
    {
      "cell_type": "code",
      "metadata": {
        "id": "gC2_JrBKDJiT",
        "colab_type": "code",
        "colab": {}
      },
      "source": [
        "import torch.nn as nn\n",
        "import torch.optim as optim\n",
        "from torch.optim.lr_scheduler import StepLR\n",
        "\n",
        "criterion = nn.CrossEntropyLoss()\n",
        "optimizer = optim.SGD(model.parameters(), lr=0.1, momentum=0.9)\n",
        "scheduler = StepLR(optimizer, step_size=12, gamma=0.1)"
      ],
      "execution_count": 0,
      "outputs": []
    },
    {
      "cell_type": "code",
      "metadata": {
        "id": "_ATOpWGADK0Y",
        "colab_type": "code",
        "outputId": "ce00de4b-173b-47d7-e366-bbaec3e2cd81",
        "colab": {
          "base_uri": "https://localhost:8080/",
          "height": 1000
        }
      },
      "source": [
        "\n",
        "EPOCHS = 30\n",
        "for epoch in range(EPOCHS):\n",
        "    print(\"EPOCH:\", epoch+1,\"lr:\",optimizer.param_groups[0]['lr'])\n",
        "    train_and_test.train(model, device, trainloader, optimizer, criterion, epoch)\n",
        "    scheduler.step()\n",
        "    train_and_test.test(model, device, criterion, testloader)"
      ],
      "execution_count": 8,
      "outputs": [
        {
          "output_type": "stream",
          "text": [
            "\r  0%|          | 0/391 [00:00<?, ?it/s]"
          ],
          "name": "stderr"
        },
        {
          "output_type": "stream",
          "text": [
            "EPOCH: 1 lr: 0.1\n"
          ],
          "name": "stdout"
        },
        {
          "output_type": "stream",
          "text": [
            "Loss=1.2922406196594238 Batch_id=390 Accuracy=48.35: 100%|██████████| 391/391 [00:12<00:00, 36.94it/s]\n",
            "  0%|          | 0/391 [00:00<?, ?it/s]"
          ],
          "name": "stderr"
        },
        {
          "output_type": "stream",
          "text": [
            "\n",
            "Test set: Average loss: 0.0088, Accuracy: 6020/10000 (60.20%)\n",
            "\n",
            "EPOCH: 2 lr: 0.1\n"
          ],
          "name": "stdout"
        },
        {
          "output_type": "stream",
          "text": [
            "Loss=0.9983938932418823 Batch_id=390 Accuracy=63.82: 100%|██████████| 391/391 [00:12<00:00, 30.56it/s]\n",
            "  0%|          | 0/391 [00:00<?, ?it/s]"
          ],
          "name": "stderr"
        },
        {
          "output_type": "stream",
          "text": [
            "\n",
            "Test set: Average loss: 0.0076, Accuracy: 6701/10000 (67.01%)\n",
            "\n",
            "EPOCH: 3 lr: 0.1\n"
          ],
          "name": "stdout"
        },
        {
          "output_type": "stream",
          "text": [
            "Loss=0.9969171285629272 Batch_id=390 Accuracy=69.07: 100%|██████████| 391/391 [00:12<00:00, 30.78it/s]\n",
            "  0%|          | 0/391 [00:00<?, ?it/s]"
          ],
          "name": "stderr"
        },
        {
          "output_type": "stream",
          "text": [
            "\n",
            "Test set: Average loss: 0.0063, Accuracy: 7208/10000 (72.08%)\n",
            "\n",
            "EPOCH: 4 lr: 0.1\n"
          ],
          "name": "stdout"
        },
        {
          "output_type": "stream",
          "text": [
            "Loss=0.7277615070343018 Batch_id=390 Accuracy=72.14: 100%|██████████| 391/391 [00:12<00:00, 36.99it/s]\n",
            "  0%|          | 0/391 [00:00<?, ?it/s]"
          ],
          "name": "stderr"
        },
        {
          "output_type": "stream",
          "text": [
            "\n",
            "Test set: Average loss: 0.0060, Accuracy: 7363/10000 (73.63%)\n",
            "\n",
            "EPOCH: 5 lr: 0.1\n"
          ],
          "name": "stdout"
        },
        {
          "output_type": "stream",
          "text": [
            "Loss=0.8801579475402832 Batch_id=390 Accuracy=74.51: 100%|██████████| 391/391 [00:12<00:00, 30.46it/s]\n",
            "  0%|          | 0/391 [00:00<?, ?it/s]"
          ],
          "name": "stderr"
        },
        {
          "output_type": "stream",
          "text": [
            "\n",
            "Test set: Average loss: 0.0063, Accuracy: 7295/10000 (72.95%)\n",
            "\n",
            "EPOCH: 6 lr: 0.1\n"
          ],
          "name": "stdout"
        },
        {
          "output_type": "stream",
          "text": [
            "Loss=0.7661792039871216 Batch_id=390 Accuracy=76.13: 100%|██████████| 391/391 [00:12<00:00, 30.62it/s]\n",
            "  0%|          | 0/391 [00:00<?, ?it/s]"
          ],
          "name": "stderr"
        },
        {
          "output_type": "stream",
          "text": [
            "\n",
            "Test set: Average loss: 0.0064, Accuracy: 7310/10000 (73.10%)\n",
            "\n",
            "EPOCH: 7 lr: 0.1\n"
          ],
          "name": "stdout"
        },
        {
          "output_type": "stream",
          "text": [
            "Loss=0.6109440922737122 Batch_id=390 Accuracy=77.46: 100%|██████████| 391/391 [00:12<00:00, 31.09it/s]\n",
            "  0%|          | 0/391 [00:00<?, ?it/s]"
          ],
          "name": "stderr"
        },
        {
          "output_type": "stream",
          "text": [
            "\n",
            "Test set: Average loss: 0.0055, Accuracy: 7677/10000 (76.77%)\n",
            "\n",
            "EPOCH: 8 lr: 0.1\n"
          ],
          "name": "stdout"
        },
        {
          "output_type": "stream",
          "text": [
            "Loss=0.3921006917953491 Batch_id=390 Accuracy=78.61: 100%|██████████| 391/391 [00:12<00:00, 30.76it/s]\n",
            "  0%|          | 0/391 [00:00<?, ?it/s]"
          ],
          "name": "stderr"
        },
        {
          "output_type": "stream",
          "text": [
            "\n",
            "Test set: Average loss: 0.0053, Accuracy: 7751/10000 (77.51%)\n",
            "\n",
            "EPOCH: 9 lr: 0.1\n"
          ],
          "name": "stdout"
        },
        {
          "output_type": "stream",
          "text": [
            "Loss=0.6558874249458313 Batch_id=390 Accuracy=79.59: 100%|██████████| 391/391 [00:12<00:00, 31.10it/s]\n",
            "  0%|          | 0/391 [00:00<?, ?it/s]"
          ],
          "name": "stderr"
        },
        {
          "output_type": "stream",
          "text": [
            "\n",
            "Test set: Average loss: 0.0052, Accuracy: 7765/10000 (77.65%)\n",
            "\n",
            "EPOCH: 10 lr: 0.1\n"
          ],
          "name": "stdout"
        },
        {
          "output_type": "stream",
          "text": [
            "Loss=0.44370555877685547 Batch_id=390 Accuracy=80.01: 100%|██████████| 391/391 [00:12<00:00, 38.17it/s]\n",
            "  0%|          | 0/391 [00:00<?, ?it/s]"
          ],
          "name": "stderr"
        },
        {
          "output_type": "stream",
          "text": [
            "\n",
            "Test set: Average loss: 0.0050, Accuracy: 7886/10000 (78.86%)\n",
            "\n",
            "EPOCH: 11 lr: 0.1\n"
          ],
          "name": "stdout"
        },
        {
          "output_type": "stream",
          "text": [
            "Loss=0.672635018825531 Batch_id=390 Accuracy=80.83: 100%|██████████| 391/391 [00:12<00:00, 30.93it/s]\n",
            "  0%|          | 0/391 [00:00<?, ?it/s]"
          ],
          "name": "stderr"
        },
        {
          "output_type": "stream",
          "text": [
            "\n",
            "Test set: Average loss: 0.0050, Accuracy: 7860/10000 (78.60%)\n",
            "\n",
            "EPOCH: 12 lr: 0.1\n"
          ],
          "name": "stdout"
        },
        {
          "output_type": "stream",
          "text": [
            "Loss=0.47560447454452515 Batch_id=390 Accuracy=81.48: 100%|██████████| 391/391 [00:12<00:00, 31.36it/s]\n",
            "  0%|          | 0/391 [00:00<?, ?it/s]"
          ],
          "name": "stderr"
        },
        {
          "output_type": "stream",
          "text": [
            "\n",
            "Test set: Average loss: 0.0051, Accuracy: 7836/10000 (78.36%)\n",
            "\n",
            "EPOCH: 13 lr: 0.010000000000000002\n"
          ],
          "name": "stdout"
        },
        {
          "output_type": "stream",
          "text": [
            "Loss=0.367512583732605 Batch_id=390 Accuracy=84.92: 100%|██████████| 391/391 [00:12<00:00, 38.38it/s]\n",
            "  0%|          | 0/391 [00:00<?, ?it/s]"
          ],
          "name": "stderr"
        },
        {
          "output_type": "stream",
          "text": [
            "\n",
            "Test set: Average loss: 0.0045, Accuracy: 8090/10000 (80.90%)\n",
            "\n",
            "EPOCH: 14 lr: 0.010000000000000002\n"
          ],
          "name": "stdout"
        },
        {
          "output_type": "stream",
          "text": [
            "Loss=0.578126072883606 Batch_id=390 Accuracy=86.00: 100%|██████████| 391/391 [00:12<00:00, 37.61it/s]\n",
            "  0%|          | 0/391 [00:00<?, ?it/s]"
          ],
          "name": "stderr"
        },
        {
          "output_type": "stream",
          "text": [
            "\n",
            "Test set: Average loss: 0.0045, Accuracy: 8110/10000 (81.10%)\n",
            "\n",
            "EPOCH: 15 lr: 0.010000000000000002\n"
          ],
          "name": "stdout"
        },
        {
          "output_type": "stream",
          "text": [
            "Loss=0.4585985541343689 Batch_id=390 Accuracy=86.25: 100%|██████████| 391/391 [00:12<00:00, 31.35it/s]\n",
            "  0%|          | 0/391 [00:00<?, ?it/s]"
          ],
          "name": "stderr"
        },
        {
          "output_type": "stream",
          "text": [
            "\n",
            "Test set: Average loss: 0.0046, Accuracy: 8116/10000 (81.16%)\n",
            "\n",
            "EPOCH: 16 lr: 0.010000000000000002\n"
          ],
          "name": "stdout"
        },
        {
          "output_type": "stream",
          "text": [
            "Loss=0.4888301491737366 Batch_id=390 Accuracy=86.46: 100%|██████████| 391/391 [00:12<00:00, 31.61it/s]\n",
            "  0%|          | 0/391 [00:00<?, ?it/s]"
          ],
          "name": "stderr"
        },
        {
          "output_type": "stream",
          "text": [
            "\n",
            "Test set: Average loss: 0.0045, Accuracy: 8130/10000 (81.30%)\n",
            "\n",
            "EPOCH: 17 lr: 0.010000000000000002\n"
          ],
          "name": "stdout"
        },
        {
          "output_type": "stream",
          "text": [
            "Loss=0.468496710062027 Batch_id=390 Accuracy=86.76: 100%|██████████| 391/391 [00:12<00:00, 31.89it/s]\n",
            "  0%|          | 0/391 [00:00<?, ?it/s]"
          ],
          "name": "stderr"
        },
        {
          "output_type": "stream",
          "text": [
            "\n",
            "Test set: Average loss: 0.0046, Accuracy: 8154/10000 (81.54%)\n",
            "\n",
            "EPOCH: 18 lr: 0.010000000000000002\n"
          ],
          "name": "stdout"
        },
        {
          "output_type": "stream",
          "text": [
            "Loss=0.3006743788719177 Batch_id=390 Accuracy=86.73: 100%|██████████| 391/391 [00:12<00:00, 31.70it/s]\n",
            "  0%|          | 0/391 [00:00<?, ?it/s]"
          ],
          "name": "stderr"
        },
        {
          "output_type": "stream",
          "text": [
            "\n",
            "Test set: Average loss: 0.0045, Accuracy: 8157/10000 (81.57%)\n",
            "\n",
            "EPOCH: 19 lr: 0.010000000000000002\n"
          ],
          "name": "stdout"
        },
        {
          "output_type": "stream",
          "text": [
            "Loss=0.41136565804481506 Batch_id=390 Accuracy=87.01: 100%|██████████| 391/391 [00:12<00:00, 32.00it/s]\n",
            "  0%|          | 0/391 [00:00<?, ?it/s]"
          ],
          "name": "stderr"
        },
        {
          "output_type": "stream",
          "text": [
            "\n",
            "Test set: Average loss: 0.0046, Accuracy: 8169/10000 (81.69%)\n",
            "\n",
            "EPOCH: 20 lr: 0.010000000000000002\n"
          ],
          "name": "stdout"
        },
        {
          "output_type": "stream",
          "text": [
            "Loss=0.41222715377807617 Batch_id=390 Accuracy=87.14: 100%|██████████| 391/391 [00:12<00:00, 31.85it/s]\n",
            "  0%|          | 0/391 [00:00<?, ?it/s]"
          ],
          "name": "stderr"
        },
        {
          "output_type": "stream",
          "text": [
            "\n",
            "Test set: Average loss: 0.0045, Accuracy: 8173/10000 (81.73%)\n",
            "\n",
            "EPOCH: 21 lr: 0.010000000000000002\n"
          ],
          "name": "stdout"
        },
        {
          "output_type": "stream",
          "text": [
            "Loss=0.32827746868133545 Batch_id=390 Accuracy=87.34: 100%|██████████| 391/391 [00:12<00:00, 31.91it/s]\n",
            "  0%|          | 0/391 [00:00<?, ?it/s]"
          ],
          "name": "stderr"
        },
        {
          "output_type": "stream",
          "text": [
            "\n",
            "Test set: Average loss: 0.0046, Accuracy: 8144/10000 (81.44%)\n",
            "\n",
            "EPOCH: 22 lr: 0.010000000000000002\n"
          ],
          "name": "stdout"
        },
        {
          "output_type": "stream",
          "text": [
            "Loss=0.5531190037727356 Batch_id=390 Accuracy=87.54: 100%|██████████| 391/391 [00:12<00:00, 31.41it/s]\n",
            "  0%|          | 0/391 [00:00<?, ?it/s]"
          ],
          "name": "stderr"
        },
        {
          "output_type": "stream",
          "text": [
            "\n",
            "Test set: Average loss: 0.0047, Accuracy: 8148/10000 (81.48%)\n",
            "\n",
            "EPOCH: 23 lr: 0.010000000000000002\n"
          ],
          "name": "stdout"
        },
        {
          "output_type": "stream",
          "text": [
            "Loss=0.37740805745124817 Batch_id=390 Accuracy=87.67: 100%|██████████| 391/391 [00:12<00:00, 31.78it/s]\n",
            "  0%|          | 0/391 [00:00<?, ?it/s]"
          ],
          "name": "stderr"
        },
        {
          "output_type": "stream",
          "text": [
            "\n",
            "Test set: Average loss: 0.0046, Accuracy: 8135/10000 (81.35%)\n",
            "\n",
            "EPOCH: 24 lr: 0.010000000000000002\n"
          ],
          "name": "stdout"
        },
        {
          "output_type": "stream",
          "text": [
            "Loss=0.28552573919296265 Batch_id=390 Accuracy=87.62: 100%|██████████| 391/391 [00:12<00:00, 31.65it/s]\n",
            "  0%|          | 0/391 [00:00<?, ?it/s]"
          ],
          "name": "stderr"
        },
        {
          "output_type": "stream",
          "text": [
            "\n",
            "Test set: Average loss: 0.0046, Accuracy: 8167/10000 (81.67%)\n",
            "\n",
            "EPOCH: 25 lr: 0.0010000000000000002\n"
          ],
          "name": "stdout"
        },
        {
          "output_type": "stream",
          "text": [
            "Loss=0.5685023665428162 Batch_id=390 Accuracy=88.14: 100%|██████████| 391/391 [00:12<00:00, 31.88it/s]\n",
            "  0%|          | 0/391 [00:00<?, ?it/s]"
          ],
          "name": "stderr"
        },
        {
          "output_type": "stream",
          "text": [
            "\n",
            "Test set: Average loss: 0.0046, Accuracy: 8170/10000 (81.70%)\n",
            "\n",
            "EPOCH: 26 lr: 0.0010000000000000002\n"
          ],
          "name": "stdout"
        },
        {
          "output_type": "stream",
          "text": [
            "Loss=0.45779576897621155 Batch_id=390 Accuracy=88.48: 100%|██████████| 391/391 [00:12<00:00, 31.20it/s]\n",
            "  0%|          | 0/391 [00:00<?, ?it/s]"
          ],
          "name": "stderr"
        },
        {
          "output_type": "stream",
          "text": [
            "\n",
            "Test set: Average loss: 0.0046, Accuracy: 8188/10000 (81.88%)\n",
            "\n",
            "EPOCH: 27 lr: 0.0010000000000000002\n"
          ],
          "name": "stdout"
        },
        {
          "output_type": "stream",
          "text": [
            "Loss=0.18011918663978577 Batch_id=390 Accuracy=88.36: 100%|██████████| 391/391 [00:12<00:00, 31.00it/s]\n",
            "  0%|          | 0/391 [00:00<?, ?it/s]"
          ],
          "name": "stderr"
        },
        {
          "output_type": "stream",
          "text": [
            "\n",
            "Test set: Average loss: 0.0046, Accuracy: 8172/10000 (81.72%)\n",
            "\n",
            "EPOCH: 28 lr: 0.0010000000000000002\n"
          ],
          "name": "stdout"
        },
        {
          "output_type": "stream",
          "text": [
            "Loss=0.4832134246826172 Batch_id=390 Accuracy=88.16: 100%|██████████| 391/391 [00:12<00:00, 36.06it/s]\n",
            "  0%|          | 0/391 [00:00<?, ?it/s]"
          ],
          "name": "stderr"
        },
        {
          "output_type": "stream",
          "text": [
            "\n",
            "Test set: Average loss: 0.0046, Accuracy: 8181/10000 (81.81%)\n",
            "\n",
            "EPOCH: 29 lr: 0.0010000000000000002\n"
          ],
          "name": "stdout"
        },
        {
          "output_type": "stream",
          "text": [
            "Loss=0.27454692125320435 Batch_id=390 Accuracy=88.55: 100%|██████████| 391/391 [00:12<00:00, 30.11it/s]\n",
            "  0%|          | 0/391 [00:00<?, ?it/s]"
          ],
          "name": "stderr"
        },
        {
          "output_type": "stream",
          "text": [
            "\n",
            "Test set: Average loss: 0.0046, Accuracy: 8183/10000 (81.83%)\n",
            "\n",
            "EPOCH: 30 lr: 0.0010000000000000002\n"
          ],
          "name": "stdout"
        },
        {
          "output_type": "stream",
          "text": [
            "Loss=0.38076451420783997 Batch_id=390 Accuracy=88.34: 100%|██████████| 391/391 [00:12<00:00, 30.55it/s]\n"
          ],
          "name": "stderr"
        },
        {
          "output_type": "stream",
          "text": [
            "\n",
            "Test set: Average loss: 0.0046, Accuracy: 8176/10000 (81.76%)\n",
            "\n"
          ],
          "name": "stdout"
        }
      ]
    },
    {
      "cell_type": "code",
      "metadata": {
        "id": "ALThI24lDLXn",
        "colab_type": "code",
        "outputId": "8eff7fc2-919d-4287-89db-50bdfe0ba0d6",
        "colab": {
          "base_uri": "https://localhost:8080/",
          "height": 154
        }
      },
      "source": [
        "evaluate.show_predicted_actual(model, device, testloader, classes)"
      ],
      "execution_count": 9,
      "outputs": [
        {
          "output_type": "stream",
          "text": [
            "GroundTruth:   bird   cat   car   dog   car\n",
            "Predicted:  horse   cat   car  bird   car\n"
          ],
          "name": "stdout"
        },
        {
          "output_type": "display_data",
          "data": {
            "image/png": "[encoded data removed]",
            "text/plain": [
              "<Figure size 432x288 with 1 Axes>"
            ]
          },
          "metadata": {
            "tags": []
          }
        }
      ]
    },
    {
      "cell_type": "code",
      "metadata": {
        "id": "GdxrItSeDLlX",
        "colab_type": "code",
        "outputId": "a36b5313-98dd-471c-e0e3-513cee886f18",
        "colab": {
          "base_uri": "https://localhost:8080/",
          "height": 34
        }
      },
      "source": [
        "evaluate.evaluate_accuracy(model, device, testloader)"
      ],
      "execution_count": 10,
      "outputs": [
        {
          "output_type": "stream",
          "text": [
            "Accuracy of the network on the 10000 test images: 81 %\n"
          ],
          "name": "stdout"
        }
      ]
    },
    {
      "cell_type": "code",
      "metadata": {
        "id": "0mEFsGkeDL6f",
        "colab_type": "code",
        "outputId": "b0980618-e331-4752-ba44-5e0342df9b28",
        "colab": {
          "base_uri": "https://localhost:8080/",
          "height": 185
        }
      },
      "source": [
        "evaluate.evaluate_classwise_accuracy(model, device, classes, testloader)"
      ],
      "execution_count": 11,
      "outputs": [
        {
          "output_type": "stream",
          "text": [
            "Accuracy of plane : 85 %\n",
            "Accuracy of   car : 88 %\n",
            "Accuracy of  bird : 73 %\n",
            "Accuracy of   cat : 68 %\n",
            "Accuracy of  deer : 83 %\n",
            "Accuracy of   dog : 76 %\n",
            "Accuracy of  frog : 82 %\n",
            "Accuracy of horse : 84 %\n",
            "Accuracy of  ship : 96 %\n",
            "Accuracy of truck : 85 %\n"
          ],
          "name": "stdout"
        }
      ]
    },
    {
      "cell_type": "code",
      "metadata": {
        "id": "9bTgxbcOGDDk",
        "colab_type": "code",
        "colab": {}
      },
      "source": [
        ""
      ],
      "execution_count": 0,
      "outputs": []
    }
  ]
}