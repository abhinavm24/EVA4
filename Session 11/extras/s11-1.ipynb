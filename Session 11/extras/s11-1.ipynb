{
  "nbformat": 4,
  "nbformat_minor": 0,
  "metadata": {
    "colab": {
      "name": "s11.ipynb",
      "provenance": [],
      "collapsed_sections": [],
      "authorship_tag": "ABX9TyN76XUK1EvsfKL6Za7ZUKuq",
      "include_colab_link": true
    },
    "kernelspec": {
      "name": "python3",
      "display_name": "Python 3"
    },
    "accelerator": "GPU"
  },
  "cells": [
    {
      "cell_type": "markdown",
      "metadata": {
        "id": "view-in-github",
        "colab_type": "text"
      },
      "source": [
        "<a href=\"https://colab.research.google.com/github/mshilpaa/EVA4/blob/master/Session%2011/extras/s11-1.ipynb\" target=\"_parent\"><img src=\"https://colab.research.google.com/assets/colab-badge.svg\" alt=\"Open In Colab\"/></a>"
      ]
    },
    {
      "cell_type": "code",
      "metadata": {
        "id": "wED9Yxoo3T9O",
        "colab_type": "code",
        "outputId": "1d244afa-a1fd-4da2-c493-e27399df5fbb",
        "colab": {
          "base_uri": "https://localhost:8080/",
          "height": 541
        }
      },
      "source": [
        "!pip install -U git+https://github.com/albu/albumentations"
      ],
      "execution_count": 1,
      "outputs": [
        {
          "output_type": "stream",
          "text": [
            "Collecting git+https://github.com/albu/albumentations\n",
            "  Cloning https://github.com/albu/albumentations to /tmp/pip-req-build-khc357tn\n",
            "  Running command git clone -q https://github.com/albu/albumentations /tmp/pip-req-build-khc357tn\n",
            "Requirement already satisfied, skipping upgrade: numpy>=1.11.1 in /usr/local/lib/python3.6/dist-packages (from albumentations==0.4.5) (1.18.2)\n",
            "Requirement already satisfied, skipping upgrade: scipy in /usr/local/lib/python3.6/dist-packages (from albumentations==0.4.5) (1.4.1)\n",
            "Requirement already satisfied, skipping upgrade: imgaug<0.2.7,>=0.2.5 in /usr/local/lib/python3.6/dist-packages (from albumentations==0.4.5) (0.2.6)\n",
            "Requirement already satisfied, skipping upgrade: PyYAML in /usr/local/lib/python3.6/dist-packages (from albumentations==0.4.5) (3.13)\n",
            "Requirement already satisfied, skipping upgrade: opencv-python>=4.1.1 in /usr/local/lib/python3.6/dist-packages (from albumentations==0.4.5) (4.1.2.30)\n",
            "Requirement already satisfied, skipping upgrade: scikit-image>=0.11.0 in /usr/local/lib/python3.6/dist-packages (from imgaug<0.2.7,>=0.2.5->albumentations==0.4.5) (0.16.2)\n",
            "Requirement already satisfied, skipping upgrade: six in /usr/local/lib/python3.6/dist-packages (from imgaug<0.2.7,>=0.2.5->albumentations==0.4.5) (1.12.0)\n",
            "Requirement already satisfied, skipping upgrade: matplotlib!=3.0.0,>=2.0.0 in /usr/local/lib/python3.6/dist-packages (from scikit-image>=0.11.0->imgaug<0.2.7,>=0.2.5->albumentations==0.4.5) (3.2.1)\n",
            "Requirement already satisfied, skipping upgrade: imageio>=2.3.0 in /usr/local/lib/python3.6/dist-packages (from scikit-image>=0.11.0->imgaug<0.2.7,>=0.2.5->albumentations==0.4.5) (2.4.1)\n",
            "Requirement already satisfied, skipping upgrade: networkx>=2.0 in /usr/local/lib/python3.6/dist-packages (from scikit-image>=0.11.0->imgaug<0.2.7,>=0.2.5->albumentations==0.4.5) (2.4)\n",
            "Requirement already satisfied, skipping upgrade: pillow>=4.3.0 in /usr/local/lib/python3.6/dist-packages (from scikit-image>=0.11.0->imgaug<0.2.7,>=0.2.5->albumentations==0.4.5) (7.0.0)\n",
            "Requirement already satisfied, skipping upgrade: PyWavelets>=0.4.0 in /usr/local/lib/python3.6/dist-packages (from scikit-image>=0.11.0->imgaug<0.2.7,>=0.2.5->albumentations==0.4.5) (1.1.1)\n",
            "Requirement already satisfied, skipping upgrade: kiwisolver>=1.0.1 in /usr/local/lib/python3.6/dist-packages (from matplotlib!=3.0.0,>=2.0.0->scikit-image>=0.11.0->imgaug<0.2.7,>=0.2.5->albumentations==0.4.5) (1.2.0)\n",
            "Requirement already satisfied, skipping upgrade: pyparsing!=2.0.4,!=2.1.2,!=2.1.6,>=2.0.1 in /usr/local/lib/python3.6/dist-packages (from matplotlib!=3.0.0,>=2.0.0->scikit-image>=0.11.0->imgaug<0.2.7,>=0.2.5->albumentations==0.4.5) (2.4.6)\n",
            "Requirement already satisfied, skipping upgrade: cycler>=0.10 in /usr/local/lib/python3.6/dist-packages (from matplotlib!=3.0.0,>=2.0.0->scikit-image>=0.11.0->imgaug<0.2.7,>=0.2.5->albumentations==0.4.5) (0.10.0)\n",
            "Requirement already satisfied, skipping upgrade: python-dateutil>=2.1 in /usr/local/lib/python3.6/dist-packages (from matplotlib!=3.0.0,>=2.0.0->scikit-image>=0.11.0->imgaug<0.2.7,>=0.2.5->albumentations==0.4.5) (2.8.1)\n",
            "Requirement already satisfied, skipping upgrade: decorator>=4.3.0 in /usr/local/lib/python3.6/dist-packages (from networkx>=2.0->scikit-image>=0.11.0->imgaug<0.2.7,>=0.2.5->albumentations==0.4.5) (4.4.2)\n",
            "Building wheels for collected packages: albumentations\n",
            "  Building wheel for albumentations (setup.py) ... \u001b[?25l\u001b[?25hdone\n",
            "  Created wheel for albumentations: filename=albumentations-0.4.5-cp36-none-any.whl size=65099 sha256=8d5381a2baaf49a6e8a44c5194e119ca658bfe1044c80f0be7b4c66c25edf3ec\n",
            "  Stored in directory: /tmp/pip-ephem-wheel-cache-4dxnrdyf/wheels/45/8b/e4/2837bbcf517d00732b8e394f8646f22b8723ac00993230188b\n",
            "Successfully built albumentations\n",
            "Installing collected packages: albumentations\n",
            "  Found existing installation: albumentations 0.4.5\n",
            "    Uninstalling albumentations-0.4.5:\n",
            "      Successfully uninstalled albumentations-0.4.5\n",
            "Successfully installed albumentations-0.4.5\n"
          ],
          "name": "stdout"
        }
      ]
    },
    {
      "cell_type": "code",
      "metadata": {
        "id": "7bO4KQZ2BnVd",
        "colab_type": "code",
        "outputId": "990c8034-5d3f-4a3b-8522-4d1c9a7acfa8",
        "colab": {
          "base_uri": "https://localhost:8080/",
          "height": 34
        }
      },
      "source": [
        "# mount gdrive and unzip data\n",
        "from google.colab import drive\n",
        "drive.mount('/content/gdrive')"
      ],
      "execution_count": 2,
      "outputs": [
        {
          "output_type": "stream",
          "text": [
            "Drive already mounted at /content/gdrive; to attempt to forcibly remount, call drive.mount(\"/content/gdrive\", force_remount=True).\n"
          ],
          "name": "stdout"
        }
      ]
    },
    {
      "cell_type": "code",
      "metadata": {
        "id": "MBVKqzwAl-Cd",
        "colab_type": "code",
        "outputId": "83968fcf-a84b-4e43-b501-6b576c620d4e",
        "colab": {
          "base_uri": "https://localhost:8080/",
          "height": 34
        }
      },
      "source": [
        "drive.mount(\"/content/gdrive\", force_remount=True)"
      ],
      "execution_count": 3,
      "outputs": [
        {
          "output_type": "stream",
          "text": [
            "Mounted at /content/gdrive\n"
          ],
          "name": "stdout"
        }
      ]
    },
    {
      "cell_type": "code",
      "metadata": {
        "id": "zuVC28FuBrx_",
        "colab_type": "code",
        "colab": {}
      },
      "source": [
        "import sys\n",
        "folder = '/content/gdrive/My Drive/Colab Notebooks/eva_files'\n",
        "sys.path.append(folder)"
      ],
      "execution_count": 0,
      "outputs": []
    },
    {
      "cell_type": "code",
      "metadata": {
        "id": "KQfrOaeWCAeC",
        "colab_type": "code",
        "outputId": "e0b76ec1-c5fe-4f62-ece0-b434fee79358",
        "colab": {
          "base_uri": "https://localhost:8080/",
          "height": 50
        }
      },
      "source": [
        "%matplotlib inline\n",
        "import torch\n",
        "import data_loading\n",
        "import show_images\n",
        "import dnn_architecture\n",
        "import train_and_test\n",
        "import evaluate\n",
        "import gradcam\n",
        "import lr_finder"
      ],
      "execution_count": 5,
      "outputs": [
        {
          "output_type": "stream",
          "text": [
            "WARNING:lr_finder:To enable mixed precision training, please install `apex`. Or you can re-install this package by the following command:\n",
            "  pip install torch-lr-finder -v --global-option=\"amp\"\n"
          ],
          "name": "stderr"
        }
      ]
    },
    {
      "cell_type": "code",
      "metadata": {
        "id": "2QSmIwTQdghy",
        "colab_type": "code",
        "outputId": "38e22cf3-328a-4a7d-d2c8-1eea9f1e716b",
        "colab": {
          "base_uri": "https://localhost:8080/",
          "height": 222
        }
      },
      "source": [
        "import albumentations as A\n",
        "import cv2\n",
        "\n",
        "train_aug = [A.PadIfNeeded(border_mode=cv2.BORDER_REPLICATE, p=1.0),\n",
        "             A.RandomCrop(32, 32, always_apply=False, p=1.0),\n",
        "             A.HorizontalFlip(),\n",
        "             A.Cutout(num_holes=2, max_h_size=8,max_w_size = 8,p=1,fill_value=0.5*255), # after normalizing as mean is 0, thus fillvalue=0\n",
        "             A.Normalize(mean=(0.5,0.5,0.5), std=(0.5,0.5,0.5)),]\n",
        "\n",
        "classes, trainloader, testloader = data_loading.load(train_augmentation = train_aug,mode='default_test_aug',gpu_batch_size=512)\n",
        "\n",
        "show_images.show_random_images(trainloader, classes)"
      ],
      "execution_count": 6,
      "outputs": [
        {
          "output_type": "stream",
          "text": [
            "Files already downloaded and verified\n",
            "Files already downloaded and verified\n",
            "CUDA Available? True\n",
            "shape: torch.Size([512, 3, 32, 32])\n",
            "  cat truck truck   cat\n"
          ],
          "name": "stdout"
        },
        {
          "output_type": "display_data",
          "data": {
            "image/png": "[encoded data removed]",
            "text/plain": [
              "<Figure size 432x288 with 1 Axes>"
            ]
          },
          "metadata": {
            "tags": []
          }
        }
      ]
    },
    {
      "cell_type": "code",
      "metadata": {
        "id": "VeT3XDOJQmqq",
        "colab_type": "code",
        "colab": {
          "base_uri": "https://localhost:8080/",
          "height": 222
        },
        "outputId": "89be16c0-adcc-4557-bd9e-9bb898894158"
      },
      "source": [
        "import albumentations as A\n",
        "import cv2\n",
        "\n",
        "train_aug = [A.PadIfNeeded(border_mode=cv2.BORDER_CONSTANT,value=2,mask_value=2, p=1.0),\n",
        "             A.RandomCrop(32, 32, always_apply=False, p=1.0),\n",
        "             A.HorizontalFlip(),\n",
        "             A.Cutout(num_holes=2, max_h_size=8,max_w_size = 8,p=1,fill_value=0.5*255), # after normalizing as mean is 0, thus fillvalue=0\n",
        "             A.Normalize(mean=(0.5,0.5,0.5), std=(0.5,0.5,0.5)),]\n",
        "\n",
        "classes, trainloader, testloader = data_loading.load(train_augmentation = train_aug,mode='default_test_aug',gpu_batch_size=512)\n",
        "\n",
        "show_images.show_random_images(trainloader, classes)"
      ],
      "execution_count": 39,
      "outputs": [
        {
          "output_type": "stream",
          "text": [
            "Files already downloaded and verified\n",
            "Files already downloaded and verified\n",
            "CUDA Available? True\n",
            "shape: torch.Size([512, 3, 32, 32])\n",
            "  cat truck truck   cat\n"
          ],
          "name": "stdout"
        },
        {
          "output_type": "display_data",
          "data": {
            "image/png": "[encoded data removed]",
            "text/plain": [
              "<Figure size 432x288 with 1 Axes>"
            ]
          },
          "metadata": {
            "tags": []
          }
        }
      ]
    },
    {
      "cell_type": "code",
      "metadata": {
        "id": "x9_phK0ndjoi",
        "colab_type": "code",
        "outputId": "4392abdf-b0af-487d-80e5-fdc6a264f54d",
        "colab": {
          "base_uri": "https://localhost:8080/",
          "height": 67
        }
      },
      "source": [
        "import albumentations as A\n",
        "train_aug = [A.PadIfNeeded(min_height=36, min_width=36,p=1.0),\n",
        "            #  A.RandomCrop(32, 32, always_apply=False, p=1.0),\n",
        "             A.HorizontalFlip(),\n",
        "             A.Cutout(num_holes=2, max_h_size=8,max_w_size = 8,p=1,fill_value=0.5*255), # after normalizing as mean is 0, thus fillvalue=0\n",
        "             A.Normalize(mean=(0.5,0.5,0.5), std=(0.5,0.5,0.5)),]\n",
        "\n",
        "classes, trainloader, testloader = data_loading.load(train_augmentation = train_aug,mode='default_test_aug',gpu_batch_size=512)\n"
      ],
      "execution_count": 7,
      "outputs": [
        {
          "output_type": "stream",
          "text": [
            "Files already downloaded and verified\n",
            "Files already downloaded and verified\n",
            "CUDA Available? True\n"
          ],
          "name": "stdout"
        }
      ]
    },
    {
      "cell_type": "markdown",
      "metadata": {
        "id": "qNP4q-nPdAwF",
        "colab_type": "text"
      },
      "source": [
        "to see if padding is applied"
      ]
    },
    {
      "cell_type": "code",
      "metadata": {
        "id": "lZHZDu8sg90Q",
        "colab_type": "code",
        "outputId": "02a6307a-98ad-49fe-c5ac-f1fb40de8489",
        "colab": {
          "base_uri": "https://localhost:8080/",
          "height": 172
        }
      },
      "source": [
        "show_images.show_random_images(trainloader, classes)"
      ],
      "execution_count": 8,
      "outputs": [
        {
          "output_type": "stream",
          "text": [
            "shape: torch.Size([512, 3, 36, 36])\n",
            "  cat truck truck   cat\n"
          ],
          "name": "stdout"
        },
        {
          "output_type": "display_data",
          "data": {
            "image/png": "[encoded data removed]",
            "text/plain": [
              "<Figure size 432x288 with 1 Axes>"
            ]
          },
          "metadata": {
            "tags": []
          }
        }
      ]
    },
    {
      "cell_type": "code",
      "metadata": {
        "colab_type": "code",
        "outputId": "176e0f3c-0111-40ab-af0d-46bb0a31f123",
        "id": "vspoFi4rg0Lh",
        "colab": {
          "base_uri": "https://localhost:8080/",
          "height": 67
        }
      },
      "source": [
        "import albumentations as A\n",
        "train_aug = [A.RandomCrop(32, 32, always_apply=False, p=1.0),\n",
        "             A.HorizontalFlip(),\n",
        "             A.Cutout(num_holes=2, max_h_size=8,max_w_size = 8,p=1,fill_value=0.5*255), # after normalizing as mean is 0, thus fillvalue=0\n",
        "             A.Normalize(mean=(0.5,0.5,0.5), std=(0.5,0.5,0.5)),]\n",
        "\n",
        "classes, trainloader, testloader = data_loading.load(train_augmentation = train_aug,mode='default_test_aug')"
      ],
      "execution_count": 9,
      "outputs": [
        {
          "output_type": "stream",
          "text": [
            "Files already downloaded and verified\n",
            "Files already downloaded and verified\n",
            "CUDA Available? True\n"
          ],
          "name": "stdout"
        }
      ]
    },
    {
      "cell_type": "code",
      "metadata": {
        "id": "2WQOV5JOCcdh",
        "colab_type": "code",
        "outputId": "b71212d9-929a-4478-8fde-0334f04f49c3",
        "colab": {
          "base_uri": "https://localhost:8080/",
          "height": 172
        }
      },
      "source": [
        "show_images.show_random_images(trainloader, classes)"
      ],
      "execution_count": 10,
      "outputs": [
        {
          "output_type": "stream",
          "text": [
            "shape: torch.Size([128, 3, 32, 32])\n",
            "  cat truck truck   cat\n"
          ],
          "name": "stdout"
        },
        {
          "output_type": "display_data",
          "data": {
            "image/png": "[encoded data removed]",
            "text/plain": [
              "<Figure size 432x288 with 1 Axes>"
            ]
          },
          "metadata": {
            "tags": []
          }
        }
      ]
    },
    {
      "cell_type": "code",
      "metadata": {
        "id": "dYRNp4DRdfHE",
        "colab_type": "code",
        "outputId": "701ddbc6-e491-46f4-9d49-6c28f15c722e",
        "colab": {
          "base_uri": "https://localhost:8080/",
          "height": 67
        }
      },
      "source": [
        "import albumentations as A\n",
        "train_aug = [A.PadIfNeeded(min_height=36, min_width=36,p=1.0),\n",
        "             A.RandomCrop(32, 32, always_apply=False, p=1.0),\n",
        "             A.HorizontalFlip(),\n",
        "             A.Cutout(num_holes=2, max_h_size=8,max_w_size = 8,p=1,fill_value=0.5*255), # after normalizing as mean is 0, thus fillvalue=0\n",
        "             A.Normalize(mean=(0.5,0.5,0.5), std=(0.5,0.5,0.5)),]\n",
        "\n",
        "classes, trainloader, testloader = data_loading.load(train_augmentation = train_aug,mode='default_test_aug',gpu_batch_size=512)"
      ],
      "execution_count": 40,
      "outputs": [
        {
          "output_type": "stream",
          "text": [
            "Files already downloaded and verified\n",
            "Files already downloaded and verified\n",
            "CUDA Available? True\n"
          ],
          "name": "stdout"
        }
      ]
    },
    {
      "cell_type": "code",
      "metadata": {
        "id": "bV3CR-pEdklZ",
        "colab_type": "code",
        "outputId": "91b4b944-dffa-4479-b48b-55873581bc5c",
        "colab": {
          "base_uri": "https://localhost:8080/",
          "height": 172
        }
      },
      "source": [
        "show_images.show_random_images(trainloader, classes)"
      ],
      "execution_count": 7,
      "outputs": [
        {
          "output_type": "stream",
          "text": [
            "shape: torch.Size([512, 3, 32, 32])\n",
            "  cat truck truck   cat\n"
          ],
          "name": "stdout"
        },
        {
          "output_type": "display_data",
          "data": {
            "image/png": "[encoded data removed]",
            "text/plain": [
              "<Figure size 432x288 with 1 Axes>"
            ]
          },
          "metadata": {
            "tags": []
          }
        }
      ]
    },
    {
      "cell_type": "code",
      "metadata": {
        "id": "Dxb_LfxfBoGH",
        "colab_type": "code",
        "colab": {}
      },
      "source": [
        "import matplotlib.pyplot as plt"
      ],
      "execution_count": 0,
      "outputs": []
    },
    {
      "cell_type": "code",
      "metadata": {
        "id": "-5rTuivNthKY",
        "colab_type": "code",
        "outputId": "f6ea3272-a50f-4712-ce06-bff27eba3104",
        "colab": {
          "base_uri": "https://localhost:8080/",
          "height": 265
        }
      },
      "source": [
        "# Sample cyclic lr code :\n",
        "\n",
        "import matplotlib.pyplot as plt\n",
        "import numpy as np\n",
        "def CyclicLR(num_iterations,base_lr,max_lr,step_size):\n",
        "  l_rate =[]\n",
        "  for iteration in range(num_iterations):\n",
        "    cycle = np.floor(1+iteration/(2*step_size))\n",
        "    x = np.abs(iteration/step_size - 2*cycle + 1)\n",
        "    lr = base_lr + (max_lr-base_lr)*np.maximum(0, (1-x))\n",
        "    l_rate.append(lr)\n",
        "  plt.plot(list(range(num_iterations)),l_rate)\n",
        "\n",
        "CyclicLR(num_iterations=10000,base_lr=0.001, max_lr=0.006,step_size=1000)"
      ],
      "execution_count": 14,
      "outputs": [
        {
          "output_type": "display_data",
          "data": {
            "image/png": "[encoded data removed]",
            "text/plain": [
              "<Figure size 432x288 with 1 Axes>"
            ]
          },
          "metadata": {
            "tags": []
          }
        }
      ]
    },
    {
      "cell_type": "markdown",
      "metadata": {
        "id": "xPUpaJXbco3e",
        "colab_type": "text"
      },
      "source": [
        "Write a code which\n",
        "\n",
        "uses this new ResNet Architecture for Cifar10:\n",
        "\n",
        "* PrepLayer - Conv 3x3 s1, p1) >> BN >> RELU [64k]\n",
        "\n",
        "* Layer1 -\n",
        "1. X = Conv 3x3 (s1, p1) >> MaxPool2D >> BN >> RELU [128k]\n",
        "2. R1 = ResBlock( (Conv-BN-ReLU-Conv-BN-ReLU))(X) [128k] \n",
        "(Conv-BN-ReLU-Conv-BN-ReLU)\n",
        "3. Add(X, R1)\n",
        "\n",
        "* Layer 2 -\n",
        "1. Conv 3x3 [256k]\n",
        "2. MaxPooling2D\n",
        "3. BN\n",
        "4. ReLU\n",
        "\n",
        "* Layer 3 -\n",
        "1. X = Conv 3x3 (s1, p1) >> MaxPool2D >> BN >> RELU [512k]\n",
        "2. R2 = ResBlock( (Conv-BN-ReLU-Conv-BN-ReLU))(X) [512k]\n",
        "3. Add(X, R2)\n",
        "* MaxPooling with Kernel Size 4\n",
        "* FC Layer \n",
        "* SoftMax\n",
        "\n",
        "* Uses One Cycle Policy such that:\n",
        "1. Total Epochs = 24\n",
        "2. Max at Epoch = 5\n",
        "3. LRMIN = FIND\n",
        "4. LRMAX = FIND\n",
        "5. NO Annihilation\n",
        "6. Uses this transform -RandomCrop 32, 32 (after padding of 4) >> FlipLR >> Followed by CutOut(8, 8)\n",
        "\n",
        "Batch size = 512\n",
        "\n",
        "Target Accuracy: 90%. \n",
        "\n",
        "The lesser the modular your code is (i.e. more the code you have written in your Colab file), less marks you'd get. "
      ]
    },
    {
      "cell_type": "code",
      "metadata": {
        "id": "fMeTt2cyeGgB",
        "colab_type": "code",
        "colab": {}
      },
      "source": [
        "import torch\n",
        "import torch.nn as nn\n",
        "import torch.nn.functional as F"
      ],
      "execution_count": 0,
      "outputs": []
    },
    {
      "cell_type": "code",
      "metadata": {
        "id": "XcwO3e4GeJN2",
        "colab_type": "code",
        "colab": {}
      },
      "source": [
        "class New_Resnet(nn.Module):\n",
        "    def __init__(self):\n",
        "        super(New_Resnet,self).__init__()\n",
        "\n",
        "        self.prepLayer = nn.Sequential(\n",
        "                    nn.Conv2d(in_channels=3,out_channels=64,kernel_size=(3,3),bias=False,padding=1,stride=1),\n",
        "                    nn.BatchNorm2d(64),\n",
        "                    nn.ReLU(),\n",
        "                )\n",
        "        \n",
        "        self.cmbr_block1 = self._CMBR_Block(64,128)\n",
        "        self.res_block1 = self._ResBlock(128,128)\n",
        "\n",
        "        self.layer2 = self._CMBR_Block(128,256)\n",
        "\n",
        "        self.cmbr_block2 = self._CMBR_Block(256,512)\n",
        "        self.res_block2 = self._ResBlock(512,512)\n",
        "\n",
        "        self.MP4x4 = nn.MaxPool2d(4,4)\n",
        "\n",
        "        self.fc = nn.Conv2d(in_channels=512,out_channels=10,kernel_size=(1,1),bias=False,padding=0,stride=1)\n",
        "    \n",
        "    def _ResBlock(self,in_channels,out_channels):\n",
        "\n",
        "        return nn.Sequential(\n",
        "            nn.Conv2d(in_channels=in_channels,out_channels=out_channels,kernel_size=(3,3),bias=False,stride=1,padding=1),\n",
        "            nn.BatchNorm2d(out_channels),\n",
        "            nn.ReLU(),\n",
        "            nn.Conv2d(in_channels=out_channels,out_channels=out_channels,kernel_size=(3,3),bias=False,stride=1,padding=1),\n",
        "            nn.BatchNorm2d(out_channels),\n",
        "            nn.ReLU(),\n",
        "        )\n",
        "\n",
        "        \n",
        "    def _CMBR_Block(self,in_channels,out_channels):\n",
        "        return nn.Sequential(\n",
        "            nn.Conv2d(in_channels=in_channels,out_channels=out_channels,kernel_size=(3,3),bias=False,padding=1,stride=1),\n",
        "            nn.MaxPool2d(2,2),\n",
        "            nn.BatchNorm2d(out_channels),\n",
        "            nn.ReLU(),\n",
        "        )\n",
        "    def forward(self,x):\n",
        "      # PrepLayer\n",
        "      x = self.prepLayer(x)\n",
        "      # Layer 1\n",
        "      x = self.cmbr_block1(x)\n",
        "      r1 = self.res_block1(x)\n",
        "      x = x + r1\n",
        "      # Layer 2\n",
        "      x = self.layer2(x)\n",
        "      # Layer 3\n",
        "      x = self.cmbr_block2(x)\n",
        "      r2 = self.res_block2(x)\n",
        "      x = x + r2\n",
        "\n",
        "      x = self.MP4x4(x)\n",
        "      x = self.fc(x)\n",
        "      x = x.view(-1, 10)\n",
        "      return F.log_softmax(x, dim=-1)\n"
      ],
      "execution_count": 0,
      "outputs": []
    },
    {
      "cell_type": "code",
      "metadata": {
        "id": "LdE7W7_gcFMj",
        "colab_type": "code",
        "outputId": "64e0e902-a159-43cb-a904-9f29a32def84",
        "colab": {
          "base_uri": "https://localhost:8080/",
          "height": 756
        }
      },
      "source": [
        "!pip install torchsummary\n",
        "from torchsummary import summary\n",
        "use_cuda = torch.cuda.is_available()\n",
        "device = torch.device(\"cuda\" if use_cuda else \"cpu\")\n",
        "print(device)\n",
        "model = New_Resnet().to(device)\n",
        "summary(model, input_size=(3, 32, 32))"
      ],
      "execution_count": 13,
      "outputs": [
        {
          "output_type": "stream",
          "text": [
            "Requirement already satisfied: torchsummary in /usr/local/lib/python3.6/dist-packages (1.5.1)\n",
            "cuda\n",
            "----------------------------------------------------------------\n",
            "        Layer (type)               Output Shape         Param #\n",
            "================================================================\n",
            "            Conv2d-1           [-1, 64, 32, 32]           1,728\n",
            "       BatchNorm2d-2           [-1, 64, 32, 32]             128\n",
            "              ReLU-3           [-1, 64, 32, 32]               0\n",
            "            Conv2d-4          [-1, 128, 32, 32]          73,728\n",
            "         MaxPool2d-5          [-1, 128, 16, 16]               0\n",
            "       BatchNorm2d-6          [-1, 128, 16, 16]             256\n",
            "              ReLU-7          [-1, 128, 16, 16]               0\n",
            "            Conv2d-8          [-1, 128, 16, 16]         147,456\n",
            "       BatchNorm2d-9          [-1, 128, 16, 16]             256\n",
            "             ReLU-10          [-1, 128, 16, 16]               0\n",
            "           Conv2d-11          [-1, 128, 16, 16]         147,456\n",
            "      BatchNorm2d-12          [-1, 128, 16, 16]             256\n",
            "             ReLU-13          [-1, 128, 16, 16]               0\n",
            "           Conv2d-14          [-1, 256, 16, 16]         294,912\n",
            "        MaxPool2d-15            [-1, 256, 8, 8]               0\n",
            "      BatchNorm2d-16            [-1, 256, 8, 8]             512\n",
            "             ReLU-17            [-1, 256, 8, 8]               0\n",
            "           Conv2d-18            [-1, 512, 8, 8]       1,179,648\n",
            "        MaxPool2d-19            [-1, 512, 4, 4]               0\n",
            "      BatchNorm2d-20            [-1, 512, 4, 4]           1,024\n",
            "             ReLU-21            [-1, 512, 4, 4]               0\n",
            "           Conv2d-22            [-1, 512, 4, 4]       2,359,296\n",
            "      BatchNorm2d-23            [-1, 512, 4, 4]           1,024\n",
            "             ReLU-24            [-1, 512, 4, 4]               0\n",
            "           Conv2d-25            [-1, 512, 4, 4]       2,359,296\n",
            "      BatchNorm2d-26            [-1, 512, 4, 4]           1,024\n",
            "             ReLU-27            [-1, 512, 4, 4]               0\n",
            "        MaxPool2d-28            [-1, 512, 1, 1]               0\n",
            "           Conv2d-29             [-1, 10, 1, 1]           5,120\n",
            "================================================================\n",
            "Total params: 6,573,120\n",
            "Trainable params: 6,573,120\n",
            "Non-trainable params: 0\n",
            "----------------------------------------------------------------\n",
            "Input size (MB): 0.01\n",
            "Forward/backward pass size (MB): 6.44\n",
            "Params size (MB): 25.07\n",
            "Estimated Total Size (MB): 31.53\n",
            "----------------------------------------------------------------\n"
          ],
          "name": "stdout"
        }
      ]
    },
    {
      "cell_type": "markdown",
      "metadata": {
        "id": "rA_05HJK8bR3",
        "colab_type": "text"
      },
      "source": [
        "range test for lr 0.1 - 0.0001"
      ]
    },
    {
      "cell_type": "code",
      "metadata": {
        "id": "ARZsY8L7wAsj",
        "colab_type": "code",
        "colab": {}
      },
      "source": [
        "\n",
        "# class Train_test:\n",
        "  \n",
        "#   def __init__(self):\n",
        "#     self.train_losses = []\n",
        "#     self.test_losses = []\n",
        "#     self.train_acc = []\n",
        "#     self.test_acc = []\n",
        "#     self.train_acc_epoch_end = []\n",
        "\n",
        "#   def train_and_test(self,model, device, train_loader,test_loader, optimizer, criterion, epoch):\n",
        "      \n",
        "    \n",
        "#     self.train_acc,self.train_acc_epoch_end,self.train_losses = self.train(model, device, train_loader, optimizer, criterion)\n",
        "#     self.test_losses,self.test_acc = self.test(model, device, criterion, test_loader)\n",
        "#     return self.train_acc,self.train_acc_epoch_end,self.train_losses,self.test_losses,self.test_acc\n",
        "\n",
        "\n",
        "#   def train(self,model, device, train_loader, optimizer, criterion):\n",
        "\n",
        "#     import torch\n",
        "#     #Training & Testing Loops\n",
        "#     from tqdm import tqdm\n",
        "\n",
        "#     model.train()\n",
        "#     pbar = tqdm(train_loader)\n",
        "#     correct = 0\n",
        "#     processed = 0\n",
        "#     for batch_idx, (data, target) in enumerate(pbar):\n",
        "#       # get samples\n",
        "#       data, target = data.to(device), target.to(device)\n",
        "\n",
        "#       # Init\n",
        "#       optimizer.zero_grad()\n",
        "#       # In PyTorch, we need to set the gradients to zero before starting to do backpropragation because PyTorch accumulates the gradients on subsequent backward passes. \n",
        "#       # Because of this, when you start your training loop, ideally you should zero out the gradients so that you do the parameter update correctly.\n",
        "\n",
        "#       # Predict\n",
        "#       y_pred = model(data)\n",
        "\n",
        "#       # Calculate loss\n",
        "#       #loss = F.nll_loss(y_pred, target)\n",
        "#       loss = criterion(y_pred, target)\n",
        "#       self.train_losses.append(loss)\n",
        "\n",
        "#       # Backpropagation\n",
        "#       loss.backward()\n",
        "#       optimizer.step()\n",
        "\n",
        "#       # Update pbar-tqdm\n",
        "      \n",
        "#       pred = y_pred.argmax(dim=1, keepdim=True)  # get the index of the max log-probability\n",
        "#       correct += pred.eq(target.view_as(pred)).sum().item()\n",
        "#       processed += len(data)\n",
        "\n",
        "#       pbar.set_description(desc= f'Loss={loss.item()} Batch_id={batch_idx} Accuracy={100*correct/processed:0.2f}')\n",
        "#       self.train_acc.append(100*correct/processed)\n",
        "#     self.train_acc_epoch_end.append(self.train_acc[-1])\n",
        "#     return self.train_acc,self.train_acc_epoch_end,self.train_losses\n",
        "\n",
        "\n",
        "#   def test(self,model, device, criterion, test_loader):\n",
        "\n",
        "#       import torch\n",
        "#     #Training & Testing Loops\n",
        "#       from tqdm import tqdm\n",
        "\n",
        "#       model.eval()\n",
        "#       test_loss = 0\n",
        "#       correct = 0\n",
        "#       with torch.no_grad():\n",
        "#           for data, target in test_loader:\n",
        "#               data, target = data.to(device), target.to(device)\n",
        "#               output = model(data)\n",
        "#               test_loss += criterion(output, target).item()  # sum up batch loss\n",
        "#               pred = output.argmax(dim=1, keepdim=True)  # get the index of the max log-probability\n",
        "#               correct += pred.eq(target.view_as(pred)).sum().item()\n",
        "              \n",
        "\n",
        "#       test_loss /= len(test_loader.dataset)\n",
        "#       self.test_losses.append(test_loss)\n",
        "\n",
        "#       print('\\nTest set: Average loss: {:.4f}, Accuracy: {}/{} ({:.2f}%)\\n'.format(\n",
        "#           test_loss, correct, len(test_loader.dataset),\n",
        "#           100. * correct / len(test_loader.dataset)))\n",
        "      \n",
        "#       self.test_acc.append(100. * correct / len(test_loader.dataset))\n",
        "#       return self.test_losses,self.test_acc"
      ],
      "execution_count": 0,
      "outputs": []
    },
    {
      "cell_type": "code",
      "metadata": {
        "id": "YZf7-9ix0e7s",
        "colab_type": "code",
        "colab": {
          "base_uri": "https://localhost:8080/",
          "height": 1000
        },
        "outputId": "21ebe6f6-b771-49ae-fc3f-ea5fab04c5fd"
      },
      "source": [
        "lrs = [0.0001,0.0002,0.0003,0.0004,0.0005,0.0006,0.0007,0.0008,0.0009,\n",
        "      0.001,0.002,0.003,0.004,0.005,0.006,0.007,0.008,0.009,\n",
        "      0.01,0.02,0.03,0.04,0.05,0.06,0.07,0.08,0.09,0.1]\n",
        "import torch.nn as nn\n",
        "import torch.optim as optim\n",
        "from torch.optim.lr_scheduler import OneCycleLR\n",
        "\n",
        "criterion = nn.CrossEntropyLoss()\n",
        "optimizer = optim.SGD(model.parameters(), lr=0.001, momentum=0.9,weight_decay=0.0005)\n",
        "\n",
        "trainAcc = []\n",
        "testAcc = []\n",
        "trainLoss = []\n",
        "testLoss = []\n",
        "\n",
        "for lr in lrs:\n",
        "  epoch=0\n",
        "  optimizer.param_groups[0]['lr'] = lr\n",
        "  print('LR:',optimizer.param_groups[0]['lr'])\n",
        "\n",
        "\n",
        "  # train_and_test.train(model, device, trainloader, optimizer, criterion, epoch)\n",
        "  # train_and_test.test(model, device, criterion, testloader,epoch)\n",
        "  train_test = train_and_test.Train_test()\n",
        "\n",
        "  train_acc,train_acc_epoch_end,train_losses,test_losses,test_acc = train_test.train_and_test(model, device, trainloader,testloader, optimizer, criterion, epoch)\n",
        "  \n",
        "  trainAcc.append(train_acc_epoch_end[0])\n",
        "  testAcc.append(test_acc[0])\n",
        "  trainLoss.append(train_losses[0])\n",
        "  testLoss.append(test_losses[0])\n",
        "\n",
        "  use_cuda = torch.cuda.is_available()\n",
        "  device = torch.device(\"cuda\" if use_cuda else \"cpu\")\n",
        "  model = New_Resnet().to(device)\n",
        "  criterion = nn.CrossEntropyLoss()\n",
        "  optimizer = optim.SGD(model.parameters(), lr=0.001, momentum=0.9,weight_decay=0.0005)\n",
        "\n",
        "  # print(len(train_acc),train_acc_epoch_end,test_acc,train_losses,test_losses)\n"
      ],
      "execution_count": 15,
      "outputs": [
        {
          "output_type": "stream",
          "text": [
            "\r  0%|          | 0/98 [00:00<?, ?it/s]"
          ],
          "name": "stderr"
        },
        {
          "output_type": "stream",
          "text": [
            "LR: 0.0001\n"
          ],
          "name": "stdout"
        },
        {
          "output_type": "stream",
          "text": [
            "Loss=1.9309526681900024 Batch_id=97 Accuracy=22.11: 100%|██████████| 98/98 [00:20<00:00,  4.70it/s]\n",
            "  0%|          | 0/98 [00:00<?, ?it/s]"
          ],
          "name": "stderr"
        },
        {
          "output_type": "stream",
          "text": [
            "\n",
            "Test set: Average loss: 0.0038, Accuracy: 3186/10000 (31.86%)\n",
            "\n",
            "LR: 0.0002\n"
          ],
          "name": "stdout"
        },
        {
          "output_type": "stream",
          "text": [
            "Loss=1.7255094051361084 Batch_id=97 Accuracy=27.53: 100%|██████████| 98/98 [00:20<00:00,  4.68it/s]\n",
            "  0%|          | 0/98 [00:00<?, ?it/s]"
          ],
          "name": "stderr"
        },
        {
          "output_type": "stream",
          "text": [
            "\n",
            "Test set: Average loss: 0.0034, Accuracy: 3915/10000 (39.15%)\n",
            "\n",
            "LR: 0.0003\n"
          ],
          "name": "stdout"
        },
        {
          "output_type": "stream",
          "text": [
            "Loss=1.6826237440109253 Batch_id=97 Accuracy=29.70: 100%|██████████| 98/98 [00:20<00:00,  4.72it/s]\n",
            "  0%|          | 0/98 [00:00<?, ?it/s]"
          ],
          "name": "stderr"
        },
        {
          "output_type": "stream",
          "text": [
            "\n",
            "Test set: Average loss: 0.0032, Accuracy: 4218/10000 (42.18%)\n",
            "\n",
            "LR: 0.0004\n"
          ],
          "name": "stdout"
        },
        {
          "output_type": "stream",
          "text": [
            "Loss=1.6106171607971191 Batch_id=97 Accuracy=31.73: 100%|██████████| 98/98 [00:20<00:00,  4.71it/s]\n",
            "  0%|          | 0/98 [00:00<?, ?it/s]"
          ],
          "name": "stderr"
        },
        {
          "output_type": "stream",
          "text": [
            "\n",
            "Test set: Average loss: 0.0031, Accuracy: 4347/10000 (43.47%)\n",
            "\n",
            "LR: 0.0005\n"
          ],
          "name": "stdout"
        },
        {
          "output_type": "stream",
          "text": [
            "Loss=1.5360090732574463 Batch_id=97 Accuracy=33.42: 100%|██████████| 98/98 [00:20<00:00,  4.68it/s]\n",
            "  0%|          | 0/98 [00:00<?, ?it/s]"
          ],
          "name": "stderr"
        },
        {
          "output_type": "stream",
          "text": [
            "\n",
            "Test set: Average loss: 0.0030, Accuracy: 4643/10000 (46.43%)\n",
            "\n",
            "LR: 0.0006\n"
          ],
          "name": "stdout"
        },
        {
          "output_type": "stream",
          "text": [
            "Loss=1.5132018327713013 Batch_id=97 Accuracy=35.35: 100%|██████████| 98/98 [00:20<00:00,  4.70it/s]\n",
            "  0%|          | 0/98 [00:00<?, ?it/s]"
          ],
          "name": "stderr"
        },
        {
          "output_type": "stream",
          "text": [
            "\n",
            "Test set: Average loss: 0.0029, Accuracy: 4648/10000 (46.48%)\n",
            "\n",
            "LR: 0.0007\n"
          ],
          "name": "stdout"
        },
        {
          "output_type": "stream",
          "text": [
            "Loss=1.4926918745040894 Batch_id=97 Accuracy=36.38: 100%|██████████| 98/98 [00:20<00:00,  4.76it/s]\n",
            "  0%|          | 0/98 [00:00<?, ?it/s]"
          ],
          "name": "stderr"
        },
        {
          "output_type": "stream",
          "text": [
            "\n",
            "Test set: Average loss: 0.0029, Accuracy: 4836/10000 (48.36%)\n",
            "\n",
            "LR: 0.0008\n"
          ],
          "name": "stdout"
        },
        {
          "output_type": "stream",
          "text": [
            "Loss=1.49092435836792 Batch_id=97 Accuracy=36.17: 100%|██████████| 98/98 [00:20<00:00,  4.74it/s]\n",
            "  0%|          | 0/98 [00:00<?, ?it/s]"
          ],
          "name": "stderr"
        },
        {
          "output_type": "stream",
          "text": [
            "\n",
            "Test set: Average loss: 0.0029, Accuracy: 4772/10000 (47.72%)\n",
            "\n",
            "LR: 0.0009\n"
          ],
          "name": "stdout"
        },
        {
          "output_type": "stream",
          "text": [
            "Loss=1.57681405544281 Batch_id=97 Accuracy=37.05: 100%|██████████| 98/98 [00:20<00:00,  4.74it/s]\n",
            "  0%|          | 0/98 [00:00<?, ?it/s]"
          ],
          "name": "stderr"
        },
        {
          "output_type": "stream",
          "text": [
            "\n",
            "Test set: Average loss: 0.0027, Accuracy: 5101/10000 (51.01%)\n",
            "\n",
            "LR: 0.001\n"
          ],
          "name": "stdout"
        },
        {
          "output_type": "stream",
          "text": [
            "Loss=1.4342423677444458 Batch_id=97 Accuracy=38.10: 100%|██████████| 98/98 [00:20<00:00,  4.71it/s]\n",
            "  0%|          | 0/98 [00:00<?, ?it/s]"
          ],
          "name": "stderr"
        },
        {
          "output_type": "stream",
          "text": [
            "\n",
            "Test set: Average loss: 0.0027, Accuracy: 5155/10000 (51.55%)\n",
            "\n",
            "LR: 0.002\n"
          ],
          "name": "stdout"
        },
        {
          "output_type": "stream",
          "text": [
            "Loss=1.225770354270935 Batch_id=97 Accuracy=41.37: 100%|██████████| 98/98 [00:20<00:00,  4.72it/s]\n",
            "  0%|          | 0/98 [00:00<?, ?it/s]"
          ],
          "name": "stderr"
        },
        {
          "output_type": "stream",
          "text": [
            "\n",
            "Test set: Average loss: 0.0026, Accuracy: 5440/10000 (54.40%)\n",
            "\n",
            "LR: 0.003\n"
          ],
          "name": "stdout"
        },
        {
          "output_type": "stream",
          "text": [
            "Loss=1.242448329925537 Batch_id=97 Accuracy=43.66: 100%|██████████| 98/98 [00:20<00:00,  4.70it/s]\n",
            "  0%|          | 0/98 [00:00<?, ?it/s]"
          ],
          "name": "stderr"
        },
        {
          "output_type": "stream",
          "text": [
            "\n",
            "Test set: Average loss: 0.0025, Accuracy: 5486/10000 (54.86%)\n",
            "\n",
            "LR: 0.004\n"
          ],
          "name": "stdout"
        },
        {
          "output_type": "stream",
          "text": [
            "Loss=1.3121954202651978 Batch_id=97 Accuracy=41.67: 100%|██████████| 98/98 [00:20<00:00,  4.72it/s]\n",
            "  0%|          | 0/98 [00:00<?, ?it/s]"
          ],
          "name": "stderr"
        },
        {
          "output_type": "stream",
          "text": [
            "\n",
            "Test set: Average loss: 0.0025, Accuracy: 5402/10000 (54.02%)\n",
            "\n",
            "LR: 0.005\n"
          ],
          "name": "stdout"
        },
        {
          "output_type": "stream",
          "text": [
            "Loss=1.2160478830337524 Batch_id=97 Accuracy=43.50: 100%|██████████| 98/98 [00:20<00:00,  4.71it/s]\n",
            "  0%|          | 0/98 [00:00<?, ?it/s]"
          ],
          "name": "stderr"
        },
        {
          "output_type": "stream",
          "text": [
            "\n",
            "Test set: Average loss: 0.0026, Accuracy: 5347/10000 (53.47%)\n",
            "\n",
            "LR: 0.006\n"
          ],
          "name": "stdout"
        },
        {
          "output_type": "stream",
          "text": [
            "Loss=1.2484673261642456 Batch_id=97 Accuracy=42.88: 100%|██████████| 98/98 [00:20<00:00,  4.81it/s]\n",
            "  0%|          | 0/98 [00:00<?, ?it/s]"
          ],
          "name": "stderr"
        },
        {
          "output_type": "stream",
          "text": [
            "\n",
            "Test set: Average loss: 0.0023, Accuracy: 5856/10000 (58.56%)\n",
            "\n",
            "LR: 0.007\n"
          ],
          "name": "stdout"
        },
        {
          "output_type": "stream",
          "text": [
            "Loss=1.5200711488723755 Batch_id=97 Accuracy=34.50: 100%|██████████| 98/98 [00:20<00:00,  4.76it/s]\n",
            "  0%|          | 0/98 [00:00<?, ?it/s]"
          ],
          "name": "stderr"
        },
        {
          "output_type": "stream",
          "text": [
            "\n",
            "Test set: Average loss: 0.0030, Accuracy: 4572/10000 (45.72%)\n",
            "\n",
            "LR: 0.008\n"
          ],
          "name": "stdout"
        },
        {
          "output_type": "stream",
          "text": [
            "Loss=1.6581358909606934 Batch_id=97 Accuracy=26.91: 100%|██████████| 98/98 [00:20<00:00,  4.79it/s]\n",
            "  0%|          | 0/98 [00:00<?, ?it/s]"
          ],
          "name": "stderr"
        },
        {
          "output_type": "stream",
          "text": [
            "\n",
            "Test set: Average loss: 0.0033, Accuracy: 3932/10000 (39.32%)\n",
            "\n",
            "LR: 0.009\n"
          ],
          "name": "stdout"
        },
        {
          "output_type": "stream",
          "text": [
            "Loss=1.7723604440689087 Batch_id=97 Accuracy=21.98: 100%|██████████| 98/98 [00:20<00:00,  4.83it/s]\n",
            "  0%|          | 0/98 [00:00<?, ?it/s]"
          ],
          "name": "stderr"
        },
        {
          "output_type": "stream",
          "text": [
            "\n",
            "Test set: Average loss: 0.0036, Accuracy: 3434/10000 (34.34%)\n",
            "\n",
            "LR: 0.01\n"
          ],
          "name": "stdout"
        },
        {
          "output_type": "stream",
          "text": [
            "Loss=1.6721583604812622 Batch_id=97 Accuracy=24.06: 100%|██████████| 98/98 [00:20<00:00,  4.74it/s]\n",
            "  0%|          | 0/98 [00:00<?, ?it/s]"
          ],
          "name": "stderr"
        },
        {
          "output_type": "stream",
          "text": [
            "\n",
            "Test set: Average loss: 0.0035, Accuracy: 3250/10000 (32.50%)\n",
            "\n",
            "LR: 0.02\n"
          ],
          "name": "stdout"
        },
        {
          "output_type": "stream",
          "text": [
            "Loss=2.307046890258789 Batch_id=97 Accuracy=13.73: 100%|██████████| 98/98 [00:20<00:00,  4.73it/s]\n",
            "  0%|          | 0/98 [00:00<?, ?it/s]"
          ],
          "name": "stderr"
        },
        {
          "output_type": "stream",
          "text": [
            "\n",
            "Test set: Average loss: 0.0047, Accuracy: 1457/10000 (14.57%)\n",
            "\n",
            "LR: 0.03\n"
          ],
          "name": "stdout"
        },
        {
          "output_type": "stream",
          "text": [
            "Loss=2.649186611175537 Batch_id=97 Accuracy=12.74: 100%|██████████| 98/98 [00:20<00:00,  4.81it/s]\n",
            "  0%|          | 0/98 [00:00<?, ?it/s]"
          ],
          "name": "stderr"
        },
        {
          "output_type": "stream",
          "text": [
            "\n",
            "Test set: Average loss: 0.0049, Accuracy: 1663/10000 (16.63%)\n",
            "\n",
            "LR: 0.04\n"
          ],
          "name": "stdout"
        },
        {
          "output_type": "stream",
          "text": [
            "Loss=2.347414016723633 Batch_id=97 Accuracy=11.85: 100%|██████████| 98/98 [00:20<00:00,  4.76it/s]\n",
            "  0%|          | 0/98 [00:00<?, ?it/s]"
          ],
          "name": "stderr"
        },
        {
          "output_type": "stream",
          "text": [
            "\n",
            "Test set: Average loss: 0.0048, Accuracy: 1535/10000 (15.35%)\n",
            "\n",
            "LR: 0.05\n"
          ],
          "name": "stdout"
        },
        {
          "output_type": "stream",
          "text": [
            "Loss=2.498605489730835 Batch_id=97 Accuracy=11.81: 100%|██████████| 98/98 [00:20<00:00,  4.79it/s]\n",
            "  0%|          | 0/98 [00:00<?, ?it/s]"
          ],
          "name": "stderr"
        },
        {
          "output_type": "stream",
          "text": [
            "\n",
            "Test set: Average loss: 0.0049, Accuracy: 1345/10000 (13.45%)\n",
            "\n",
            "LR: 0.06\n"
          ],
          "name": "stdout"
        },
        {
          "output_type": "stream",
          "text": [
            "Loss=2.4315741062164307 Batch_id=97 Accuracy=10.50: 100%|██████████| 98/98 [00:20<00:00,  4.75it/s]\n",
            "  0%|          | 0/98 [00:00<?, ?it/s]"
          ],
          "name": "stderr"
        },
        {
          "output_type": "stream",
          "text": [
            "\n",
            "Test set: Average loss: 0.0050, Accuracy: 1013/10000 (10.13%)\n",
            "\n",
            "LR: 0.07\n"
          ],
          "name": "stdout"
        },
        {
          "output_type": "stream",
          "text": [
            "Loss=3.32000470161438 Batch_id=97 Accuracy=10.23: 100%|██████████| 98/98 [00:20<00:00,  4.85it/s]\n",
            "  0%|          | 0/98 [00:00<?, ?it/s]"
          ],
          "name": "stderr"
        },
        {
          "output_type": "stream",
          "text": [
            "\n",
            "Test set: Average loss: 0.0048, Accuracy: 1255/10000 (12.55%)\n",
            "\n",
            "LR: 0.08\n"
          ],
          "name": "stdout"
        },
        {
          "output_type": "stream",
          "text": [
            "Loss=2.1871814727783203 Batch_id=97 Accuracy=12.10: 100%|██████████| 98/98 [00:20<00:00,  4.81it/s]\n",
            "  0%|          | 0/98 [00:00<?, ?it/s]"
          ],
          "name": "stderr"
        },
        {
          "output_type": "stream",
          "text": [
            "\n",
            "Test set: Average loss: 0.0044, Accuracy: 1496/10000 (14.96%)\n",
            "\n",
            "LR: 0.09\n"
          ],
          "name": "stdout"
        },
        {
          "output_type": "stream",
          "text": [
            "Loss=2.287975788116455 Batch_id=97 Accuracy=10.89: 100%|██████████| 98/98 [00:20<00:00,  4.75it/s]\n",
            "  0%|          | 0/98 [00:00<?, ?it/s]"
          ],
          "name": "stderr"
        },
        {
          "output_type": "stream",
          "text": [
            "\n",
            "Test set: Average loss: 0.0046, Accuracy: 1197/10000 (11.97%)\n",
            "\n",
            "LR: 0.1\n"
          ],
          "name": "stdout"
        },
        {
          "output_type": "stream",
          "text": [
            "Loss=2.2904820442199707 Batch_id=97 Accuracy=10.84: 100%|██████████| 98/98 [00:20<00:00,  4.77it/s]\n"
          ],
          "name": "stderr"
        },
        {
          "output_type": "stream",
          "text": [
            "\n",
            "Test set: Average loss: 0.0046, Accuracy: 1168/10000 (11.68%)\n",
            "\n"
          ],
          "name": "stdout"
        }
      ]
    },
    {
      "cell_type": "code",
      "metadata": {
        "id": "nR-flkb4kFAt",
        "colab_type": "code",
        "colab": {
          "base_uri": "https://localhost:8080/",
          "height": 34
        },
        "outputId": "7305cf47-4cfc-4029-cd70-370d8e98db47"
      },
      "source": [
        "print(len(train_acc_epoch_end))"
      ],
      "execution_count": 16,
      "outputs": [
        {
          "output_type": "stream",
          "text": [
            "1\n"
          ],
          "name": "stdout"
        }
      ]
    },
    {
      "cell_type": "code",
      "metadata": {
        "id": "HkJm0yOEkX9e",
        "colab_type": "code",
        "outputId": "de2c15f4-5569-4136-ccf4-296bfe422ede",
        "colab": {
          "base_uri": "https://localhost:8080/",
          "height": 50
        }
      },
      "source": [
        "print('Train acc: ',max(trainAcc),'LR: ',lrs[trainAcc.index(max(trainAcc))])\n",
        "print('Test acc: ',max(testAcc),'LR: ',lrs[testAcc.index(max(testAcc))])"
      ],
      "execution_count": 17,
      "outputs": [
        {
          "output_type": "stream",
          "text": [
            "Train acc:  43.66 LR:  0.003\n",
            "Test acc:  58.56 LR:  0.006\n"
          ],
          "name": "stdout"
        }
      ]
    },
    {
      "cell_type": "code",
      "metadata": {
        "id": "VftMLwGoh3Xa",
        "colab_type": "code",
        "outputId": "c8fe3619-3afe-4571-a5d2-bc752c6d0513",
        "colab": {
          "base_uri": "https://localhost:8080/",
          "height": 298
        }
      },
      "source": [
        "import matplotlib.pyplot as plt\n",
        "plt.plot(lrs,trainAcc)\n",
        "plt.xlabel('Learning Rate')\n",
        "plt.ylabel('Train Accuracy')"
      ],
      "execution_count": 18,
      "outputs": [
        {
          "output_type": "execute_result",
          "data": {
            "text/plain": [
              "Text(0, 0.5, 'Train Accuracy')"
            ]
          },
          "metadata": {
            "tags": []
          },
          "execution_count": 18
        },
        {
          "output_type": "display_data",
          "data": {
            "image/png": "[encoded data removed]",
            "text/plain": [
              "<Figure size 432x288 with 1 Axes>"
            ]
          },
          "metadata": {
            "tags": []
          }
        }
      ]
    },
    {
      "cell_type": "code",
      "metadata": {
        "id": "t5lL0hrMiQ8q",
        "colab_type": "code",
        "outputId": "f072a8cd-6c26-4154-ea5c-c21685ce829c",
        "colab": {
          "base_uri": "https://localhost:8080/",
          "height": 296
        }
      },
      "source": [
        "plt.plot(lrs,testAcc)\n",
        "plt.xlabel('Learning Rate')\n",
        "plt.ylabel('Test Accuracy')"
      ],
      "execution_count": 19,
      "outputs": [
        {
          "output_type": "execute_result",
          "data": {
            "text/plain": [
              "Text(0, 0.5, 'Test Accuracy')"
            ]
          },
          "metadata": {
            "tags": []
          },
          "execution_count": 19
        },
        {
          "output_type": "display_data",
          "data": {
            "image/png": "[encoded data removed]",
            "text/plain": [
              "<Figure size 432x288 with 1 Axes>"
            ]
          },
          "metadata": {
            "tags": []
          }
        }
      ]
    },
    {
      "cell_type": "code",
      "metadata": {
        "id": "Dpr66JrR5Of2",
        "colab_type": "code",
        "outputId": "2f640a0c-fd18-4094-f193-df3220a4354a",
        "colab": {
          "base_uri": "https://localhost:8080/",
          "height": 34
        }
      },
      "source": [
        "len(optimizer.param_groups)"
      ],
      "execution_count": 21,
      "outputs": [
        {
          "output_type": "execute_result",
          "data": {
            "text/plain": [
              "1"
            ]
          },
          "metadata": {
            "tags": []
          },
          "execution_count": 21
        }
      ]
    },
    {
      "cell_type": "code",
      "metadata": {
        "id": "7A5_NgYsNV2V",
        "colab_type": "code",
        "outputId": "202daf66-4afa-4019-844b-8239fd46e932",
        "colab": {
          "base_uri": "https://localhost:8080/",
          "height": 162
        }
      },
      "source": [
        "print(optimizer.param_groups[1]['initial_lr'])"
      ],
      "execution_count": 0,
      "outputs": [
        {
          "output_type": "error",
          "ename": "IndexError",
          "evalue": "ignored",
          "traceback": [
            "\u001b[0;31m---------------------------------------------------------------------------\u001b[0m",
            "\u001b[0;31mIndexError\u001b[0m                                Traceback (most recent call last)",
            "\u001b[0;32m<ipython-input-20-e5af2860e6f7>\u001b[0m in \u001b[0;36m<module>\u001b[0;34m()\u001b[0m\n\u001b[0;32m----> 1\u001b[0;31m \u001b[0mprint\u001b[0m\u001b[0;34m(\u001b[0m\u001b[0moptimizer\u001b[0m\u001b[0;34m.\u001b[0m\u001b[0mparam_groups\u001b[0m\u001b[0;34m[\u001b[0m\u001b[0;36m1\u001b[0m\u001b[0;34m]\u001b[0m\u001b[0;34m[\u001b[0m\u001b[0;34m'initial_lr'\u001b[0m\u001b[0;34m]\u001b[0m\u001b[0;34m)\u001b[0m\u001b[0;34m\u001b[0m\u001b[0;34m\u001b[0m\u001b[0m\n\u001b[0m",
            "\u001b[0;31mIndexError\u001b[0m: list index out of range"
          ]
        }
      ]
    },
    {
      "cell_type": "code",
      "metadata": {
        "id": "x7FSevxi2ExV",
        "colab_type": "code",
        "colab": {}
      },
      "source": [
        "# Code from https://pytorch.org/docs/stable/_modules/torch/optim/lr_scheduler.html#OneCycleLR\n",
        "\n",
        "\n",
        "class OneCycleLR(_LRScheduler):\n",
        "    r\"\"\"Sets the learning rate of each parameter group according to the\n",
        "    1cycle learning rate policy. The 1cycle policy anneals the learning\n",
        "    rate from an initial learning rate to some maximum learning rate and then\n",
        "    from that maximum learning rate to some minimum learning rate much lower\n",
        "    than the initial learning rate.\n",
        "    This policy was initially described in the paper `Super-Convergence:\n",
        "    Very Fast Training of Neural Networks Using Large Learning Rates`_.\n",
        "\n",
        "    The 1cycle learning rate policy changes the learning rate after every batch.\n",
        "    `step` should be called after a batch has been used for training.\n",
        "\n",
        "    This scheduler is not chainable.\n",
        "\n",
        "    Note also that the total number of steps in the cycle can be determined in one\n",
        "    of two ways (listed in order of precedence):\n",
        "\n",
        "    #. A value for total_steps is explicitly provided.\n",
        "    #. A number of epochs (epochs) and a number of steps per epoch\n",
        "       (steps_per_epoch) are provided.\n",
        "       In this case, the number of total steps is inferred by\n",
        "       total_steps = epochs * steps_per_epoch\n",
        "\n",
        "    You must either provide a value for total_steps or provide a value for both\n",
        "    epochs and steps_per_epoch.\n",
        "\n",
        "    Args:\n",
        "        optimizer (Optimizer): Wrapped optimizer.\n",
        "        max_lr (float or list): Upper learning rate boundaries in the cycle\n",
        "            for each parameter group.\n",
        "        total_steps (int): The total number of steps in the cycle. Note that\n",
        "            if a value is provided here, then it must be inferred by providing\n",
        "            a value for epochs and steps_per_epoch.\n",
        "            Default: None\n",
        "        epochs (int): The number of epochs to train for. This is used along\n",
        "            with steps_per_epoch in order to infer the total number of steps in the cycle\n",
        "            if a value for total_steps is not provided.\n",
        "            Default: None\n",
        "        steps_per_epoch (int): The number of steps per epoch to train for. This is\n",
        "            used along with epochs in order to infer the total number of steps in the\n",
        "            cycle if a value for total_steps is not provided.\n",
        "            Default: None\n",
        "        pct_start (float): The percentage of the cycle (in number of steps) spent\n",
        "            increasing the learning rate.\n",
        "            Default: 0.3\n",
        "        anneal_strategy (str): {'cos', 'linear'}\n",
        "            Specifies the annealing strategy: \"cos\" for cosine annealing, \"linear\" for\n",
        "            linear annealing.\n",
        "            Default: 'cos'\n",
        "        cycle_momentum (bool): If ``True``, momentum is cycled inversely\n",
        "            to learning rate between 'base_momentum' and 'max_momentum'.\n",
        "            Default: True\n",
        "        base_momentum (float or list): Lower momentum boundaries in the cycle\n",
        "            for each parameter group. Note that momentum is cycled inversely\n",
        "            to learning rate; at the peak of a cycle, momentum is\n",
        "            'base_momentum' and learning rate is 'max_lr'.\n",
        "            Default: 0.85\n",
        "        max_momentum (float or list): Upper momentum boundaries in the cycle\n",
        "            for each parameter group. Functionally,\n",
        "            it defines the cycle amplitude (max_momentum - base_momentum).\n",
        "            Note that momentum is cycled inversely\n",
        "            to learning rate; at the start of a cycle, momentum is 'max_momentum'\n",
        "            and learning rate is 'base_lr'\n",
        "            Default: 0.95\n",
        "        div_factor (float): Determines the initial learning rate via\n",
        "            initial_lr = max_lr/div_factor\n",
        "            Default: 25\n",
        "        final_div_factor (float): Determines the minimum learning rate via\n",
        "            min_lr = initial_lr/final_div_factor\n",
        "            Default: 1e4\n",
        "        last_epoch (int): The index of the last batch. This parameter is used when\n",
        "            resuming a training job. Since `step()` should be invoked after each\n",
        "            batch instead of after each epoch, this number represents the total\n",
        "            number of *batches* computed, not the total number of epochs computed.\n",
        "            When last_epoch=-1, the schedule is started from the beginning.\n",
        "            Default: -1\n",
        "\n",
        "    Example:\n",
        "        >>> data_loader = torch.utils.data.DataLoader(...)\n",
        "        >>> optimizer = torch.optim.SGD(model.parameters(), lr=0.1, momentum=0.9)\n",
        "        >>> scheduler = torch.optim.lr_scheduler.OneCycleLR(optimizer, max_lr=0.01, steps_per_epoch=len(data_loader), epochs=10)\n",
        "        >>> for epoch in range(10):\n",
        "        >>>     for batch in data_loader:\n",
        "        >>>         train_batch(...)\n",
        "        >>>         scheduler.step()\n",
        "\n",
        "\n",
        "    .. _Super-Convergence\\: Very Fast Training of Neural Networks Using Large Learning Rates:\n",
        "        https://arxiv.org/abs/1708.07120\n",
        "    \"\"\"\n",
        "    def __init__(self,\n",
        "                 optimizer,\n",
        "                 max_lr,\n",
        "                 total_steps=None,\n",
        "                 epochs=None,\n",
        "                 steps_per_epoch=None,\n",
        "                 pct_start=0.3,\n",
        "                 anneal_strategy='cos',\n",
        "                 cycle_momentum=True,\n",
        "                 base_momentum=0.85,\n",
        "                 max_momentum=0.95,\n",
        "                 div_factor=25.,\n",
        "                 final_div_factor=1e4,\n",
        "                 last_epoch=-1):\n",
        "\n",
        "        # Validate optimizer\n",
        "        if not isinstance(optimizer, Optimizer):\n",
        "            raise TypeError('{} is not an Optimizer'.format(\n",
        "                type(optimizer).__name__))\n",
        "        self.optimizer = optimizer\n",
        "\n",
        "        # Validate total_steps\n",
        "        if total_steps is None and epochs is None and steps_per_epoch is None:\n",
        "            raise ValueError(\"You must define either total_steps OR (epochs AND steps_per_epoch)\")\n",
        "        elif total_steps is not None:\n",
        "            if total_steps <= 0 or not isinstance(total_steps, int):\n",
        "                raise ValueError(\"Expected non-negative integer total_steps, but got {}\".format(total_steps))\n",
        "            self.total_steps = total_steps\n",
        "        else:\n",
        "            if epochs <= 0 or not isinstance(epochs, int):\n",
        "                raise ValueError(\"Expected non-negative integer epochs, but got {}\".format(epochs))\n",
        "            if steps_per_epoch <= 0 or not isinstance(steps_per_epoch, int):\n",
        "                raise ValueError(\"Expected non-negative integer steps_per_epoch, but got {}\".format(steps_per_epoch))\n",
        "            self.total_steps = epochs * steps_per_epoch\n",
        "        self.step_size_up = float(pct_start * self.total_steps) - 1\n",
        "        self.step_size_down = float(self.total_steps - self.step_size_up) - 1\n",
        "\n",
        "        # Validate pct_start\n",
        "        if pct_start < 0 or pct_start > 1 or not isinstance(pct_start, float):\n",
        "            raise ValueError(\"Expected float between 0 and 1 pct_start, but got {}\".format(pct_start))\n",
        "\n",
        "        # Validate anneal_strategy\n",
        "        if anneal_strategy not in ['cos', 'linear']:\n",
        "            raise ValueError(\"anneal_strategy must by one of 'cos' or 'linear', instead got {}\".format(anneal_strategy))\n",
        "        elif anneal_strategy == 'cos':\n",
        "            self.anneal_func = self._annealing_cos\n",
        "        elif anneal_strategy == 'linear':\n",
        "            self.anneal_func = self._annealing_linear\n",
        "\n",
        "        # Initialize learning rate variables\n",
        "        max_lrs = self._format_param('max_lr', self.optimizer, max_lr)\n",
        "        if last_epoch == -1:\n",
        "            for idx, group in enumerate(self.optimizer.param_groups):\n",
        "                group['initial_lr'] = max_lrs[idx] / div_factor\n",
        "                group['max_lr'] = max_lrs[idx]\n",
        "                group['min_lr'] = group['initial_lr'] / final_div_factor\n",
        "\n",
        "        # Initialize momentum variables\n",
        "        self.cycle_momentum = cycle_momentum\n",
        "        if self.cycle_momentum:\n",
        "            if 'momentum' not in self.optimizer.defaults and 'betas' not in self.optimizer.defaults:\n",
        "                raise ValueError('optimizer must support momentum with `cycle_momentum` option enabled')\n",
        "            self.use_beta1 = 'betas' in self.optimizer.defaults\n",
        "            max_momentums = self._format_param('max_momentum', optimizer, max_momentum)\n",
        "            base_momentums = self._format_param('base_momentum', optimizer, base_momentum)\n",
        "            if last_epoch == -1:\n",
        "                for m_momentum, b_momentum, group in zip(max_momentums, base_momentums, optimizer.param_groups):\n",
        "                    if self.use_beta1:\n",
        "                        _, beta2 = group['betas']\n",
        "                        group['betas'] = (m_momentum, beta2)\n",
        "                    else:\n",
        "                        group['momentum'] = m_momentum\n",
        "                    group['max_momentum'] = m_momentum\n",
        "                    group['base_momentum'] = b_momentum\n",
        "\n",
        "        super(OneCycleLR, self).__init__(optimizer, last_epoch)\n",
        "\n",
        "    def _format_param(self, name, optimizer, param):\n",
        "        \"\"\"Return correctly formatted lr/momentum for each param group.\"\"\"\n",
        "        if isinstance(param, (list, tuple)):\n",
        "            if len(param) != len(optimizer.param_groups):\n",
        "                raise ValueError(\"expected {} values for {}, got {}\".format(\n",
        "                    len(optimizer.param_groups), name, len(param)))\n",
        "            return param\n",
        "        else:\n",
        "            return [param] * len(optimizer.param_groups)\n",
        "\n",
        "    def _annealing_cos(self, start, end, pct):\n",
        "        \"Cosine anneal from `start` to `end` as pct goes from 0.0 to 1.0.\"\n",
        "        cos_out = math.cos(math.pi * pct) + 1\n",
        "        return end + (start - end) / 2.0 * cos_out\n",
        "\n",
        "    def _annealing_linear(self, start, end, pct):\n",
        "        \"Linearly anneal from `start` to `end` as pct goes from 0.0 to 1.0.\"\n",
        "        return (end - start) * pct + start\n",
        "\n",
        "    def get_lr(self):\n",
        "        if not self._get_lr_called_within_step:\n",
        "            warnings.warn(\"To get the last learning rate computed by the scheduler, \"\n",
        "                          \"please use `get_last_lr()`.\", DeprecationWarning)\n",
        "\n",
        "        lrs = []\n",
        "        step_num = self.last_epoch\n",
        "\n",
        "        if step_num > self.total_steps:\n",
        "            raise ValueError(\"Tried to step {} times. The specified number of total steps is {}\"\n",
        "                             .format(step_num + 1, self.total_steps))\n",
        "\n",
        "        for group in self.optimizer.param_groups:\n",
        "            if step_num <= self.step_size_up:\n",
        "                computed_lr = self.anneal_func(group['initial_lr'], group['max_lr'], step_num / self.step_size_up)\n",
        "                if self.cycle_momentum:\n",
        "                    computed_momentum = self.anneal_func(group['max_momentum'], group['base_momentum'],\n",
        "                                                         step_num / self.step_size_up)\n",
        "            else:\n",
        "                down_step_num = step_num - self.step_size_up\n",
        "                computed_lr = self.anneal_func(group['max_lr'], group['min_lr'], down_step_num / self.step_size_down)\n",
        "                if self.cycle_momentum:\n",
        "                    computed_momentum = self.anneal_func(group['base_momentum'], group['max_momentum'],\n",
        "                                                         down_step_num / self.step_size_down)\n",
        "\n",
        "            lrs.append(computed_lr)\n",
        "            if self.cycle_momentum:\n",
        "                if self.use_beta1:\n",
        "                    _, beta2 = group['betas']\n",
        "                    group['betas'] = (computed_momentum, beta2)\n",
        "                else:\n",
        "                    group['momentum'] = computed_momentum\n",
        "\n",
        "        return lrs\n",
        "\n",
        "\"\"\"\n",
        " in the above code:\n",
        "        self.step_size_up  - no. of epochs till which lr should increase\n",
        "        self.step_size_down  - no. of epochs till which lr should decrease\n",
        "  The above is concluded on examining get_lr() --> step_num = self.last_epoch , if step_num <= self.step_size_up\n",
        "\n",
        "  group['initial_lr'], group['max_lr'] are used to cal. increasing lr for the next epoch till the peak is reached.\n",
        "  group['max_lr'], group['min_lr'] used to cal. decreasing lr for the next epoch\n",
        "\n",
        "  Thus,for anneal_strategy='linear' to get lr values that start n end with similar value i.e to get n \n",
        "  exact '^', div_factor and final_div_factor should be set to same value since lr values increase linearly,\n",
        "  with formula (end - start) * pct + start and,\n",
        "\n",
        "  group['initial_lr'] = max_lrs[idx] / div_factor\n",
        "  group['min_lr'] = group['initial_lr'] / final_div_factor\n",
        "\n",
        "\n",
        "\"\"\""
      ],
      "execution_count": 0,
      "outputs": []
    },
    {
      "cell_type": "code",
      "metadata": {
        "id": "fOL06dafCJjg",
        "colab_type": "code",
        "colab": {}
      },
      "source": [
        "from torch.optim.lr_scheduler import OneCycleLR\n",
        "import torch.nn as nn\n",
        "import torch.optim as optim\n",
        "\n",
        "def train_model(EPOCHS=24,lr=0.0025,max_lr=0.0025, total_steps=None, epochs=5, steps_per_epoch=5,\n",
        "                        pct_start=0.21, anneal_strategy='linear', cycle_momentum=False, base_momentum=0.85,\n",
        "                        max_momentum=0.95, div_factor=10.0, final_div_factor=10000.0, last_epoch=-1):\n",
        "  \n",
        "  use_cuda = torch.cuda.is_available()\n",
        "  device = torch.device(\"cuda\" if use_cuda else \"cpu\")\n",
        "  model = New_Resnet().to(device)\n",
        "\n",
        "  lr = lr\n",
        "  max_lr = max_lr\n",
        "  criterion = nn.CrossEntropyLoss()\n",
        "  optimizer = optim.SGD(model.parameters(), lr=lr, momentum=0.9,weight_decay=0.0005)\n",
        "  scheduler = OneCycleLR(optimizer, max_lr, total_steps=total_steps, epochs=epochs, steps_per_epoch=steps_per_epoch,\n",
        "                        pct_start=pct_start, anneal_strategy=anneal_strategy, cycle_momentum=cycle_momentum, base_momentum=base_momentum,\n",
        "                        max_momentum=max_momentum, div_factor=div_factor, final_div_factor=final_div_factor, last_epoch=last_epoch)\n",
        "\n",
        "  EPOCHS = EPOCHS\n",
        "  l_rate = []\n",
        "  train_test = train_and_test.Train_test()\n",
        "  for epoch in range(EPOCHS):\n",
        "      print(\"EPOCH:\", epoch+1, 'LR:',optimizer.param_groups[0]['lr'])\n",
        "      l_rate.append(optimizer.param_groups[0]['lr'])\n",
        "      train_acc,train_acc_epoch_end,train_losses,test_losses,test_acc = train_test.train_and_test(model, device, trainloader,testloader, optimizer, criterion, epoch)\n",
        "  \n",
        "      # train_and_test.train(model, device, trainloader, optimizer, criterion, epoch)\n",
        "      # train_and_test.test(model, device, criterion, testloader,epoch)\n",
        "      scheduler.step()\n",
        "  print(l_rate)\n",
        "  plt.plot(l_rate)\n",
        "  return train_acc,train_acc_epoch_end,train_losses,test_losses,test_acc"
      ],
      "execution_count": 0,
      "outputs": []
    },
    {
      "cell_type": "code",
      "metadata": {
        "id": "E-veUGpBH-gg",
        "colab_type": "code",
        "outputId": "6275f247-5bc5-476d-8eb2-a6167fc82ffe",
        "colab": {
          "base_uri": "https://localhost:8080/",
          "height": 1000
        }
      },
      "source": [
        "\n",
        "train_model(EPOCHS=24, total_steps=None, epochs=24, steps_per_epoch=5,\n",
        "                        pct_start=0.21, anneal_strategy='linear', cycle_momentum=False, base_momentum=0.85,\n",
        "                        max_momentum=0.95, div_factor=10.0, final_div_factor=10000.0, last_epoch=-1)"
      ],
      "execution_count": 24,
      "outputs": [
        {
          "output_type": "stream",
          "text": [
            "\r  0%|          | 0/98 [00:00<?, ?it/s]"
          ],
          "name": "stderr"
        },
        {
          "output_type": "stream",
          "text": [
            "EPOCH: 1 LR: 0.00030000000000000003\n"
          ],
          "name": "stdout"
        },
        {
          "output_type": "stream",
          "text": [
            "Loss=1.7134764194488525 Batch_id=97 Accuracy=30.39: 100%|██████████| 98/98 [00:20<00:00,  4.74it/s]\n",
            "  0%|          | 0/98 [00:00<?, ?it/s]"
          ],
          "name": "stderr"
        },
        {
          "output_type": "stream",
          "text": [
            "\n",
            "Test set: Average loss: 0.0032, Accuracy: 4226/10000 (42.26%)\n",
            "\n",
            "EPOCH: 2 LR: 0.00041157024793388435\n"
          ],
          "name": "stdout"
        },
        {
          "output_type": "stream",
          "text": [
            "Loss=1.412257432937622 Batch_id=97 Accuracy=45.76: 100%|██████████| 98/98 [00:20<00:00,  4.73it/s]\n",
            "  0%|          | 0/98 [00:00<?, ?it/s]"
          ],
          "name": "stderr"
        },
        {
          "output_type": "stream",
          "text": [
            "\n",
            "Test set: Average loss: 0.0027, Accuracy: 5082/10000 (50.82%)\n",
            "\n",
            "EPOCH: 3 LR: 0.0005231404958677687\n"
          ],
          "name": "stdout"
        },
        {
          "output_type": "stream",
          "text": [
            "Loss=1.259717583656311 Batch_id=97 Accuracy=52.27: 100%|██████████| 98/98 [00:20<00:00,  4.72it/s]\n",
            "  0%|          | 0/98 [00:00<?, ?it/s]"
          ],
          "name": "stderr"
        },
        {
          "output_type": "stream",
          "text": [
            "\n",
            "Test set: Average loss: 0.0025, Accuracy: 5619/10000 (56.19%)\n",
            "\n",
            "EPOCH: 4 LR: 0.000634710743801653\n"
          ],
          "name": "stdout"
        },
        {
          "output_type": "stream",
          "text": [
            "Loss=1.2061536312103271 Batch_id=97 Accuracy=56.96: 100%|██████████| 98/98 [00:20<00:00,  4.84it/s]\n",
            "  0%|          | 0/98 [00:00<?, ?it/s]"
          ],
          "name": "stderr"
        },
        {
          "output_type": "stream",
          "text": [
            "\n",
            "Test set: Average loss: 0.0022, Accuracy: 6014/10000 (60.14%)\n",
            "\n",
            "EPOCH: 5 LR: 0.0007462809917355372\n"
          ],
          "name": "stdout"
        },
        {
          "output_type": "stream",
          "text": [
            "Loss=1.0188781023025513 Batch_id=97 Accuracy=60.59: 100%|██████████| 98/98 [00:20<00:00,  4.75it/s]\n",
            "  0%|          | 0/98 [00:00<?, ?it/s]"
          ],
          "name": "stderr"
        },
        {
          "output_type": "stream",
          "text": [
            "\n",
            "Test set: Average loss: 0.0021, Accuracy: 6316/10000 (63.16%)\n",
            "\n",
            "EPOCH: 6 LR: 0.0008578512396694215\n"
          ],
          "name": "stdout"
        },
        {
          "output_type": "stream",
          "text": [
            "Loss=1.0443403720855713 Batch_id=97 Accuracy=64.10: 100%|██████████| 98/98 [00:20<00:00,  4.76it/s]\n",
            "  0%|          | 0/98 [00:00<?, ?it/s]"
          ],
          "name": "stderr"
        },
        {
          "output_type": "stream",
          "text": [
            "\n",
            "Test set: Average loss: 0.0020, Accuracy: 6547/10000 (65.47%)\n",
            "\n",
            "EPOCH: 7 LR: 0.0009694214876033059\n"
          ],
          "name": "stdout"
        },
        {
          "output_type": "stream",
          "text": [
            "Loss=0.8354161381721497 Batch_id=97 Accuracy=66.51: 100%|██████████| 98/98 [00:20<00:00,  4.83it/s]\n",
            "  0%|          | 0/98 [00:00<?, ?it/s]"
          ],
          "name": "stderr"
        },
        {
          "output_type": "stream",
          "text": [
            "\n",
            "Test set: Average loss: 0.0019, Accuracy: 6671/10000 (66.71%)\n",
            "\n",
            "EPOCH: 8 LR: 0.0010809917355371903\n"
          ],
          "name": "stdout"
        },
        {
          "output_type": "stream",
          "text": [
            "Loss=0.9323102235794067 Batch_id=97 Accuracy=68.82: 100%|██████████| 98/98 [00:20<00:00,  4.84it/s]\n",
            "  0%|          | 0/98 [00:00<?, ?it/s]"
          ],
          "name": "stderr"
        },
        {
          "output_type": "stream",
          "text": [
            "\n",
            "Test set: Average loss: 0.0017, Accuracy: 7034/10000 (70.34%)\n",
            "\n",
            "EPOCH: 9 LR: 0.0011925619834710745\n"
          ],
          "name": "stdout"
        },
        {
          "output_type": "stream",
          "text": [
            "Loss=0.8353061676025391 Batch_id=97 Accuracy=70.79: 100%|██████████| 98/98 [00:20<00:00,  4.83it/s]\n",
            "  0%|          | 0/98 [00:00<?, ?it/s]"
          ],
          "name": "stderr"
        },
        {
          "output_type": "stream",
          "text": [
            "\n",
            "Test set: Average loss: 0.0016, Accuracy: 7093/10000 (70.93%)\n",
            "\n",
            "EPOCH: 10 LR: 0.001304132231404959\n"
          ],
          "name": "stdout"
        },
        {
          "output_type": "stream",
          "text": [
            "Loss=0.7360923886299133 Batch_id=97 Accuracy=72.98: 100%|██████████| 98/98 [00:20<00:00,  4.82it/s]\n",
            "  0%|          | 0/98 [00:00<?, ?it/s]"
          ],
          "name": "stderr"
        },
        {
          "output_type": "stream",
          "text": [
            "\n",
            "Test set: Average loss: 0.0015, Accuracy: 7314/10000 (73.14%)\n",
            "\n",
            "EPOCH: 11 LR: 0.001415702479338843\n"
          ],
          "name": "stdout"
        },
        {
          "output_type": "stream",
          "text": [
            "Loss=0.7240134477615356 Batch_id=97 Accuracy=74.45: 100%|██████████| 98/98 [00:20<00:00,  4.85it/s]\n",
            "  0%|          | 0/98 [00:00<?, ?it/s]"
          ],
          "name": "stderr"
        },
        {
          "output_type": "stream",
          "text": [
            "\n",
            "Test set: Average loss: 0.0014, Accuracy: 7480/10000 (74.80%)\n",
            "\n",
            "EPOCH: 12 LR: 0.0015272727272727274\n"
          ],
          "name": "stdout"
        },
        {
          "output_type": "stream",
          "text": [
            "Loss=0.6918179392814636 Batch_id=97 Accuracy=76.12: 100%|██████████| 98/98 [00:20<00:00,  4.81it/s]\n",
            "  0%|          | 0/98 [00:00<?, ?it/s]"
          ],
          "name": "stderr"
        },
        {
          "output_type": "stream",
          "text": [
            "\n",
            "Test set: Average loss: 0.0016, Accuracy: 7261/10000 (72.61%)\n",
            "\n",
            "EPOCH: 13 LR: 0.0016388429752066118\n"
          ],
          "name": "stdout"
        },
        {
          "output_type": "stream",
          "text": [
            "Loss=0.7371895909309387 Batch_id=97 Accuracy=77.06: 100%|██████████| 98/98 [00:20<00:00,  4.80it/s]\n",
            "  0%|          | 0/98 [00:00<?, ?it/s]"
          ],
          "name": "stderr"
        },
        {
          "output_type": "stream",
          "text": [
            "\n",
            "Test set: Average loss: 0.0013, Accuracy: 7746/10000 (77.46%)\n",
            "\n",
            "EPOCH: 14 LR: 0.0017504132231404958\n"
          ],
          "name": "stdout"
        },
        {
          "output_type": "stream",
          "text": [
            "Loss=0.5837465524673462 Batch_id=97 Accuracy=78.43: 100%|██████████| 98/98 [00:20<00:00,  4.83it/s]\n",
            "  0%|          | 0/98 [00:00<?, ?it/s]"
          ],
          "name": "stderr"
        },
        {
          "output_type": "stream",
          "text": [
            "\n",
            "Test set: Average loss: 0.0013, Accuracy: 7825/10000 (78.25%)\n",
            "\n",
            "EPOCH: 15 LR: 0.0018619834710743807\n"
          ],
          "name": "stdout"
        },
        {
          "output_type": "stream",
          "text": [
            "Loss=0.6575842499732971 Batch_id=97 Accuracy=79.69: 100%|██████████| 98/98 [00:20<00:00,  4.83it/s]\n",
            "  0%|          | 0/98 [00:00<?, ?it/s]"
          ],
          "name": "stderr"
        },
        {
          "output_type": "stream",
          "text": [
            "\n",
            "Test set: Average loss: 0.0012, Accuracy: 7896/10000 (78.96%)\n",
            "\n",
            "EPOCH: 16 LR: 0.0019735537190082647\n"
          ],
          "name": "stdout"
        },
        {
          "output_type": "stream",
          "text": [
            "Loss=0.537581741809845 Batch_id=97 Accuracy=80.84: 100%|██████████| 98/98 [00:20<00:00,  4.82it/s]\n",
            "  0%|          | 0/98 [00:00<?, ?it/s]"
          ],
          "name": "stderr"
        },
        {
          "output_type": "stream",
          "text": [
            "\n",
            "Test set: Average loss: 0.0012, Accuracy: 7881/10000 (78.81%)\n",
            "\n",
            "EPOCH: 17 LR: 0.002085123966942149\n"
          ],
          "name": "stdout"
        },
        {
          "output_type": "stream",
          "text": [
            "Loss=0.5988413691520691 Batch_id=97 Accuracy=81.71: 100%|██████████| 98/98 [00:20<00:00,  4.74it/s]\n",
            "  0%|          | 0/98 [00:00<?, ?it/s]"
          ],
          "name": "stderr"
        },
        {
          "output_type": "stream",
          "text": [
            "\n",
            "Test set: Average loss: 0.0012, Accuracy: 7918/10000 (79.18%)\n",
            "\n",
            "EPOCH: 18 LR: 0.002196694214876033\n"
          ],
          "name": "stdout"
        },
        {
          "output_type": "stream",
          "text": [
            "Loss=0.47382545471191406 Batch_id=97 Accuracy=82.42: 100%|██████████| 98/98 [00:20<00:00,  4.81it/s]\n",
            "  0%|          | 0/98 [00:00<?, ?it/s]"
          ],
          "name": "stderr"
        },
        {
          "output_type": "stream",
          "text": [
            "\n",
            "Test set: Average loss: 0.0012, Accuracy: 7956/10000 (79.56%)\n",
            "\n",
            "EPOCH: 19 LR: 0.0023082644628099175\n"
          ],
          "name": "stdout"
        },
        {
          "output_type": "stream",
          "text": [
            "Loss=0.5355037450790405 Batch_id=97 Accuracy=83.25: 100%|██████████| 98/98 [00:20<00:00,  4.77it/s]\n",
            "  0%|          | 0/98 [00:00<?, ?it/s]"
          ],
          "name": "stderr"
        },
        {
          "output_type": "stream",
          "text": [
            "\n",
            "Test set: Average loss: 0.0011, Accuracy: 8148/10000 (81.48%)\n",
            "\n",
            "EPOCH: 20 LR: 0.002419834710743802\n"
          ],
          "name": "stdout"
        },
        {
          "output_type": "stream",
          "text": [
            "Loss=0.5857768058776855 Batch_id=97 Accuracy=83.66: 100%|██████████| 98/98 [00:20<00:00,  4.70it/s]\n",
            "  0%|          | 0/98 [00:00<?, ?it/s]"
          ],
          "name": "stderr"
        },
        {
          "output_type": "stream",
          "text": [
            "\n",
            "Test set: Average loss: 0.0010, Accuracy: 8221/10000 (82.21%)\n",
            "\n",
            "EPOCH: 21 LR: 0.002531404958677686\n"
          ],
          "name": "stdout"
        },
        {
          "output_type": "stream",
          "text": [
            "Loss=0.3854976296424866 Batch_id=97 Accuracy=84.90: 100%|██████████| 98/98 [00:20<00:00,  4.71it/s]\n",
            "  0%|          | 0/98 [00:00<?, ?it/s]"
          ],
          "name": "stderr"
        },
        {
          "output_type": "stream",
          "text": [
            "\n",
            "Test set: Average loss: 0.0013, Accuracy: 7946/10000 (79.46%)\n",
            "\n",
            "EPOCH: 22 LR: 0.0026429752066115704\n"
          ],
          "name": "stdout"
        },
        {
          "output_type": "stream",
          "text": [
            "Loss=0.40826788544654846 Batch_id=97 Accuracy=85.60: 100%|██████████| 98/98 [00:20<00:00,  4.79it/s]\n",
            "  0%|          | 0/98 [00:00<?, ?it/s]"
          ],
          "name": "stderr"
        },
        {
          "output_type": "stream",
          "text": [
            "\n",
            "Test set: Average loss: 0.0011, Accuracy: 8187/10000 (81.87%)\n",
            "\n",
            "EPOCH: 23 LR: 0.002754545454545455\n"
          ],
          "name": "stdout"
        },
        {
          "output_type": "stream",
          "text": [
            "Loss=0.44219884276390076 Batch_id=97 Accuracy=86.18: 100%|██████████| 98/98 [00:20<00:00,  4.79it/s]\n",
            "  0%|          | 0/98 [00:00<?, ?it/s]"
          ],
          "name": "stderr"
        },
        {
          "output_type": "stream",
          "text": [
            "\n",
            "Test set: Average loss: 0.0010, Accuracy: 8319/10000 (83.19%)\n",
            "\n",
            "EPOCH: 24 LR: 0.002866115702479339\n"
          ],
          "name": "stdout"
        },
        {
          "output_type": "stream",
          "text": [
            "Loss=0.30695661902427673 Batch_id=97 Accuracy=86.91: 100%|██████████| 98/98 [00:20<00:00,  4.75it/s]\n"
          ],
          "name": "stderr"
        },
        {
          "output_type": "stream",
          "text": [
            "\n",
            "Test set: Average loss: 0.0010, Accuracy: 8367/10000 (83.67%)\n",
            "\n",
            "[0.00030000000000000003, 0.00041157024793388435, 0.0005231404958677687, 0.000634710743801653, 0.0007462809917355372, 0.0008578512396694215, 0.0009694214876033059, 0.0010809917355371903, 0.0011925619834710745, 0.001304132231404959, 0.001415702479338843, 0.0015272727272727274, 0.0016388429752066118, 0.0017504132231404958, 0.0018619834710743807, 0.0019735537190082647, 0.002085123966942149, 0.002196694214876033, 0.0023082644628099175, 0.002419834710743802, 0.002531404958677686, 0.0026429752066115704, 0.002754545454545455, 0.002866115702479339]\n"
          ],
          "name": "stdout"
        },
        {
          "output_type": "display_data",
          "data": {
            "image/png": "[encoded data removed]",
            "text/plain": [
              "<Figure size 432x288 with 1 Axes>"
            ]
          },
          "metadata": {
            "tags": []
          }
        }
      ]
    },
    {
      "cell_type": "code",
      "metadata": {
        "id": "HyH-k8GxHxge",
        "colab_type": "code",
        "outputId": "713730e6-24eb-4d48-9c7c-0402cf38f6d3",
        "colab": {
          "base_uri": "https://localhost:8080/",
          "height": 1000
        }
      },
      "source": [
        "train_model(EPOCHS=24, total_steps=None, epochs=24, steps_per_epoch=5,\n",
        "                       pct_start=0.21, anneal_strategy='linear', cycle_momentum=False, base_momentum=0.85,\n",
        "                       max_momentum=0.95, div_factor=10.0, final_div_factor=10.0, last_epoch=-1)\n"
      ],
      "execution_count": 0,
      "outputs": [
        {
          "output_type": "stream",
          "text": [
            "\r  0%|          | 0/391 [00:00<?, ?it/s]"
          ],
          "name": "stderr"
        },
        {
          "output_type": "stream",
          "text": [
            "EPOCH: 1 LR: 0.00030000000000000003\n"
          ],
          "name": "stdout"
        },
        {
          "output_type": "stream",
          "text": [
            "Loss=1.0647209882736206 Batch_id=390 Accuracy=43.07: 100%|██████████| 391/391 [00:20<00:00, 18.71it/s]\n",
            "  0%|          | 0/391 [00:00<?, ?it/s]"
          ],
          "name": "stderr"
        },
        {
          "output_type": "stream",
          "text": [
            "\n",
            "Test set: Average loss: 0.0102, Accuracy: 5387/10000 (53.87%)\n",
            "\n",
            "EPOCH: 2 LR: 0.00041157024793388435\n"
          ],
          "name": "stdout"
        },
        {
          "output_type": "stream",
          "text": [
            "Loss=1.10611891746521 Batch_id=390 Accuracy=57.54: 100%|██████████| 391/391 [00:21<00:00, 18.55it/s]\n",
            "  0%|          | 0/391 [00:00<?, ?it/s]"
          ],
          "name": "stderr"
        },
        {
          "output_type": "stream",
          "text": [
            "\n",
            "Test set: Average loss: 0.0084, Accuracy: 6216/10000 (62.16%)\n",
            "\n",
            "EPOCH: 3 LR: 0.0005231404958677687\n"
          ],
          "name": "stdout"
        },
        {
          "output_type": "stream",
          "text": [
            "Loss=0.8040957450866699 Batch_id=390 Accuracy=64.67: 100%|██████████| 391/391 [00:21<00:00, 18.56it/s]\n",
            "  0%|          | 0/391 [00:00<?, ?it/s]"
          ],
          "name": "stderr"
        },
        {
          "output_type": "stream",
          "text": [
            "\n",
            "Test set: Average loss: 0.0073, Accuracy: 6688/10000 (66.88%)\n",
            "\n",
            "EPOCH: 4 LR: 0.000634710743801653\n"
          ],
          "name": "stdout"
        },
        {
          "output_type": "stream",
          "text": [
            "Loss=0.7468051910400391 Batch_id=390 Accuracy=69.41: 100%|██████████| 391/391 [00:21<00:00, 18.59it/s]\n",
            "  0%|          | 0/391 [00:00<?, ?it/s]"
          ],
          "name": "stderr"
        },
        {
          "output_type": "stream",
          "text": [
            "\n",
            "Test set: Average loss: 0.0065, Accuracy: 7118/10000 (71.18%)\n",
            "\n",
            "EPOCH: 5 LR: 0.0007462809917355372\n"
          ],
          "name": "stdout"
        },
        {
          "output_type": "stream",
          "text": [
            "Loss=0.6564388871192932 Batch_id=390 Accuracy=73.10: 100%|██████████| 391/391 [00:20<00:00, 18.65it/s]\n",
            "  0%|          | 0/391 [00:00<?, ?it/s]"
          ],
          "name": "stderr"
        },
        {
          "output_type": "stream",
          "text": [
            "\n",
            "Test set: Average loss: 0.0060, Accuracy: 7409/10000 (74.09%)\n",
            "\n",
            "EPOCH: 6 LR: 0.0008578512396694215\n"
          ],
          "name": "stdout"
        },
        {
          "output_type": "stream",
          "text": [
            "Loss=0.6515356302261353 Batch_id=390 Accuracy=76.08: 100%|██████████| 391/391 [00:20<00:00, 18.75it/s]\n",
            "  0%|          | 0/391 [00:00<?, ?it/s]"
          ],
          "name": "stderr"
        },
        {
          "output_type": "stream",
          "text": [
            "\n",
            "Test set: Average loss: 0.0058, Accuracy: 7546/10000 (75.46%)\n",
            "\n",
            "EPOCH: 7 LR: 0.0009694214876033059\n"
          ],
          "name": "stdout"
        },
        {
          "output_type": "stream",
          "text": [
            "Loss=0.8488453030586243 Batch_id=390 Accuracy=78.64: 100%|██████████| 391/391 [00:20<00:00, 18.80it/s]\n",
            "  0%|          | 0/391 [00:00<?, ?it/s]"
          ],
          "name": "stderr"
        },
        {
          "output_type": "stream",
          "text": [
            "\n",
            "Test set: Average loss: 0.0054, Accuracy: 7633/10000 (76.33%)\n",
            "\n",
            "EPOCH: 8 LR: 0.0010809917355371903\n"
          ],
          "name": "stdout"
        },
        {
          "output_type": "stream",
          "text": [
            "Loss=0.6601267457008362 Batch_id=390 Accuracy=80.37: 100%|██████████| 391/391 [00:21<00:00, 18.58it/s]\n",
            "  0%|          | 0/391 [00:00<?, ?it/s]"
          ],
          "name": "stderr"
        },
        {
          "output_type": "stream",
          "text": [
            "\n",
            "Test set: Average loss: 0.0048, Accuracy: 7917/10000 (79.17%)\n",
            "\n",
            "EPOCH: 9 LR: 0.0011925619834710745\n"
          ],
          "name": "stdout"
        },
        {
          "output_type": "stream",
          "text": [
            "Loss=0.513944149017334 Batch_id=390 Accuracy=82.23: 100%|██████████| 391/391 [00:20<00:00, 18.62it/s]\n",
            "  0%|          | 0/391 [00:00<?, ?it/s]"
          ],
          "name": "stderr"
        },
        {
          "output_type": "stream",
          "text": [
            "\n",
            "Test set: Average loss: 0.0047, Accuracy: 7929/10000 (79.29%)\n",
            "\n",
            "EPOCH: 10 LR: 0.001304132231404959\n"
          ],
          "name": "stdout"
        },
        {
          "output_type": "stream",
          "text": [
            "Loss=0.604682981967926 Batch_id=390 Accuracy=84.18: 100%|██████████| 391/391 [00:21<00:00, 18.54it/s]\n",
            "  0%|          | 0/391 [00:00<?, ?it/s]"
          ],
          "name": "stderr"
        },
        {
          "output_type": "stream",
          "text": [
            "\n",
            "Test set: Average loss: 0.0044, Accuracy: 8144/10000 (81.44%)\n",
            "\n",
            "EPOCH: 11 LR: 0.001415702479338843\n"
          ],
          "name": "stdout"
        },
        {
          "output_type": "stream",
          "text": [
            "Loss=0.43032604455947876 Batch_id=390 Accuracy=85.63: 100%|██████████| 391/391 [00:21<00:00, 18.32it/s]\n",
            "  0%|          | 0/391 [00:00<?, ?it/s]"
          ],
          "name": "stderr"
        },
        {
          "output_type": "stream",
          "text": [
            "\n",
            "Test set: Average loss: 0.0051, Accuracy: 7837/10000 (78.37%)\n",
            "\n",
            "EPOCH: 12 LR: 0.0015272727272727274\n"
          ],
          "name": "stdout"
        },
        {
          "output_type": "stream",
          "text": [
            "Loss=0.3175519108772278 Batch_id=390 Accuracy=86.42: 100%|██████████| 391/391 [00:21<00:00, 18.61it/s]\n",
            "  0%|          | 0/391 [00:00<?, ?it/s]"
          ],
          "name": "stderr"
        },
        {
          "output_type": "stream",
          "text": [
            "\n",
            "Test set: Average loss: 0.0043, Accuracy: 8211/10000 (82.11%)\n",
            "\n",
            "EPOCH: 13 LR: 0.0016388429752066118\n"
          ],
          "name": "stdout"
        },
        {
          "output_type": "stream",
          "text": [
            "Loss=0.33943137526512146 Batch_id=390 Accuracy=87.37: 100%|██████████| 391/391 [00:21<00:00, 18.52it/s]\n",
            "  0%|          | 0/391 [00:00<?, ?it/s]"
          ],
          "name": "stderr"
        },
        {
          "output_type": "stream",
          "text": [
            "\n",
            "Test set: Average loss: 0.0043, Accuracy: 8194/10000 (81.94%)\n",
            "\n",
            "EPOCH: 14 LR: 0.0017504132231404958\n"
          ],
          "name": "stdout"
        },
        {
          "output_type": "stream",
          "text": [
            "Loss=0.37346458435058594 Batch_id=390 Accuracy=88.69: 100%|██████████| 391/391 [00:20<00:00, 18.78it/s]\n",
            "  0%|          | 0/391 [00:00<?, ?it/s]"
          ],
          "name": "stderr"
        },
        {
          "output_type": "stream",
          "text": [
            "\n",
            "Test set: Average loss: 0.0048, Accuracy: 8161/10000 (81.61%)\n",
            "\n",
            "EPOCH: 15 LR: 0.0018619834710743807\n"
          ],
          "name": "stdout"
        },
        {
          "output_type": "stream",
          "text": [
            "Loss=0.37388235330581665 Batch_id=390 Accuracy=89.44: 100%|██████████| 391/391 [00:21<00:00, 18.47it/s]\n",
            "  0%|          | 0/391 [00:00<?, ?it/s]"
          ],
          "name": "stderr"
        },
        {
          "output_type": "stream",
          "text": [
            "\n",
            "Test set: Average loss: 0.0040, Accuracy: 8402/10000 (84.02%)\n",
            "\n",
            "EPOCH: 16 LR: 0.0019735537190082647\n"
          ],
          "name": "stdout"
        },
        {
          "output_type": "stream",
          "text": [
            "Loss=0.22602295875549316 Batch_id=390 Accuracy=90.21: 100%|██████████| 391/391 [00:21<00:00, 18.58it/s]\n",
            "  0%|          | 0/391 [00:00<?, ?it/s]"
          ],
          "name": "stderr"
        },
        {
          "output_type": "stream",
          "text": [
            "\n",
            "Test set: Average loss: 0.0042, Accuracy: 8334/10000 (83.34%)\n",
            "\n",
            "EPOCH: 17 LR: 0.002085123966942149\n"
          ],
          "name": "stdout"
        },
        {
          "output_type": "stream",
          "text": [
            "Loss=0.20595303177833557 Batch_id=390 Accuracy=91.04: 100%|██████████| 391/391 [00:20<00:00, 18.86it/s]\n",
            "  0%|          | 0/391 [00:00<?, ?it/s]"
          ],
          "name": "stderr"
        },
        {
          "output_type": "stream",
          "text": [
            "\n",
            "Test set: Average loss: 0.0043, Accuracy: 8394/10000 (83.94%)\n",
            "\n",
            "EPOCH: 18 LR: 0.002196694214876033\n"
          ],
          "name": "stdout"
        },
        {
          "output_type": "stream",
          "text": [
            "Loss=0.20637467503547668 Batch_id=390 Accuracy=91.39: 100%|██████████| 391/391 [00:20<00:00, 18.69it/s]\n",
            "  0%|          | 0/391 [00:00<?, ?it/s]"
          ],
          "name": "stderr"
        },
        {
          "output_type": "stream",
          "text": [
            "\n",
            "Test set: Average loss: 0.0039, Accuracy: 8510/10000 (85.10%)\n",
            "\n",
            "EPOCH: 19 LR: 0.0023082644628099175\n"
          ],
          "name": "stdout"
        },
        {
          "output_type": "stream",
          "text": [
            "Loss=0.28474947810173035 Batch_id=390 Accuracy=92.09: 100%|██████████| 391/391 [00:20<00:00, 18.84it/s]\n",
            "  0%|          | 0/391 [00:00<?, ?it/s]"
          ],
          "name": "stderr"
        },
        {
          "output_type": "stream",
          "text": [
            "\n",
            "Test set: Average loss: 0.0040, Accuracy: 8422/10000 (84.22%)\n",
            "\n",
            "EPOCH: 20 LR: 0.002419834710743802\n"
          ],
          "name": "stdout"
        },
        {
          "output_type": "stream",
          "text": [
            "Loss=0.07223524153232574 Batch_id=390 Accuracy=92.80: 100%|██████████| 391/391 [00:20<00:00, 18.66it/s]\n",
            "  0%|          | 0/391 [00:00<?, ?it/s]"
          ],
          "name": "stderr"
        },
        {
          "output_type": "stream",
          "text": [
            "\n",
            "Test set: Average loss: 0.0043, Accuracy: 8454/10000 (84.54%)\n",
            "\n",
            "EPOCH: 21 LR: 0.002531404958677686\n"
          ],
          "name": "stdout"
        },
        {
          "output_type": "stream",
          "text": [
            "Loss=0.14382895827293396 Batch_id=390 Accuracy=93.02: 100%|██████████| 391/391 [00:21<00:00, 18.59it/s]\n",
            "  0%|          | 0/391 [00:00<?, ?it/s]"
          ],
          "name": "stderr"
        },
        {
          "output_type": "stream",
          "text": [
            "\n",
            "Test set: Average loss: 0.0047, Accuracy: 8290/10000 (82.90%)\n",
            "\n",
            "EPOCH: 22 LR: 0.0026429752066115704\n"
          ],
          "name": "stdout"
        },
        {
          "output_type": "stream",
          "text": [
            "Loss=0.1451859176158905 Batch_id=390 Accuracy=93.65: 100%|██████████| 391/391 [00:21<00:00, 18.54it/s]\n",
            "  0%|          | 0/391 [00:00<?, ?it/s]"
          ],
          "name": "stderr"
        },
        {
          "output_type": "stream",
          "text": [
            "\n",
            "Test set: Average loss: 0.0043, Accuracy: 8452/10000 (84.52%)\n",
            "\n",
            "EPOCH: 23 LR: 0.002754545454545455\n"
          ],
          "name": "stdout"
        },
        {
          "output_type": "stream",
          "text": [
            "Loss=0.3106548488140106 Batch_id=390 Accuracy=93.88: 100%|██████████| 391/391 [00:20<00:00, 18.62it/s]\n",
            "  0%|          | 0/391 [00:00<?, ?it/s]"
          ],
          "name": "stderr"
        },
        {
          "output_type": "stream",
          "text": [
            "\n",
            "Test set: Average loss: 0.0038, Accuracy: 8617/10000 (86.17%)\n",
            "\n",
            "EPOCH: 24 LR: 0.002866115702479339\n"
          ],
          "name": "stdout"
        },
        {
          "output_type": "stream",
          "text": [
            "Loss=0.1649273782968521 Batch_id=390 Accuracy=94.43: 100%|██████████| 391/391 [00:20<00:00, 18.76it/s]\n"
          ],
          "name": "stderr"
        },
        {
          "output_type": "stream",
          "text": [
            "\n",
            "Test set: Average loss: 0.0042, Accuracy: 8530/10000 (85.30%)\n",
            "\n",
            "[0.00030000000000000003, 0.00041157024793388435, 0.0005231404958677687, 0.000634710743801653, 0.0007462809917355372, 0.0008578512396694215, 0.0009694214876033059, 0.0010809917355371903, 0.0011925619834710745, 0.001304132231404959, 0.001415702479338843, 0.0015272727272727274, 0.0016388429752066118, 0.0017504132231404958, 0.0018619834710743807, 0.0019735537190082647, 0.002085123966942149, 0.002196694214876033, 0.0023082644628099175, 0.002419834710743802, 0.002531404958677686, 0.0026429752066115704, 0.002754545454545455, 0.002866115702479339]\n"
          ],
          "name": "stdout"
        },
        {
          "output_type": "display_data",
          "data": {
            "image/png": "[encoded data removed]",
            "text/plain": [
              "<Figure size 432x288 with 1 Axes>"
            ]
          },
          "metadata": {
            "tags": []
          }
        }
      ]
    },
    {
      "cell_type": "code",
      "metadata": {
        "id": "uM-_DfvzWCzp",
        "colab_type": "code",
        "outputId": "0c096ccd-b0bb-4362-8195-fca8fefc13a4",
        "colab": {
          "base_uri": "https://localhost:8080/",
          "height": 1000
        }
      },
      "source": [
        "\n",
        "train_model(EPOCHS=24, total_steps=24, epochs=None, steps_per_epoch=None,\n",
        "                       pct_start=0.21, anneal_strategy='linear', cycle_momentum=False, base_momentum=0.85,\n",
        "                       max_momentum=0.95, div_factor=10.0, final_div_factor=10.0, last_epoch=-1)"
      ],
      "execution_count": 0,
      "outputs": [
        {
          "output_type": "stream",
          "text": [
            "\r  0%|          | 0/391 [00:00<?, ?it/s]"
          ],
          "name": "stderr"
        },
        {
          "output_type": "stream",
          "text": [
            "EPOCH: 1 LR: 0.00030000000000000003\n"
          ],
          "name": "stdout"
        },
        {
          "output_type": "stream",
          "text": [
            "Loss=1.3986661434173584 Batch_id=390 Accuracy=42.16: 100%|██████████| 391/391 [00:20<00:00, 18.78it/s]\n",
            "  0%|          | 0/391 [00:00<?, ?it/s]"
          ],
          "name": "stderr"
        },
        {
          "output_type": "stream",
          "text": [
            "\n",
            "Test set: Average loss: 0.0101, Accuracy: 5366/10000 (53.66%)\n",
            "\n",
            "EPOCH: 2 LR: 0.0009683168316831684\n"
          ],
          "name": "stdout"
        },
        {
          "output_type": "stream",
          "text": [
            "Loss=1.1299165487289429 Batch_id=390 Accuracy=57.58: 100%|██████████| 391/391 [00:21<00:00, 18.58it/s]\n",
            "  0%|          | 0/391 [00:00<?, ?it/s]"
          ],
          "name": "stderr"
        },
        {
          "output_type": "stream",
          "text": [
            "\n",
            "Test set: Average loss: 0.0077, Accuracy: 6531/10000 (65.31%)\n",
            "\n",
            "EPOCH: 3 LR: 0.0016366336633663369\n"
          ],
          "name": "stdout"
        },
        {
          "output_type": "stream",
          "text": [
            "Loss=0.8775194883346558 Batch_id=390 Accuracy=66.90: 100%|██████████| 391/391 [00:20<00:00, 18.88it/s]\n",
            "  0%|          | 0/391 [00:00<?, ?it/s]"
          ],
          "name": "stderr"
        },
        {
          "output_type": "stream",
          "text": [
            "\n",
            "Test set: Average loss: 0.0071, Accuracy: 6895/10000 (68.95%)\n",
            "\n",
            "EPOCH: 4 LR: 0.002304950495049505\n"
          ],
          "name": "stdout"
        },
        {
          "output_type": "stream",
          "text": [
            "Loss=0.8981305956840515 Batch_id=390 Accuracy=71.93: 100%|██████████| 391/391 [00:20<00:00, 18.81it/s]\n",
            "  0%|          | 0/391 [00:00<?, ?it/s]"
          ],
          "name": "stderr"
        },
        {
          "output_type": "stream",
          "text": [
            "\n",
            "Test set: Average loss: 0.0064, Accuracy: 7341/10000 (73.41%)\n",
            "\n",
            "EPOCH: 5 LR: 0.0029732673267326734\n"
          ],
          "name": "stdout"
        },
        {
          "output_type": "stream",
          "text": [
            "Loss=0.5467349290847778 Batch_id=390 Accuracy=75.71: 100%|██████████| 391/391 [00:20<00:00, 18.69it/s]\n",
            "  0%|          | 0/391 [00:00<?, ?it/s]"
          ],
          "name": "stderr"
        },
        {
          "output_type": "stream",
          "text": [
            "\n",
            "Test set: Average loss: 0.0055, Accuracy: 7673/10000 (76.73%)\n",
            "\n",
            "EPOCH: 6 LR: 0.0028496202531645572\n"
          ],
          "name": "stdout"
        },
        {
          "output_type": "stream",
          "text": [
            "Loss=0.5477104783058167 Batch_id=390 Accuracy=80.02: 100%|██████████| 391/391 [00:20<00:00, 19.04it/s]\n",
            "  0%|          | 0/391 [00:00<?, ?it/s]"
          ],
          "name": "stderr"
        },
        {
          "output_type": "stream",
          "text": [
            "\n",
            "Test set: Average loss: 0.0047, Accuracy: 7989/10000 (79.89%)\n",
            "\n",
            "EPOCH: 7 LR: 0.002692974683544304\n"
          ],
          "name": "stdout"
        },
        {
          "output_type": "stream",
          "text": [
            "Loss=0.6993889808654785 Batch_id=390 Accuracy=83.22: 100%|██████████| 391/391 [00:20<00:00, 18.87it/s]\n",
            "  0%|          | 0/391 [00:00<?, ?it/s]"
          ],
          "name": "stderr"
        },
        {
          "output_type": "stream",
          "text": [
            "\n",
            "Test set: Average loss: 0.0042, Accuracy: 8252/10000 (82.52%)\n",
            "\n",
            "EPOCH: 8 LR: 0.0025363291139240507\n"
          ],
          "name": "stdout"
        },
        {
          "output_type": "stream",
          "text": [
            "Loss=0.5084601640701294 Batch_id=390 Accuracy=85.78: 100%|██████████| 391/391 [00:20<00:00, 18.89it/s]\n",
            "  0%|          | 0/391 [00:00<?, ?it/s]"
          ],
          "name": "stderr"
        },
        {
          "output_type": "stream",
          "text": [
            "\n",
            "Test set: Average loss: 0.0040, Accuracy: 8353/10000 (83.53%)\n",
            "\n",
            "EPOCH: 9 LR: 0.002379683544303798\n"
          ],
          "name": "stdout"
        },
        {
          "output_type": "stream",
          "text": [
            "Loss=0.3806641101837158 Batch_id=390 Accuracy=87.97: 100%|██████████| 391/391 [00:20<00:00, 18.95it/s]\n",
            "  0%|          | 0/391 [00:00<?, ?it/s]"
          ],
          "name": "stderr"
        },
        {
          "output_type": "stream",
          "text": [
            "\n",
            "Test set: Average loss: 0.0042, Accuracy: 8330/10000 (83.30%)\n",
            "\n",
            "EPOCH: 10 LR: 0.0022230379746835446\n"
          ],
          "name": "stdout"
        },
        {
          "output_type": "stream",
          "text": [
            "Loss=0.20653681457042694 Batch_id=390 Accuracy=89.64: 100%|██████████| 391/391 [00:20<00:00, 18.65it/s]\n",
            "  0%|          | 0/391 [00:00<?, ?it/s]"
          ],
          "name": "stderr"
        },
        {
          "output_type": "stream",
          "text": [
            "\n",
            "Test set: Average loss: 0.0038, Accuracy: 8494/10000 (84.94%)\n",
            "\n",
            "EPOCH: 11 LR: 0.0020663924050632913\n"
          ],
          "name": "stdout"
        },
        {
          "output_type": "stream",
          "text": [
            "Loss=0.19615474343299866 Batch_id=390 Accuracy=91.51: 100%|██████████| 391/391 [00:20<00:00, 18.88it/s]\n",
            "  0%|          | 0/391 [00:00<?, ?it/s]"
          ],
          "name": "stderr"
        },
        {
          "output_type": "stream",
          "text": [
            "\n",
            "Test set: Average loss: 0.0033, Accuracy: 8662/10000 (86.62%)\n",
            "\n",
            "EPOCH: 12 LR: 0.0019097468354430382\n"
          ],
          "name": "stdout"
        },
        {
          "output_type": "stream",
          "text": [
            "Loss=0.1506621092557907 Batch_id=390 Accuracy=92.85: 100%|██████████| 391/391 [00:20<00:00, 18.81it/s]\n",
            "  0%|          | 0/391 [00:00<?, ?it/s]"
          ],
          "name": "stderr"
        },
        {
          "output_type": "stream",
          "text": [
            "\n",
            "Test set: Average loss: 0.0032, Accuracy: 8682/10000 (86.82%)\n",
            "\n",
            "EPOCH: 13 LR: 0.001753101265822785\n"
          ],
          "name": "stdout"
        },
        {
          "output_type": "stream",
          "text": [
            "Loss=0.335458368062973 Batch_id=390 Accuracy=94.29: 100%|██████████| 391/391 [00:22<00:00, 17.07it/s]\n",
            "  0%|          | 0/391 [00:00<?, ?it/s]"
          ],
          "name": "stderr"
        },
        {
          "output_type": "stream",
          "text": [
            "\n",
            "Test set: Average loss: 0.0032, Accuracy: 8737/10000 (87.37%)\n",
            "\n",
            "EPOCH: 14 LR: 0.0015964556962025317\n"
          ],
          "name": "stdout"
        },
        {
          "output_type": "stream",
          "text": [
            "Loss=0.10190793126821518 Batch_id=390 Accuracy=95.37: 100%|██████████| 391/391 [00:21<00:00, 18.21it/s]\n",
            "  0%|          | 0/391 [00:00<?, ?it/s]"
          ],
          "name": "stderr"
        },
        {
          "output_type": "stream",
          "text": [
            "\n",
            "Test set: Average loss: 0.0031, Accuracy: 8758/10000 (87.58%)\n",
            "\n",
            "EPOCH: 15 LR: 0.0014398101265822784\n"
          ],
          "name": "stdout"
        },
        {
          "output_type": "stream",
          "text": [
            "Loss=0.15156763792037964 Batch_id=390 Accuracy=96.25: 100%|██████████| 391/391 [00:21<00:00, 18.35it/s]\n",
            "  0%|          | 0/391 [00:00<?, ?it/s]"
          ],
          "name": "stderr"
        },
        {
          "output_type": "stream",
          "text": [
            "\n",
            "Test set: Average loss: 0.0030, Accuracy: 8840/10000 (88.40%)\n",
            "\n",
            "EPOCH: 16 LR: 0.0012831645569620252\n"
          ],
          "name": "stdout"
        },
        {
          "output_type": "stream",
          "text": [
            "Loss=0.09534414857625961 Batch_id=390 Accuracy=96.84: 100%|██████████| 391/391 [00:21<00:00, 18.42it/s]\n",
            "  0%|          | 0/391 [00:00<?, ?it/s]"
          ],
          "name": "stderr"
        },
        {
          "output_type": "stream",
          "text": [
            "\n",
            "Test set: Average loss: 0.0030, Accuracy: 8842/10000 (88.42%)\n",
            "\n",
            "EPOCH: 17 LR: 0.001126518987341772\n"
          ],
          "name": "stdout"
        },
        {
          "output_type": "stream",
          "text": [
            "Loss=0.07835958898067474 Batch_id=390 Accuracy=97.27: 100%|██████████| 391/391 [00:21<00:00, 18.29it/s]\n",
            "  0%|          | 0/391 [00:00<?, ?it/s]"
          ],
          "name": "stderr"
        },
        {
          "output_type": "stream",
          "text": [
            "\n",
            "Test set: Average loss: 0.0030, Accuracy: 8841/10000 (88.41%)\n",
            "\n",
            "EPOCH: 18 LR: 0.0009698734177215193\n"
          ],
          "name": "stdout"
        },
        {
          "output_type": "stream",
          "text": [
            "Loss=0.08314517140388489 Batch_id=390 Accuracy=97.84: 100%|██████████| 391/391 [00:21<00:00, 18.37it/s]\n",
            "  0%|          | 0/391 [00:00<?, ?it/s]"
          ],
          "name": "stderr"
        },
        {
          "output_type": "stream",
          "text": [
            "\n",
            "Test set: Average loss: 0.0031, Accuracy: 8825/10000 (88.25%)\n",
            "\n",
            "EPOCH: 19 LR: 0.000813227848101266\n"
          ],
          "name": "stdout"
        },
        {
          "output_type": "stream",
          "text": [
            "Loss=0.0706079751253128 Batch_id=390 Accuracy=98.21: 100%|██████████| 391/391 [00:20<00:00, 18.90it/s]\n",
            "  0%|          | 0/391 [00:00<?, ?it/s]"
          ],
          "name": "stderr"
        },
        {
          "output_type": "stream",
          "text": [
            "\n",
            "Test set: Average loss: 0.0030, Accuracy: 8856/10000 (88.56%)\n",
            "\n",
            "EPOCH: 20 LR: 0.0006565822784810127\n"
          ],
          "name": "stdout"
        },
        {
          "output_type": "stream",
          "text": [
            "Loss=0.06162222474813461 Batch_id=390 Accuracy=98.55: 100%|██████████| 391/391 [00:20<00:00, 18.87it/s]\n",
            "  0%|          | 0/391 [00:00<?, ?it/s]"
          ],
          "name": "stderr"
        },
        {
          "output_type": "stream",
          "text": [
            "\n",
            "Test set: Average loss: 0.0029, Accuracy: 8907/10000 (89.07%)\n",
            "\n",
            "EPOCH: 21 LR: 0.0004999367088607595\n"
          ],
          "name": "stdout"
        },
        {
          "output_type": "stream",
          "text": [
            "Loss=0.024096885696053505 Batch_id=390 Accuracy=98.69: 100%|██████████| 391/391 [00:20<00:00, 18.98it/s]\n",
            "  0%|          | 0/391 [00:00<?, ?it/s]"
          ],
          "name": "stderr"
        },
        {
          "output_type": "stream",
          "text": [
            "\n",
            "Test set: Average loss: 0.0029, Accuracy: 8907/10000 (89.07%)\n",
            "\n",
            "EPOCH: 22 LR: 0.0003432911392405066\n"
          ],
          "name": "stdout"
        },
        {
          "output_type": "stream",
          "text": [
            "Loss=0.04122127965092659 Batch_id=390 Accuracy=98.87: 100%|██████████| 391/391 [00:20<00:00, 19.06it/s]\n",
            "  0%|          | 0/391 [00:00<?, ?it/s]"
          ],
          "name": "stderr"
        },
        {
          "output_type": "stream",
          "text": [
            "\n",
            "Test set: Average loss: 0.0028, Accuracy: 8940/10000 (89.40%)\n",
            "\n",
            "EPOCH: 23 LR: 0.00018664556962025335\n"
          ],
          "name": "stdout"
        },
        {
          "output_type": "stream",
          "text": [
            "Loss=0.03512401506304741 Batch_id=390 Accuracy=98.97: 100%|██████████| 391/391 [00:20<00:00, 18.82it/s]\n",
            "  0%|          | 0/391 [00:00<?, ?it/s]"
          ],
          "name": "stderr"
        },
        {
          "output_type": "stream",
          "text": [
            "\n",
            "Test set: Average loss: 0.0029, Accuracy: 8916/10000 (89.16%)\n",
            "\n",
            "EPOCH: 24 LR: 3.000000000000008e-05\n"
          ],
          "name": "stdout"
        },
        {
          "output_type": "stream",
          "text": [
            "Loss=0.03127741441130638 Batch_id=390 Accuracy=99.14: 100%|██████████| 391/391 [00:23<00:00, 16.51it/s]\n"
          ],
          "name": "stderr"
        },
        {
          "output_type": "stream",
          "text": [
            "\n",
            "Test set: Average loss: 0.0028, Accuracy: 8934/10000 (89.34%)\n",
            "\n",
            "[0.00030000000000000003, 0.0009683168316831684, 0.0016366336633663369, 0.002304950495049505, 0.0029732673267326734, 0.0028496202531645572, 0.002692974683544304, 0.0025363291139240507, 0.002379683544303798, 0.0022230379746835446, 0.0020663924050632913, 0.0019097468354430382, 0.001753101265822785, 0.0015964556962025317, 0.0014398101265822784, 0.0012831645569620252, 0.001126518987341772, 0.0009698734177215193, 0.000813227848101266, 0.0006565822784810127, 0.0004999367088607595, 0.0003432911392405066, 0.00018664556962025335, 3.000000000000008e-05]\n"
          ],
          "name": "stdout"
        },
        {
          "output_type": "display_data",
          "data": {
            "image/png": "[encoded data removed]",
            "text/plain": [
              "<Figure size 432x288 with 1 Axes>"
            ]
          },
          "metadata": {
            "tags": []
          }
        }
      ]
    },
    {
      "cell_type": "code",
      "metadata": {
        "id": "CScPmaBXLTQ6",
        "colab_type": "code",
        "outputId": "455698da-e8cc-437c-cbeb-491d97cd0dea",
        "colab": {
          "base_uri": "https://localhost:8080/",
          "height": 1000
        }
      },
      "source": [
        "train_model(EPOCHS=24, total_steps=24, epochs=None, steps_per_epoch=None,\n",
        "                       pct_start=0.21, anneal_strategy='cos', cycle_momentum=False, base_momentum=0.85,\n",
        "                       max_momentum=0.95, div_factor=25.0, final_div_factor=10000.0, last_epoch=-1)\n"
      ],
      "execution_count": 0,
      "outputs": [
        {
          "output_type": "stream",
          "text": [
            "\r  0%|          | 0/391 [00:00<?, ?it/s]"
          ],
          "name": "stderr"
        },
        {
          "output_type": "stream",
          "text": [
            "EPOCH: 1 LR: 0.00011999999999999988\n"
          ],
          "name": "stdout"
        },
        {
          "output_type": "stream",
          "text": [
            "Loss=1.4435842037200928 Batch_id=390 Accuracy=36.27: 100%|██████████| 391/391 [00:21<00:00, 18.25it/s]\n",
            "  0%|          | 0/391 [00:00<?, ?it/s]"
          ],
          "name": "stderr"
        },
        {
          "output_type": "stream",
          "text": [
            "\n",
            "Test set: Average loss: 0.0114, Accuracy: 4777/10000 (47.77%)\n",
            "\n",
            "EPOCH: 2 LR: 0.0005338790916275898\n"
          ],
          "name": "stdout"
        },
        {
          "output_type": "stream",
          "text": [
            "Loss=1.2013964653015137 Batch_id=390 Accuracy=53.43: 100%|██████████| 391/391 [00:21<00:00, 18.29it/s]\n",
            "  0%|          | 0/391 [00:00<?, ?it/s]"
          ],
          "name": "stderr"
        },
        {
          "output_type": "stream",
          "text": [
            "\n",
            "Test set: Average loss: 0.0087, Accuracy: 6090/10000 (60.90%)\n",
            "\n",
            "EPOCH: 3 LR: 0.0015376053908346945\n"
          ],
          "name": "stdout"
        },
        {
          "output_type": "stream",
          "text": [
            "Loss=0.6994494199752808 Batch_id=390 Accuracy=63.03: 100%|██████████| 391/391 [00:21<00:00, 18.07it/s]\n",
            "  0%|          | 0/391 [00:00<?, ?it/s]"
          ],
          "name": "stderr"
        },
        {
          "output_type": "stream",
          "text": [
            "\n",
            "Test set: Average loss: 0.0069, Accuracy: 6876/10000 (68.76%)\n",
            "\n",
            "EPOCH: 4 LR: 0.0025542048296233154\n"
          ],
          "name": "stdout"
        },
        {
          "output_type": "stream",
          "text": [
            "Loss=0.5816994905471802 Batch_id=390 Accuracy=69.44: 100%|██████████| 391/391 [00:21<00:00, 18.30it/s]\n",
            "  0%|          | 0/391 [00:00<?, ?it/s]"
          ],
          "name": "stderr"
        },
        {
          "output_type": "stream",
          "text": [
            "\n",
            "Test set: Average loss: 0.0060, Accuracy: 7365/10000 (73.65%)\n",
            "\n",
            "EPOCH: 5 LR: 0.002999303446500463\n"
          ],
          "name": "stdout"
        },
        {
          "output_type": "stream",
          "text": [
            "Loss=0.5903280973434448 Batch_id=390 Accuracy=75.32: 100%|██████████| 391/391 [00:21<00:00, 18.03it/s]\n",
            "  0%|          | 0/391 [00:00<?, ?it/s]"
          ],
          "name": "stderr"
        },
        {
          "output_type": "stream",
          "text": [
            "\n",
            "Test set: Average loss: 0.0050, Accuracy: 7867/10000 (78.67%)\n",
            "\n",
            "EPOCH: 6 LR: 0.0029810630886524486\n"
          ],
          "name": "stdout"
        },
        {
          "output_type": "stream",
          "text": [
            "Loss=0.4579579830169678 Batch_id=390 Accuracy=79.48: 100%|██████████| 391/391 [00:21<00:00, 18.34it/s]\n",
            "  0%|          | 0/391 [00:00<?, ?it/s]"
          ],
          "name": "stderr"
        },
        {
          "output_type": "stream",
          "text": [
            "\n",
            "Test set: Average loss: 0.0046, Accuracy: 8007/10000 (80.07%)\n",
            "\n",
            "EPOCH: 7 LR: 0.002921589495900446\n"
          ],
          "name": "stdout"
        },
        {
          "output_type": "stream",
          "text": [
            "Loss=0.48946818709373474 Batch_id=390 Accuracy=82.57: 100%|██████████| 391/391 [00:21<00:00, 18.26it/s]\n",
            "  0%|          | 0/391 [00:00<?, ?it/s]"
          ],
          "name": "stderr"
        },
        {
          "output_type": "stream",
          "text": [
            "\n",
            "Test set: Average loss: 0.0044, Accuracy: 8227/10000 (82.27%)\n",
            "\n",
            "EPOCH: 8 LR: 0.002823175397065313\n"
          ],
          "name": "stdout"
        },
        {
          "output_type": "stream",
          "text": [
            "Loss=0.4480389654636383 Batch_id=390 Accuracy=84.95: 100%|██████████| 391/391 [00:22<00:00, 17.67it/s]\n",
            "  0%|          | 0/391 [00:00<?, ?it/s]"
          ],
          "name": "stderr"
        },
        {
          "output_type": "stream",
          "text": [
            "\n",
            "Test set: Average loss: 0.0043, Accuracy: 8260/10000 (82.60%)\n",
            "\n",
            "EPOCH: 9 LR: 0.002688516585131005\n"
          ],
          "name": "stdout"
        },
        {
          "output_type": "stream",
          "text": [
            "Loss=0.2574055790901184 Batch_id=390 Accuracy=87.49: 100%|██████████| 391/391 [00:22<00:00, 17.04it/s]\n",
            "  0%|          | 0/391 [00:00<?, ?it/s]"
          ],
          "name": "stderr"
        },
        {
          "output_type": "stream",
          "text": [
            "\n",
            "Test set: Average loss: 0.0037, Accuracy: 8484/10000 (84.84%)\n",
            "\n",
            "EPOCH: 10 LR: 0.0025213016807803003\n"
          ],
          "name": "stdout"
        },
        {
          "output_type": "stream",
          "text": [
            "Loss=0.47629404067993164 Batch_id=390 Accuracy=89.36: 100%|██████████| 391/391 [00:22<00:00, 17.17it/s]\n",
            "  0%|          | 0/391 [00:00<?, ?it/s]"
          ],
          "name": "stderr"
        },
        {
          "output_type": "stream",
          "text": [
            "\n",
            "Test set: Average loss: 0.0044, Accuracy: 8347/10000 (83.47%)\n",
            "\n",
            "EPOCH: 11 LR: 0.002326111092423142\n"
          ],
          "name": "stdout"
        },
        {
          "output_type": "stream",
          "text": [
            "Loss=0.3677007555961609 Batch_id=390 Accuracy=90.77: 100%|██████████| 391/391 [00:21<00:00, 17.98it/s]\n",
            "  0%|          | 0/391 [00:00<?, ?it/s]"
          ],
          "name": "stderr"
        },
        {
          "output_type": "stream",
          "text": [
            "\n",
            "Test set: Average loss: 0.0034, Accuracy: 8612/10000 (86.12%)\n",
            "\n",
            "EPOCH: 12 LR: 0.002108291548067566\n"
          ],
          "name": "stdout"
        },
        {
          "output_type": "stream",
          "text": [
            "Loss=0.24523527920246124 Batch_id=390 Accuracy=92.64: 100%|██████████| 391/391 [00:21<00:00, 17.88it/s]\n",
            "  0%|          | 0/391 [00:00<?, ?it/s]"
          ],
          "name": "stderr"
        },
        {
          "output_type": "stream",
          "text": [
            "\n",
            "Test set: Average loss: 0.0037, Accuracy: 8579/10000 (85.79%)\n",
            "\n",
            "EPOCH: 13 LR: 0.0018738096358995374\n"
          ],
          "name": "stdout"
        },
        {
          "output_type": "stream",
          "text": [
            "Loss=0.15361374616622925 Batch_id=390 Accuracy=93.96: 100%|██████████| 391/391 [00:21<00:00, 17.90it/s]\n",
            "  0%|          | 0/391 [00:00<?, ?it/s]"
          ],
          "name": "stderr"
        },
        {
          "output_type": "stream",
          "text": [
            "\n",
            "Test set: Average loss: 0.0034, Accuracy: 8668/10000 (86.68%)\n",
            "\n",
            "EPOCH: 14 LR: 0.0016290883654387182\n"
          ],
          "name": "stdout"
        },
        {
          "output_type": "stream",
          "text": [
            "Loss=0.205110102891922 Batch_id=390 Accuracy=95.30: 100%|██████████| 391/391 [00:21<00:00, 18.03it/s]\n",
            "  0%|          | 0/391 [00:00<?, ?it/s]"
          ],
          "name": "stderr"
        },
        {
          "output_type": "stream",
          "text": [
            "\n",
            "Test set: Average loss: 0.0033, Accuracy: 8695/10000 (86.95%)\n",
            "\n",
            "EPOCH: 15 LR: 0.0013808312262434301\n"
          ],
          "name": "stdout"
        },
        {
          "output_type": "stream",
          "text": [
            "Loss=0.17016589641571045 Batch_id=390 Accuracy=96.27: 100%|██████████| 391/391 [00:21<00:00, 17.96it/s]\n",
            "  0%|          | 0/391 [00:00<?, ?it/s]"
          ],
          "name": "stderr"
        },
        {
          "output_type": "stream",
          "text": [
            "\n",
            "Test set: Average loss: 0.0031, Accuracy: 8802/10000 (88.02%)\n",
            "\n",
            "EPOCH: 16 LR: 0.0011358385636095303\n"
          ],
          "name": "stdout"
        },
        {
          "output_type": "stream",
          "text": [
            "Loss=0.08558562397956848 Batch_id=390 Accuracy=97.03: 100%|██████████| 391/391 [00:21<00:00, 17.88it/s]\n",
            "  0%|          | 0/391 [00:00<?, ?it/s]"
          ],
          "name": "stderr"
        },
        {
          "output_type": "stream",
          "text": [
            "\n",
            "Test set: Average loss: 0.0031, Accuracy: 8815/10000 (88.15%)\n",
            "\n",
            "EPOCH: 17 LR: 0.0009008213011634747\n"
          ],
          "name": "stdout"
        },
        {
          "output_type": "stream",
          "text": [
            "Loss=0.061535365879535675 Batch_id=390 Accuracy=97.67: 100%|██████████| 391/391 [00:21<00:00, 18.06it/s]\n",
            "  0%|          | 0/391 [00:00<?, ?it/s]"
          ],
          "name": "stderr"
        },
        {
          "output_type": "stream",
          "text": [
            "\n",
            "Test set: Average loss: 0.0031, Accuracy: 8815/10000 (88.15%)\n",
            "\n",
            "EPOCH: 18 LR: 0.0006822171129246319\n"
          ],
          "name": "stdout"
        },
        {
          "output_type": "stream",
          "text": [
            "Loss=0.020255234092473984 Batch_id=390 Accuracy=98.14: 100%|██████████| 391/391 [00:21<00:00, 18.03it/s]\n",
            "  0%|          | 0/391 [00:00<?, ?it/s]"
          ],
          "name": "stderr"
        },
        {
          "output_type": "stream",
          "text": [
            "\n",
            "Test set: Average loss: 0.0029, Accuracy: 8866/10000 (88.66%)\n",
            "\n",
            "EPOCH: 19 LR: 0.000486014080315204\n"
          ],
          "name": "stdout"
        },
        {
          "output_type": "stream",
          "text": [
            "Loss=0.11075880378484726 Batch_id=390 Accuracy=98.41: 100%|██████████| 391/391 [00:21<00:00, 18.02it/s]\n",
            "  0%|          | 0/391 [00:00<?, ?it/s]"
          ],
          "name": "stderr"
        },
        {
          "output_type": "stream",
          "text": [
            "\n",
            "Test set: Average loss: 0.0029, Accuracy: 8898/10000 (88.98%)\n",
            "\n",
            "EPOCH: 20 LR: 0.00031758666456584747\n"
          ],
          "name": "stdout"
        },
        {
          "output_type": "stream",
          "text": [
            "Loss=0.089085154235363 Batch_id=390 Accuracy=98.56: 100%|██████████| 391/391 [00:21<00:00, 18.01it/s]\n",
            "  0%|          | 0/391 [00:00<?, ?it/s]"
          ],
          "name": "stderr"
        },
        {
          "output_type": "stream",
          "text": [
            "\n",
            "Test set: Average loss: 0.0029, Accuracy: 8910/10000 (89.10%)\n",
            "\n",
            "EPOCH: 21 LR: 0.0001815484876174944\n"
          ],
          "name": "stdout"
        },
        {
          "output_type": "stream",
          "text": [
            "Loss=0.02728680707514286 Batch_id=390 Accuracy=98.76: 100%|██████████| 391/391 [00:22<00:00, 17.44it/s]\n",
            "  0%|          | 0/391 [00:00<?, ?it/s]"
          ],
          "name": "stderr"
        },
        {
          "output_type": "stream",
          "text": [
            "\n",
            "Test set: Average loss: 0.0028, Accuracy: 8917/10000 (89.17%)\n",
            "\n",
            "EPOCH: 22 LR: 8.162595419577061e-05\n"
          ],
          "name": "stdout"
        },
        {
          "output_type": "stream",
          "text": [
            "Loss=0.05599714443087578 Batch_id=390 Accuracy=98.79: 100%|██████████| 391/391 [00:22<00:00, 17.65it/s]\n",
            "  0%|          | 0/391 [00:00<?, ?it/s]"
          ],
          "name": "stderr"
        },
        {
          "output_type": "stream",
          "text": [
            "\n",
            "Test set: Average loss: 0.0029, Accuracy: 8912/10000 (89.12%)\n",
            "\n",
            "EPOCH: 23 LR: 2.055617684578616e-05\n"
          ],
          "name": "stdout"
        },
        {
          "output_type": "stream",
          "text": [
            "Loss=0.022744070738554 Batch_id=390 Accuracy=98.79: 100%|██████████| 391/391 [00:22<00:00, 17.41it/s]\n",
            "  0%|          | 0/391 [00:00<?, ?it/s]"
          ],
          "name": "stderr"
        },
        {
          "output_type": "stream",
          "text": [
            "\n",
            "Test set: Average loss: 0.0029, Accuracy: 8912/10000 (89.12%)\n",
            "\n",
            "EPOCH: 24 LR: 1.2e-08\n"
          ],
          "name": "stdout"
        },
        {
          "output_type": "stream",
          "text": [
            "Loss=0.031161075457930565 Batch_id=390 Accuracy=98.83: 100%|██████████| 391/391 [00:22<00:00, 17.40it/s]\n"
          ],
          "name": "stderr"
        },
        {
          "output_type": "stream",
          "text": [
            "\n",
            "Test set: Average loss: 0.0028, Accuracy: 8906/10000 (89.06%)\n",
            "\n",
            "[0.00011999999999999988, 0.0005338790916275898, 0.0015376053908346945, 0.0025542048296233154, 0.002999303446500463, 0.0029810630886524486, 0.002921589495900446, 0.002823175397065313, 0.002688516585131005, 0.0025213016807803003, 0.002326111092423142, 0.002108291548067566, 0.0018738096358995374, 0.0016290883654387182, 0.0013808312262434301, 0.0011358385636095303, 0.0009008213011634747, 0.0006822171129246319, 0.000486014080315204, 0.00031758666456584747, 0.0001815484876174944, 8.162595419577061e-05, 2.055617684578616e-05, 1.2e-08]\n"
          ],
          "name": "stdout"
        },
        {
          "output_type": "display_data",
          "data": {
            "image/png": "[encoded data removed]",
            "text/plain": [
              "<Figure size 432x288 with 1 Axes>"
            ]
          },
          "metadata": {
            "tags": []
          }
        }
      ]
    },
    {
      "cell_type": "code",
      "metadata": {
        "id": "OlMh4xkvBLEH",
        "colab_type": "code",
        "colab": {
          "base_uri": "https://localhost:8080/",
          "height": 1000
        },
        "outputId": "9ab057bd-9f45-44f7-90f2-e2bbe9b4b620"
      },
      "source": [
        "from torch.optim.lr_scheduler import OneCycleLR\n",
        "import torch.nn as nn\n",
        "import torch.optim as optim\n",
        "\n",
        "  \n",
        "use_cuda = torch.cuda.is_available()\n",
        "device = torch.device(\"cuda\" if use_cuda else \"cpu\")\n",
        "model = New_Resnet().to(device)\n",
        "\n",
        "EPOCHS = 24\n",
        "lr = 0.003\n",
        "import torch.nn as nn\n",
        "import torch.optim as optim\n",
        "from torch.optim.lr_scheduler import OneCycleLR\n",
        "max_lr = 0.003\n",
        "criterion = nn.CrossEntropyLoss()\n",
        "optimizer = optim.SGD(model.parameters(), lr=lr, momentum=0.9,weight_decay=0.0005)\n",
        "scheduler = OneCycleLR(optimizer, max_lr, total_steps=EPOCHS, epochs=None, steps_per_epoch=None,\n",
        "                       pct_start=0.21, anneal_strategy='cos', cycle_momentum=False, base_momentum=0.85,\n",
        "                       max_momentum=0.95, div_factor=25.0, final_div_factor=10000.0, last_epoch=-1)\n",
        "\n",
        "\n",
        "l_rate = []\n",
        "\n",
        "train_test = train_and_test.Train_test()\n",
        "\n",
        "for epoch in range(EPOCHS):\n",
        "    print(\"EPOCH:\", epoch+1, 'LR:',optimizer.param_groups[0]['lr'])\n",
        "    l_rate.append(optimizer.param_groups[0]['lr'])    \n",
        "    train_acc,train_acc_epoch_end,train_losses,test_losses,test_acc = train_test.train_and_test(model, device, trainloader,testloader, optimizer, criterion, epoch)\n",
        "    scheduler.step()\n",
        "print(l_rate)\n",
        "plt.plot(l_rate)"
      ],
      "execution_count": 33,
      "outputs": [
        {
          "output_type": "stream",
          "text": [
            "\r  0%|          | 0/98 [00:00<?, ?it/s]"
          ],
          "name": "stderr"
        },
        {
          "output_type": "stream",
          "text": [
            "EPOCH: 1 LR: 0.00011999999999999988\n"
          ],
          "name": "stdout"
        },
        {
          "output_type": "stream",
          "text": [
            "Loss=1.9324638843536377 Batch_id=97 Accuracy=24.29: 100%|██████████| 98/98 [00:21<00:00,  4.58it/s]\n",
            "  0%|          | 0/98 [00:00<?, ?it/s]"
          ],
          "name": "stderr"
        },
        {
          "output_type": "stream",
          "text": [
            "\n",
            "Test set: Average loss: 0.0037, Accuracy: 3377/10000 (33.77%)\n",
            "\n",
            "EPOCH: 2 LR: 0.0005338790916275898\n"
          ],
          "name": "stdout"
        },
        {
          "output_type": "stream",
          "text": [
            "Loss=1.3706285953521729 Batch_id=97 Accuracy=41.59: 100%|██████████| 98/98 [00:21<00:00,  4.63it/s]\n",
            "  0%|          | 0/98 [00:00<?, ?it/s]"
          ],
          "name": "stderr"
        },
        {
          "output_type": "stream",
          "text": [
            "\n",
            "Test set: Average loss: 0.0028, Accuracy: 4954/10000 (49.54%)\n",
            "\n",
            "EPOCH: 3 LR: 0.0015376053908346945\n"
          ],
          "name": "stdout"
        },
        {
          "output_type": "stream",
          "text": [
            "Loss=1.1460176706314087 Batch_id=97 Accuracy=53.64: 100%|██████████| 98/98 [00:21<00:00,  4.66it/s]\n",
            "  0%|          | 0/98 [00:00<?, ?it/s]"
          ],
          "name": "stderr"
        },
        {
          "output_type": "stream",
          "text": [
            "\n",
            "Test set: Average loss: 0.0023, Accuracy: 5963/10000 (59.63%)\n",
            "\n",
            "EPOCH: 4 LR: 0.0025542048296233154\n"
          ],
          "name": "stdout"
        },
        {
          "output_type": "stream",
          "text": [
            "Loss=0.8385517597198486 Batch_id=97 Accuracy=62.02: 100%|██████████| 98/98 [00:21<00:00,  4.56it/s]\n",
            "  0%|          | 0/98 [00:00<?, ?it/s]"
          ],
          "name": "stderr"
        },
        {
          "output_type": "stream",
          "text": [
            "\n",
            "Test set: Average loss: 0.0021, Accuracy: 6338/10000 (63.38%)\n",
            "\n",
            "EPOCH: 5 LR: 0.002999303446500463\n"
          ],
          "name": "stdout"
        },
        {
          "output_type": "stream",
          "text": [
            "Loss=0.8202406764030457 Batch_id=97 Accuracy=68.17: 100%|██████████| 98/98 [00:21<00:00,  4.59it/s]\n",
            "  0%|          | 0/98 [00:00<?, ?it/s]"
          ],
          "name": "stderr"
        },
        {
          "output_type": "stream",
          "text": [
            "\n",
            "Test set: Average loss: 0.0019, Accuracy: 6823/10000 (68.23%)\n",
            "\n",
            "EPOCH: 6 LR: 0.0029810630886524486\n"
          ],
          "name": "stdout"
        },
        {
          "output_type": "stream",
          "text": [
            "Loss=0.7616177797317505 Batch_id=97 Accuracy=72.29: 100%|██████████| 98/98 [00:20<00:00,  4.67it/s]\n",
            "  0%|          | 0/98 [00:00<?, ?it/s]"
          ],
          "name": "stderr"
        },
        {
          "output_type": "stream",
          "text": [
            "\n",
            "Test set: Average loss: 0.0015, Accuracy: 7411/10000 (74.11%)\n",
            "\n",
            "EPOCH: 7 LR: 0.002921589495900446\n"
          ],
          "name": "stdout"
        },
        {
          "output_type": "stream",
          "text": [
            "Loss=0.7945994138717651 Batch_id=97 Accuracy=75.49: 100%|██████████| 98/98 [00:21<00:00,  4.66it/s]\n",
            "  0%|          | 0/98 [00:00<?, ?it/s]"
          ],
          "name": "stderr"
        },
        {
          "output_type": "stream",
          "text": [
            "\n",
            "Test set: Average loss: 0.0014, Accuracy: 7549/10000 (75.49%)\n",
            "\n",
            "EPOCH: 8 LR: 0.002823175397065313\n"
          ],
          "name": "stdout"
        },
        {
          "output_type": "stream",
          "text": [
            "Loss=0.6364094614982605 Batch_id=97 Accuracy=77.79: 100%|██████████| 98/98 [00:20<00:00,  4.75it/s]\n",
            "  0%|          | 0/98 [00:00<?, ?it/s]"
          ],
          "name": "stderr"
        },
        {
          "output_type": "stream",
          "text": [
            "\n",
            "Test set: Average loss: 0.0012, Accuracy: 7871/10000 (78.71%)\n",
            "\n",
            "EPOCH: 9 LR: 0.002688516585131005\n"
          ],
          "name": "stdout"
        },
        {
          "output_type": "stream",
          "text": [
            "Loss=0.6293535828590393 Batch_id=97 Accuracy=79.51: 100%|██████████| 98/98 [00:20<00:00,  4.83it/s]\n",
            "  0%|          | 0/98 [00:00<?, ?it/s]"
          ],
          "name": "stderr"
        },
        {
          "output_type": "stream",
          "text": [
            "\n",
            "Test set: Average loss: 0.0012, Accuracy: 7904/10000 (79.04%)\n",
            "\n",
            "EPOCH: 10 LR: 0.0025213016807803003\n"
          ],
          "name": "stdout"
        },
        {
          "output_type": "stream",
          "text": [
            "Loss=0.5680403113365173 Batch_id=97 Accuracy=81.04: 100%|██████████| 98/98 [00:20<00:00,  4.82it/s]\n",
            "  0%|          | 0/98 [00:00<?, ?it/s]"
          ],
          "name": "stderr"
        },
        {
          "output_type": "stream",
          "text": [
            "\n",
            "Test set: Average loss: 0.0011, Accuracy: 8174/10000 (81.74%)\n",
            "\n",
            "EPOCH: 11 LR: 0.002326111092423142\n"
          ],
          "name": "stdout"
        },
        {
          "output_type": "stream",
          "text": [
            "Loss=0.4848773181438446 Batch_id=97 Accuracy=82.28: 100%|██████████| 98/98 [00:20<00:00,  4.75it/s]\n",
            "  0%|          | 0/98 [00:00<?, ?it/s]"
          ],
          "name": "stderr"
        },
        {
          "output_type": "stream",
          "text": [
            "\n",
            "Test set: Average loss: 0.0011, Accuracy: 8119/10000 (81.19%)\n",
            "\n",
            "EPOCH: 12 LR: 0.002108291548067566\n"
          ],
          "name": "stdout"
        },
        {
          "output_type": "stream",
          "text": [
            "Loss=0.4932928681373596 Batch_id=97 Accuracy=83.88: 100%|██████████| 98/98 [00:20<00:00,  4.69it/s]\n",
            "  0%|          | 0/98 [00:00<?, ?it/s]"
          ],
          "name": "stderr"
        },
        {
          "output_type": "stream",
          "text": [
            "\n",
            "Test set: Average loss: 0.0010, Accuracy: 8231/10000 (82.31%)\n",
            "\n",
            "EPOCH: 13 LR: 0.0018738096358995374\n"
          ],
          "name": "stdout"
        },
        {
          "output_type": "stream",
          "text": [
            "Loss=0.43753764033317566 Batch_id=97 Accuracy=84.83: 100%|██████████| 98/98 [00:20<00:00,  4.69it/s]\n",
            "  0%|          | 0/98 [00:00<?, ?it/s]"
          ],
          "name": "stderr"
        },
        {
          "output_type": "stream",
          "text": [
            "\n",
            "Test set: Average loss: 0.0010, Accuracy: 8285/10000 (82.85%)\n",
            "\n",
            "EPOCH: 14 LR: 0.0016290883654387182\n"
          ],
          "name": "stdout"
        },
        {
          "output_type": "stream",
          "text": [
            "Loss=0.437062531709671 Batch_id=97 Accuracy=85.87: 100%|██████████| 98/98 [00:21<00:00,  4.66it/s]\n",
            "  0%|          | 0/98 [00:00<?, ?it/s]"
          ],
          "name": "stderr"
        },
        {
          "output_type": "stream",
          "text": [
            "\n",
            "Test set: Average loss: 0.0010, Accuracy: 8286/10000 (82.86%)\n",
            "\n",
            "EPOCH: 15 LR: 0.0013808312262434301\n"
          ],
          "name": "stdout"
        },
        {
          "output_type": "stream",
          "text": [
            "Loss=0.40152740478515625 Batch_id=97 Accuracy=86.47: 100%|██████████| 98/98 [00:20<00:00,  4.77it/s]\n",
            "  0%|          | 0/98 [00:00<?, ?it/s]"
          ],
          "name": "stderr"
        },
        {
          "output_type": "stream",
          "text": [
            "\n",
            "Test set: Average loss: 0.0009, Accuracy: 8443/10000 (84.43%)\n",
            "\n",
            "EPOCH: 16 LR: 0.0011358385636095303\n"
          ],
          "name": "stdout"
        },
        {
          "output_type": "stream",
          "text": [
            "Loss=0.39977699518203735 Batch_id=97 Accuracy=87.51: 100%|██████████| 98/98 [00:20<00:00,  4.72it/s]\n",
            "  0%|          | 0/98 [00:00<?, ?it/s]"
          ],
          "name": "stderr"
        },
        {
          "output_type": "stream",
          "text": [
            "\n",
            "Test set: Average loss: 0.0009, Accuracy: 8475/10000 (84.75%)\n",
            "\n",
            "EPOCH: 17 LR: 0.0009008213011634747\n"
          ],
          "name": "stdout"
        },
        {
          "output_type": "stream",
          "text": [
            "Loss=0.38549304008483887 Batch_id=97 Accuracy=88.18: 100%|██████████| 98/98 [00:20<00:00,  4.76it/s]\n",
            "  0%|          | 0/98 [00:00<?, ?it/s]"
          ],
          "name": "stderr"
        },
        {
          "output_type": "stream",
          "text": [
            "\n",
            "Test set: Average loss: 0.0009, Accuracy: 8486/10000 (84.86%)\n",
            "\n",
            "EPOCH: 18 LR: 0.0006822171129246319\n"
          ],
          "name": "stdout"
        },
        {
          "output_type": "stream",
          "text": [
            "Loss=0.3048587441444397 Batch_id=97 Accuracy=88.41: 100%|██████████| 98/98 [00:20<00:00,  4.75it/s]\n",
            "  0%|          | 0/98 [00:00<?, ?it/s]"
          ],
          "name": "stderr"
        },
        {
          "output_type": "stream",
          "text": [
            "\n",
            "Test set: Average loss: 0.0009, Accuracy: 8544/10000 (85.44%)\n",
            "\n",
            "EPOCH: 19 LR: 0.000486014080315204\n"
          ],
          "name": "stdout"
        },
        {
          "output_type": "stream",
          "text": [
            "Loss=0.35013842582702637 Batch_id=97 Accuracy=88.97: 100%|██████████| 98/98 [00:20<00:00,  4.75it/s]\n",
            "  0%|          | 0/98 [00:00<?, ?it/s]"
          ],
          "name": "stderr"
        },
        {
          "output_type": "stream",
          "text": [
            "\n",
            "Test set: Average loss: 0.0008, Accuracy: 8541/10000 (85.41%)\n",
            "\n",
            "EPOCH: 20 LR: 0.00031758666456584747\n"
          ],
          "name": "stdout"
        },
        {
          "output_type": "stream",
          "text": [
            "Loss=0.34835827350616455 Batch_id=97 Accuracy=89.35: 100%|██████████| 98/98 [00:20<00:00,  4.74it/s]\n",
            "  0%|          | 0/98 [00:00<?, ?it/s]"
          ],
          "name": "stderr"
        },
        {
          "output_type": "stream",
          "text": [
            "\n",
            "Test set: Average loss: 0.0008, Accuracy: 8538/10000 (85.38%)\n",
            "\n",
            "EPOCH: 21 LR: 0.0001815484876174944\n"
          ],
          "name": "stdout"
        },
        {
          "output_type": "stream",
          "text": [
            "Loss=0.3932684063911438 Batch_id=97 Accuracy=89.70: 100%|██████████| 98/98 [00:20<00:00,  4.82it/s]\n",
            "  0%|          | 0/98 [00:00<?, ?it/s]"
          ],
          "name": "stderr"
        },
        {
          "output_type": "stream",
          "text": [
            "\n",
            "Test set: Average loss: 0.0008, Accuracy: 8586/10000 (85.86%)\n",
            "\n",
            "EPOCH: 22 LR: 8.162595419577061e-05\n"
          ],
          "name": "stdout"
        },
        {
          "output_type": "stream",
          "text": [
            "Loss=0.3678640127182007 Batch_id=97 Accuracy=89.67: 100%|██████████| 98/98 [00:20<00:00,  4.79it/s]\n",
            "  0%|          | 0/98 [00:00<?, ?it/s]"
          ],
          "name": "stderr"
        },
        {
          "output_type": "stream",
          "text": [
            "\n",
            "Test set: Average loss: 0.0008, Accuracy: 8575/10000 (85.75%)\n",
            "\n",
            "EPOCH: 23 LR: 2.055617684578616e-05\n"
          ],
          "name": "stdout"
        },
        {
          "output_type": "stream",
          "text": [
            "Loss=0.2894511818885803 Batch_id=97 Accuracy=89.79: 100%|██████████| 98/98 [00:20<00:00,  4.76it/s]\n",
            "  0%|          | 0/98 [00:00<?, ?it/s]"
          ],
          "name": "stderr"
        },
        {
          "output_type": "stream",
          "text": [
            "\n",
            "Test set: Average loss: 0.0008, Accuracy: 8581/10000 (85.81%)\n",
            "\n",
            "EPOCH: 24 LR: 1.2e-08\n"
          ],
          "name": "stdout"
        },
        {
          "output_type": "stream",
          "text": [
            "Loss=0.28469333052635193 Batch_id=97 Accuracy=89.94: 100%|██████████| 98/98 [00:20<00:00,  4.74it/s]\n"
          ],
          "name": "stderr"
        },
        {
          "output_type": "stream",
          "text": [
            "\n",
            "Test set: Average loss: 0.0008, Accuracy: 8585/10000 (85.85%)\n",
            "\n",
            "[0.00011999999999999988, 0.0005338790916275898, 0.0015376053908346945, 0.0025542048296233154, 0.002999303446500463, 0.0029810630886524486, 0.002921589495900446, 0.002823175397065313, 0.002688516585131005, 0.0025213016807803003, 0.002326111092423142, 0.002108291548067566, 0.0018738096358995374, 0.0016290883654387182, 0.0013808312262434301, 0.0011358385636095303, 0.0009008213011634747, 0.0006822171129246319, 0.000486014080315204, 0.00031758666456584747, 0.0001815484876174944, 8.162595419577061e-05, 2.055617684578616e-05, 1.2e-08]\n"
          ],
          "name": "stdout"
        },
        {
          "output_type": "execute_result",
          "data": {
            "text/plain": [
              "[<matplotlib.lines.Line2D at 0x7fd039999a58>]"
            ]
          },
          "metadata": {
            "tags": []
          },
          "execution_count": 33
        },
        {
          "output_type": "display_data",
          "data": {
            "image/png": "[encoded data removed]",
            "text/plain": [
              "<Figure size 432x288 with 1 Axes>"
            ]
          },
          "metadata": {
            "tags": []
          }
        }
      ]
    },
    {
      "cell_type": "code",
      "metadata": {
        "id": "eCdW7f9VHNtn",
        "colab_type": "code",
        "colab": {
          "base_uri": "https://localhost:8080/",
          "height": 1000
        },
        "outputId": "38acfab9-e9d6-40ee-9595-ab75165eee1f"
      },
      "source": [
        "from torch.optim.lr_scheduler import OneCycleLR\n",
        "import torch.nn as nn\n",
        "import torch.optim as optim\n",
        "\n",
        "  \n",
        "use_cuda = torch.cuda.is_available()\n",
        "device = torch.device(\"cuda\" if use_cuda else \"cpu\")\n",
        "model = dnn_architecture.New_Resnet().to(device)\n",
        "\n",
        "EPOCHS = 24\n",
        "lr = 0.0025\n",
        "max_lr = lr\n",
        "\n",
        "criterion = nn.CrossEntropyLoss()\n",
        "optimizer = optim.SGD(model.parameters(), lr=lr, momentum=0.9,weight_decay=0.0005)\n",
        "scheduler = OneCycleLR(optimizer, max_lr, total_steps=EPOCHS, epochs=None, steps_per_epoch=None,\n",
        "                       pct_start=0.21, anneal_strategy='linear', cycle_momentum=False, base_momentum=0.85,\n",
        "                       max_momentum=0.95, div_factor=10.0, final_div_factor=10.0, last_epoch=-1)\n",
        "\n",
        "\n",
        "l_rate = []\n",
        "\n",
        "train_test = train_and_test.Train_test()\n",
        "\n",
        "for epoch in range(EPOCHS):\n",
        "    print(\"EPOCH:\", epoch+1, 'LR:',optimizer.param_groups[0]['lr'])\n",
        "    l_rate.append(optimizer.param_groups[0]['lr'])    \n",
        "    train_acc,train_acc_epoch_end,train_losses,test_losses,test_acc = train_test.train_and_test(model, device, trainloader,testloader, optimizer, criterion, epoch)\n",
        "    scheduler.step()\n",
        "print(l_rate)\n"
      ],
      "execution_count": 36,
      "outputs": [
        {
          "output_type": "stream",
          "text": [
            "\r  0%|          | 0/98 [00:00<?, ?it/s]"
          ],
          "name": "stderr"
        },
        {
          "output_type": "stream",
          "text": [
            "EPOCH: 1 LR: 0.00025\n"
          ],
          "name": "stdout"
        },
        {
          "output_type": "stream",
          "text": [
            "Loss=1.6840507984161377 Batch_id=97 Accuracy=29.00: 100%|██████████| 98/98 [00:20<00:00,  4.86it/s]\n",
            "  0%|          | 0/98 [00:00<?, ?it/s]"
          ],
          "name": "stderr"
        },
        {
          "output_type": "stream",
          "text": [
            "\n",
            "Test set: Average loss: 0.0033, Accuracy: 4077/10000 (40.77%)\n",
            "\n",
            "EPOCH: 2 LR: 0.000806930693069307\n"
          ],
          "name": "stdout"
        },
        {
          "output_type": "stream",
          "text": [
            "Loss=1.4269448518753052 Batch_id=97 Accuracy=46.37: 100%|██████████| 98/98 [00:20<00:00,  4.83it/s]\n",
            "  0%|          | 0/98 [00:00<?, ?it/s]"
          ],
          "name": "stderr"
        },
        {
          "output_type": "stream",
          "text": [
            "\n",
            "Test set: Average loss: 0.0026, Accuracy: 5300/10000 (53.00%)\n",
            "\n",
            "EPOCH: 3 LR: 0.001363861386138614\n"
          ],
          "name": "stdout"
        },
        {
          "output_type": "stream",
          "text": [
            "Loss=1.0883151292800903 Batch_id=97 Accuracy=55.91: 100%|██████████| 98/98 [00:20<00:00,  4.84it/s]\n",
            "  0%|          | 0/98 [00:00<?, ?it/s]"
          ],
          "name": "stderr"
        },
        {
          "output_type": "stream",
          "text": [
            "\n",
            "Test set: Average loss: 0.0022, Accuracy: 5938/10000 (59.38%)\n",
            "\n",
            "EPOCH: 4 LR: 0.001920792079207921\n"
          ],
          "name": "stdout"
        },
        {
          "output_type": "stream",
          "text": [
            "Loss=0.9844401478767395 Batch_id=97 Accuracy=62.31: 100%|██████████| 98/98 [00:20<00:00,  4.83it/s]\n",
            "  0%|          | 0/98 [00:00<?, ?it/s]"
          ],
          "name": "stderr"
        },
        {
          "output_type": "stream",
          "text": [
            "\n",
            "Test set: Average loss: 0.0021, Accuracy: 6266/10000 (62.66%)\n",
            "\n",
            "EPOCH: 5 LR: 0.002477722772277228\n"
          ],
          "name": "stdout"
        },
        {
          "output_type": "stream",
          "text": [
            "Loss=0.8888382911682129 Batch_id=97 Accuracy=67.68: 100%|██████████| 98/98 [00:20<00:00,  4.89it/s]\n",
            "  0%|          | 0/98 [00:00<?, ?it/s]"
          ],
          "name": "stderr"
        },
        {
          "output_type": "stream",
          "text": [
            "\n",
            "Test set: Average loss: 0.0017, Accuracy: 7102/10000 (71.02%)\n",
            "\n",
            "EPOCH: 6 LR: 0.0023746835443037976\n"
          ],
          "name": "stdout"
        },
        {
          "output_type": "stream",
          "text": [
            "Loss=0.8006546497344971 Batch_id=97 Accuracy=72.01: 100%|██████████| 98/98 [00:20<00:00,  4.80it/s]\n",
            "  0%|          | 0/98 [00:00<?, ?it/s]"
          ],
          "name": "stderr"
        },
        {
          "output_type": "stream",
          "text": [
            "\n",
            "Test set: Average loss: 0.0016, Accuracy: 7296/10000 (72.96%)\n",
            "\n",
            "EPOCH: 7 LR: 0.002244145569620253\n"
          ],
          "name": "stdout"
        },
        {
          "output_type": "stream",
          "text": [
            "Loss=0.6053320169448853 Batch_id=97 Accuracy=74.86: 100%|██████████| 98/98 [00:20<00:00,  4.85it/s]\n",
            "  0%|          | 0/98 [00:00<?, ?it/s]"
          ],
          "name": "stderr"
        },
        {
          "output_type": "stream",
          "text": [
            "\n",
            "Test set: Average loss: 0.0015, Accuracy: 7377/10000 (73.77%)\n",
            "\n",
            "EPOCH: 8 LR: 0.002113607594936709\n"
          ],
          "name": "stdout"
        },
        {
          "output_type": "stream",
          "text": [
            "Loss=0.6241700649261475 Batch_id=97 Accuracy=77.06: 100%|██████████| 98/98 [00:20<00:00,  4.85it/s]\n",
            "  0%|          | 0/98 [00:00<?, ?it/s]"
          ],
          "name": "stderr"
        },
        {
          "output_type": "stream",
          "text": [
            "\n",
            "Test set: Average loss: 0.0013, Accuracy: 7700/10000 (77.00%)\n",
            "\n",
            "EPOCH: 9 LR: 0.0019830696202531644\n"
          ],
          "name": "stdout"
        },
        {
          "output_type": "stream",
          "text": [
            "Loss=0.6125646233558655 Batch_id=97 Accuracy=78.62: 100%|██████████| 98/98 [00:20<00:00,  4.84it/s]\n",
            "  0%|          | 0/98 [00:00<?, ?it/s]"
          ],
          "name": "stderr"
        },
        {
          "output_type": "stream",
          "text": [
            "\n",
            "Test set: Average loss: 0.0012, Accuracy: 7877/10000 (78.77%)\n",
            "\n",
            "EPOCH: 10 LR: 0.0018525316455696205\n"
          ],
          "name": "stdout"
        },
        {
          "output_type": "stream",
          "text": [
            "Loss=0.5468570590019226 Batch_id=97 Accuracy=80.41: 100%|██████████| 98/98 [00:20<00:00,  4.83it/s]\n",
            "  0%|          | 0/98 [00:00<?, ?it/s]"
          ],
          "name": "stderr"
        },
        {
          "output_type": "stream",
          "text": [
            "\n",
            "Test set: Average loss: 0.0011, Accuracy: 8057/10000 (80.57%)\n",
            "\n",
            "EPOCH: 11 LR: 0.001721993670886076\n"
          ],
          "name": "stdout"
        },
        {
          "output_type": "stream",
          "text": [
            "Loss=0.5484911799430847 Batch_id=97 Accuracy=81.62: 100%|██████████| 98/98 [00:20<00:00,  4.87it/s]\n",
            "  0%|          | 0/98 [00:00<?, ?it/s]"
          ],
          "name": "stderr"
        },
        {
          "output_type": "stream",
          "text": [
            "\n",
            "Test set: Average loss: 0.0012, Accuracy: 7982/10000 (79.82%)\n",
            "\n",
            "EPOCH: 12 LR: 0.0015914556962025317\n"
          ],
          "name": "stdout"
        },
        {
          "output_type": "stream",
          "text": [
            "Loss=0.4951664209365845 Batch_id=97 Accuracy=82.60: 100%|██████████| 98/98 [00:20<00:00,  4.80it/s]\n",
            "  0%|          | 0/98 [00:00<?, ?it/s]"
          ],
          "name": "stderr"
        },
        {
          "output_type": "stream",
          "text": [
            "\n",
            "Test set: Average loss: 0.0011, Accuracy: 8112/10000 (81.12%)\n",
            "\n",
            "EPOCH: 13 LR: 0.0014609177215189873\n"
          ],
          "name": "stdout"
        },
        {
          "output_type": "stream",
          "text": [
            "Loss=0.46737951040267944 Batch_id=97 Accuracy=83.85: 100%|██████████| 98/98 [00:20<00:00,  4.82it/s]\n",
            "  0%|          | 0/98 [00:00<?, ?it/s]"
          ],
          "name": "stderr"
        },
        {
          "output_type": "stream",
          "text": [
            "\n",
            "Test set: Average loss: 0.0011, Accuracy: 8176/10000 (81.76%)\n",
            "\n",
            "EPOCH: 14 LR: 0.001330379746835443\n"
          ],
          "name": "stdout"
        },
        {
          "output_type": "stream",
          "text": [
            "Loss=0.45472532510757446 Batch_id=97 Accuracy=84.69: 100%|██████████| 98/98 [00:20<00:00,  4.83it/s]\n",
            "  0%|          | 0/98 [00:00<?, ?it/s]"
          ],
          "name": "stderr"
        },
        {
          "output_type": "stream",
          "text": [
            "\n",
            "Test set: Average loss: 0.0011, Accuracy: 8264/10000 (82.64%)\n",
            "\n",
            "EPOCH: 15 LR: 0.0011998417721518985\n"
          ],
          "name": "stdout"
        },
        {
          "output_type": "stream",
          "text": [
            "Loss=0.44085580110549927 Batch_id=97 Accuracy=85.43: 100%|██████████| 98/98 [00:20<00:00,  4.84it/s]\n",
            "  0%|          | 0/98 [00:00<?, ?it/s]"
          ],
          "name": "stderr"
        },
        {
          "output_type": "stream",
          "text": [
            "\n",
            "Test set: Average loss: 0.0010, Accuracy: 8330/10000 (83.30%)\n",
            "\n",
            "EPOCH: 16 LR: 0.0010693037974683543\n"
          ],
          "name": "stdout"
        },
        {
          "output_type": "stream",
          "text": [
            "Loss=0.334077388048172 Batch_id=97 Accuracy=86.02: 100%|██████████| 98/98 [00:20<00:00,  4.88it/s]\n",
            "  0%|          | 0/98 [00:00<?, ?it/s]"
          ],
          "name": "stderr"
        },
        {
          "output_type": "stream",
          "text": [
            "\n",
            "Test set: Average loss: 0.0010, Accuracy: 8345/10000 (83.45%)\n",
            "\n",
            "EPOCH: 17 LR: 0.0009387658227848099\n"
          ],
          "name": "stdout"
        },
        {
          "output_type": "stream",
          "text": [
            "Loss=0.3750123381614685 Batch_id=97 Accuracy=86.70: 100%|██████████| 98/98 [00:20<00:00,  4.86it/s]\n",
            "  0%|          | 0/98 [00:00<?, ?it/s]"
          ],
          "name": "stderr"
        },
        {
          "output_type": "stream",
          "text": [
            "\n",
            "Test set: Average loss: 0.0010, Accuracy: 8409/10000 (84.09%)\n",
            "\n",
            "EPOCH: 18 LR: 0.0008082278481012658\n"
          ],
          "name": "stdout"
        },
        {
          "output_type": "stream",
          "text": [
            "Loss=0.3310893774032593 Batch_id=97 Accuracy=87.20: 100%|██████████| 98/98 [00:20<00:00,  4.90it/s]\n",
            "  0%|          | 0/98 [00:00<?, ?it/s]"
          ],
          "name": "stderr"
        },
        {
          "output_type": "stream",
          "text": [
            "\n",
            "Test set: Average loss: 0.0010, Accuracy: 8382/10000 (83.82%)\n",
            "\n",
            "EPOCH: 19 LR: 0.0006776898734177214\n"
          ],
          "name": "stdout"
        },
        {
          "output_type": "stream",
          "text": [
            "Loss=0.38618695735931396 Batch_id=97 Accuracy=87.55: 100%|██████████| 98/98 [00:20<00:00,  4.82it/s]\n",
            "  0%|          | 0/98 [00:00<?, ?it/s]"
          ],
          "name": "stderr"
        },
        {
          "output_type": "stream",
          "text": [
            "\n",
            "Test set: Average loss: 0.0009, Accuracy: 8420/10000 (84.20%)\n",
            "\n",
            "EPOCH: 20 LR: 0.000547151898734177\n"
          ],
          "name": "stdout"
        },
        {
          "output_type": "stream",
          "text": [
            "Loss=0.4001399576663971 Batch_id=97 Accuracy=88.30: 100%|██████████| 98/98 [00:20<00:00,  4.86it/s]\n",
            "  0%|          | 0/98 [00:00<?, ?it/s]"
          ],
          "name": "stderr"
        },
        {
          "output_type": "stream",
          "text": [
            "\n",
            "Test set: Average loss: 0.0009, Accuracy: 8481/10000 (84.81%)\n",
            "\n",
            "EPOCH: 21 LR: 0.0004166139240506326\n"
          ],
          "name": "stdout"
        },
        {
          "output_type": "stream",
          "text": [
            "Loss=0.3613761365413666 Batch_id=97 Accuracy=88.43: 100%|██████████| 98/98 [00:20<00:00,  4.89it/s]\n",
            "  0%|          | 0/98 [00:00<?, ?it/s]"
          ],
          "name": "stderr"
        },
        {
          "output_type": "stream",
          "text": [
            "\n",
            "Test set: Average loss: 0.0009, Accuracy: 8457/10000 (84.57%)\n",
            "\n",
            "EPOCH: 22 LR: 0.00028607594936708863\n"
          ],
          "name": "stdout"
        },
        {
          "output_type": "stream",
          "text": [
            "Loss=0.35223954916000366 Batch_id=97 Accuracy=88.94: 100%|██████████| 98/98 [00:20<00:00,  4.80it/s]\n",
            "  0%|          | 0/98 [00:00<?, ?it/s]"
          ],
          "name": "stderr"
        },
        {
          "output_type": "stream",
          "text": [
            "\n",
            "Test set: Average loss: 0.0009, Accuracy: 8498/10000 (84.98%)\n",
            "\n",
            "EPOCH: 23 LR: 0.00015553797468354424\n"
          ],
          "name": "stdout"
        },
        {
          "output_type": "stream",
          "text": [
            "Loss=0.3499160706996918 Batch_id=97 Accuracy=89.13: 100%|██████████| 98/98 [00:20<00:00,  4.82it/s]\n",
            "  0%|          | 0/98 [00:00<?, ?it/s]"
          ],
          "name": "stderr"
        },
        {
          "output_type": "stream",
          "text": [
            "\n",
            "Test set: Average loss: 0.0009, Accuracy: 8488/10000 (84.88%)\n",
            "\n",
            "EPOCH: 24 LR: 2.499999999999985e-05\n"
          ],
          "name": "stdout"
        },
        {
          "output_type": "stream",
          "text": [
            "Loss=0.3450978994369507 Batch_id=97 Accuracy=89.22: 100%|██████████| 98/98 [00:20<00:00,  4.88it/s]\n"
          ],
          "name": "stderr"
        },
        {
          "output_type": "stream",
          "text": [
            "\n",
            "Test set: Average loss: 0.0009, Accuracy: 8509/10000 (85.09%)\n",
            "\n",
            "[0.00025, 0.000806930693069307, 0.001363861386138614, 0.001920792079207921, 0.002477722772277228, 0.0023746835443037976, 0.002244145569620253, 0.002113607594936709, 0.0019830696202531644, 0.0018525316455696205, 0.001721993670886076, 0.0015914556962025317, 0.0014609177215189873, 0.001330379746835443, 0.0011998417721518985, 0.0010693037974683543, 0.0009387658227848099, 0.0008082278481012658, 0.0006776898734177214, 0.000547151898734177, 0.0004166139240506326, 0.00028607594936708863, 0.00015553797468354424, 2.499999999999985e-05]\n"
          ],
          "name": "stdout"
        }
      ]
    },
    {
      "cell_type": "code",
      "metadata": {
        "id": "t4FW5D41Hvni",
        "colab_type": "code",
        "colab": {
          "base_uri": "https://localhost:8080/",
          "height": 1000
        },
        "outputId": "77c78e6b-a30e-43d4-8d20-91f656dd978a"
      },
      "source": [
        "train_acc,train_acc_epoch_end,train_losses,test_losses,test_acc = train_model(EPOCHS=24,lr=0.0025,max_lr=0.0025, total_steps=24,\n",
        "                                                                              epochs=None, steps_per_epoch=None,\n",
        "                        pct_start=0.21, anneal_strategy='cos', cycle_momentum=True, base_momentum=0.85,\n",
        "                       max_momentum=0.95, div_factor=10.0, final_div_factor=10.0, last_epoch=-1)\n"
      ],
      "execution_count": 38,
      "outputs": [
        {
          "output_type": "stream",
          "text": [
            "\r  0%|          | 0/98 [00:00<?, ?it/s]"
          ],
          "name": "stderr"
        },
        {
          "output_type": "stream",
          "text": [
            "EPOCH: 1 LR: 0.0002499999999999998\n"
          ],
          "name": "stdout"
        },
        {
          "output_type": "stream",
          "text": [
            "Loss=1.4968249797821045 Batch_id=97 Accuracy=30.45: 100%|██████████| 98/98 [00:20<00:00,  4.87it/s]\n",
            "  0%|          | 0/98 [00:00<?, ?it/s]"
          ],
          "name": "stderr"
        },
        {
          "output_type": "stream",
          "text": [
            "\n",
            "Test set: Average loss: 0.0031, Accuracy: 4419/10000 (44.19%)\n",
            "\n",
            "EPOCH: 2 LR: 0.0005733430403340543\n"
          ],
          "name": "stdout"
        },
        {
          "output_type": "stream",
          "text": [
            "Loss=1.3907934427261353 Batch_id=97 Accuracy=49.74: 100%|██████████| 98/98 [00:20<00:00,  4.79it/s]\n",
            "  0%|          | 0/98 [00:00<?, ?it/s]"
          ],
          "name": "stderr"
        },
        {
          "output_type": "stream",
          "text": [
            "\n",
            "Test set: Average loss: 0.0025, Accuracy: 5474/10000 (54.74%)\n",
            "\n",
            "EPOCH: 3 LR: 0.001357504211589605\n"
          ],
          "name": "stdout"
        },
        {
          "output_type": "stream",
          "text": [
            "Loss=1.1462923288345337 Batch_id=97 Accuracy=57.89: 100%|██████████| 98/98 [00:20<00:00,  4.83it/s]\n",
            "  0%|          | 0/98 [00:00<?, ?it/s]"
          ],
          "name": "stderr"
        },
        {
          "output_type": "stream",
          "text": [
            "\n",
            "Test set: Average loss: 0.0023, Accuracy: 5898/10000 (58.98%)\n",
            "\n",
            "EPOCH: 4 LR: 0.002151722523143215\n"
          ],
          "name": "stdout"
        },
        {
          "output_type": "stream",
          "text": [
            "Loss=1.0141844749450684 Batch_id=97 Accuracy=63.00: 100%|██████████| 98/98 [00:20<00:00,  4.85it/s]\n",
            "  0%|          | 0/98 [00:00<?, ?it/s]"
          ],
          "name": "stderr"
        },
        {
          "output_type": "stream",
          "text": [
            "\n",
            "Test set: Average loss: 0.0019, Accuracy: 6635/10000 (66.35%)\n",
            "\n",
            "EPOCH: 5 LR: 0.0024994558175784865\n"
          ],
          "name": "stdout"
        },
        {
          "output_type": "stream",
          "text": [
            "Loss=0.8385847210884094 Batch_id=97 Accuracy=67.27: 100%|██████████| 98/98 [00:20<00:00,  4.87it/s]\n",
            "  0%|          | 0/98 [00:00<?, ?it/s]"
          ],
          "name": "stderr"
        },
        {
          "output_type": "stream",
          "text": [
            "\n",
            "Test set: Average loss: 0.0017, Accuracy: 6976/10000 (69.76%)\n",
            "\n",
            "EPOCH: 6 LR: 0.0024843769856462126\n"
          ],
          "name": "stdout"
        },
        {
          "output_type": "stream",
          "text": [
            "Loss=0.7918258905410767 Batch_id=97 Accuracy=70.67: 100%|██████████| 98/98 [00:20<00:00,  4.82it/s]\n",
            "  0%|          | 0/98 [00:00<?, ?it/s]"
          ],
          "name": "stderr"
        },
        {
          "output_type": "stream",
          "text": [
            "\n",
            "Test set: Average loss: 0.0017, Accuracy: 7030/10000 (70.30%)\n",
            "\n",
            "EPOCH: 7 LR: 0.0024353110753621695\n"
          ],
          "name": "stdout"
        },
        {
          "output_type": "stream",
          "text": [
            "Loss=0.7579851746559143 Batch_id=97 Accuracy=73.09: 100%|██████████| 98/98 [00:20<00:00,  4.84it/s]\n",
            "  0%|          | 0/98 [00:00<?, ?it/s]"
          ],
          "name": "stderr"
        },
        {
          "output_type": "stream",
          "text": [
            "\n",
            "Test set: Average loss: 0.0015, Accuracy: 7356/10000 (73.56%)\n",
            "\n",
            "EPOCH: 8 LR: 0.0023541191190553593\n"
          ],
          "name": "stdout"
        },
        {
          "output_type": "stream",
          "text": [
            "Loss=0.645702600479126 Batch_id=97 Accuracy=75.12: 100%|██████████| 98/98 [00:20<00:00,  4.86it/s]\n",
            "  0%|          | 0/98 [00:00<?, ?it/s]"
          ],
          "name": "stderr"
        },
        {
          "output_type": "stream",
          "text": [
            "\n",
            "Test set: Average loss: 0.0014, Accuracy: 7449/10000 (74.49%)\n",
            "\n",
            "EPOCH: 9 LR: 0.0022430251548336984\n"
          ],
          "name": "stdout"
        },
        {
          "output_type": "stream",
          "text": [
            "Loss=0.6540614366531372 Batch_id=97 Accuracy=76.87: 100%|██████████| 98/98 [00:20<00:00,  4.76it/s]\n",
            "  0%|          | 0/98 [00:00<?, ?it/s]"
          ],
          "name": "stderr"
        },
        {
          "output_type": "stream",
          "text": [
            "\n",
            "Test set: Average loss: 0.0014, Accuracy: 7477/10000 (74.77%)\n",
            "\n",
            "EPOCH: 10 LR: 0.0021050723069329755\n"
          ],
          "name": "stdout"
        },
        {
          "output_type": "stream",
          "text": [
            "Loss=0.6456294059753418 Batch_id=97 Accuracy=78.09: 100%|██████████| 98/98 [00:20<00:00,  4.80it/s]\n",
            "  0%|          | 0/98 [00:00<?, ?it/s]"
          ],
          "name": "stderr"
        },
        {
          "output_type": "stream",
          "text": [
            "\n",
            "Test set: Average loss: 0.0013, Accuracy: 7636/10000 (76.36%)\n",
            "\n",
            "EPOCH: 11 LR: 0.001944039427406802\n"
          ],
          "name": "stdout"
        },
        {
          "output_type": "stream",
          "text": [
            "Loss=0.6166872978210449 Batch_id=97 Accuracy=79.39: 100%|██████████| 98/98 [00:20<00:00,  4.76it/s]\n",
            "  0%|          | 0/98 [00:00<?, ?it/s]"
          ],
          "name": "stderr"
        },
        {
          "output_type": "stream",
          "text": [
            "\n",
            "Test set: Average loss: 0.0012, Accuracy: 7845/10000 (78.45%)\n",
            "\n",
            "EPOCH: 12 LR: 0.0017643375845060804\n"
          ],
          "name": "stdout"
        },
        {
          "output_type": "stream",
          "text": [
            "Loss=0.5906665325164795 Batch_id=97 Accuracy=80.71: 100%|██████████| 98/98 [00:20<00:00,  4.83it/s]\n",
            "  0%|          | 0/98 [00:00<?, ?it/s]"
          ],
          "name": "stderr"
        },
        {
          "output_type": "stream",
          "text": [
            "\n",
            "Test set: Average loss: 0.0011, Accuracy: 8017/10000 (80.17%)\n",
            "\n",
            "EPOCH: 13 LR: 0.0015708892331740513\n"
          ],
          "name": "stdout"
        },
        {
          "output_type": "stream",
          "text": [
            "Loss=0.5159890651702881 Batch_id=97 Accuracy=81.97: 100%|██████████| 98/98 [00:20<00:00,  4.82it/s]\n",
            "  0%|          | 0/98 [00:00<?, ?it/s]"
          ],
          "name": "stderr"
        },
        {
          "output_type": "stream",
          "text": [
            "\n",
            "Test set: Average loss: 0.0012, Accuracy: 8004/10000 (80.04%)\n",
            "\n",
            "EPOCH: 14 LR: 0.0013689933774604526\n"
          ],
          "name": "stdout"
        },
        {
          "output_type": "stream",
          "text": [
            "Loss=0.49032655358314514 Batch_id=97 Accuracy=82.49: 100%|██████████| 98/98 [00:20<00:00,  4.86it/s]\n",
            "  0%|          | 0/98 [00:00<?, ?it/s]"
          ],
          "name": "stderr"
        },
        {
          "output_type": "stream",
          "text": [
            "\n",
            "Test set: Average loss: 0.0011, Accuracy: 8095/10000 (80.95%)\n",
            "\n",
            "EPOCH: 15 LR: 0.0011641804183725036\n"
          ],
          "name": "stdout"
        },
        {
          "output_type": "stream",
          "text": [
            "Loss=0.4770241379737854 Batch_id=97 Accuracy=83.57: 100%|██████████| 98/98 [00:20<00:00,  4.82it/s]\n",
            "  0%|          | 0/98 [00:00<?, ?it/s]"
          ],
          "name": "stderr"
        },
        {
          "output_type": "stream",
          "text": [
            "\n",
            "Test set: Average loss: 0.0011, Accuracy: 8186/10000 (81.86%)\n",
            "\n",
            "EPOCH: 16 LR: 0.0009620606632205155\n"
          ],
          "name": "stdout"
        },
        {
          "output_type": "stream",
          "text": [
            "Loss=0.45579391717910767 Batch_id=97 Accuracy=84.39: 100%|██████████| 98/98 [00:20<00:00,  4.77it/s]\n",
            "  0%|          | 0/98 [00:00<?, ?it/s]"
          ],
          "name": "stderr"
        },
        {
          "output_type": "stream",
          "text": [
            "\n",
            "Test set: Average loss: 0.0011, Accuracy: 8172/10000 (81.72%)\n",
            "\n",
            "EPOCH: 17 LR: 0.0007681706461424513\n"
          ],
          "name": "stdout"
        },
        {
          "output_type": "stream",
          "text": [
            "Loss=0.39536166191101074 Batch_id=97 Accuracy=84.90: 100%|██████████| 98/98 [00:20<00:00,  4.81it/s]\n",
            "  0%|          | 0/98 [00:00<?, ?it/s]"
          ],
          "name": "stderr"
        },
        {
          "output_type": "stream",
          "text": [
            "\n",
            "Test set: Average loss: 0.0010, Accuracy: 8278/10000 (82.78%)\n",
            "\n",
            "EPOCH: 18 LR: 0.0005878214694486992\n"
          ],
          "name": "stdout"
        },
        {
          "output_type": "stream",
          "text": [
            "Loss=0.3948873281478882 Batch_id=97 Accuracy=85.69: 100%|██████████| 98/98 [00:20<00:00,  4.88it/s]\n",
            "  0%|          | 0/98 [00:00<?, ?it/s]"
          ],
          "name": "stderr"
        },
        {
          "output_type": "stream",
          "text": [
            "\n",
            "Test set: Average loss: 0.0010, Accuracy: 8280/10000 (82.80%)\n",
            "\n",
            "EPOCH: 19 LR: 0.0004259533200733236\n"
          ],
          "name": "stdout"
        },
        {
          "output_type": "stream",
          "text": [
            "Loss=0.49383744597435 Batch_id=97 Accuracy=86.07: 100%|██████████| 98/98 [00:20<00:00,  4.86it/s]\n",
            "  0%|          | 0/98 [00:00<?, ?it/s]"
          ],
          "name": "stderr"
        },
        {
          "output_type": "stream",
          "text": [
            "\n",
            "Test set: Average loss: 0.0010, Accuracy: 8333/10000 (83.33%)\n",
            "\n",
            "EPOCH: 20 LR: 0.00028700014626740925\n"
          ],
          "name": "stdout"
        },
        {
          "output_type": "stream",
          "text": [
            "Loss=0.4040132164955139 Batch_id=97 Accuracy=86.94: 100%|██████████| 98/98 [00:20<00:00,  4.76it/s]\n",
            "  0%|          | 0/98 [00:00<?, ?it/s]"
          ],
          "name": "stderr"
        },
        {
          "output_type": "stream",
          "text": [
            "\n",
            "Test set: Average loss: 0.0010, Accuracy: 8340/10000 (83.40%)\n",
            "\n",
            "EPOCH: 21 LR: 0.00017476820135723831\n"
          ],
          "name": "stdout"
        },
        {
          "output_type": "stream",
          "text": [
            "Loss=0.37363284826278687 Batch_id=97 Accuracy=87.29: 100%|██████████| 98/98 [00:20<00:00,  4.84it/s]\n",
            "  0%|          | 0/98 [00:00<?, ?it/s]"
          ],
          "name": "stderr"
        },
        {
          "output_type": "stream",
          "text": [
            "\n",
            "Test set: Average loss: 0.0009, Accuracy: 8403/10000 (84.03%)\n",
            "\n",
            "EPOCH: 22 LR: 9.233178153863692e-05\n"
          ],
          "name": "stdout"
        },
        {
          "output_type": "stream",
          "text": [
            "Loss=0.42477431893348694 Batch_id=97 Accuracy=87.69: 100%|██████████| 98/98 [00:20<00:00,  4.81it/s]\n",
            "  0%|          | 0/98 [00:00<?, ?it/s]"
          ],
          "name": "stderr"
        },
        {
          "output_type": "stream",
          "text": [
            "\n",
            "Test set: Average loss: 0.0009, Accuracy: 8430/10000 (84.30%)\n",
            "\n",
            "EPOCH: 23 LR: 4.194901369382836e-05\n"
          ],
          "name": "stdout"
        },
        {
          "output_type": "stream",
          "text": [
            "Loss=0.3390030264854431 Batch_id=97 Accuracy=87.93: 100%|██████████| 98/98 [00:20<00:00,  4.81it/s]\n",
            "  0%|          | 0/98 [00:00<?, ?it/s]"
          ],
          "name": "stderr"
        },
        {
          "output_type": "stream",
          "text": [
            "\n",
            "Test set: Average loss: 0.0009, Accuracy: 8418/10000 (84.18%)\n",
            "\n",
            "EPOCH: 24 LR: 2.5e-05\n"
          ],
          "name": "stdout"
        },
        {
          "output_type": "stream",
          "text": [
            "Loss=0.3426876962184906 Batch_id=97 Accuracy=87.91: 100%|██████████| 98/98 [00:20<00:00,  4.80it/s]\n"
          ],
          "name": "stderr"
        },
        {
          "output_type": "stream",
          "text": [
            "\n",
            "Test set: Average loss: 0.0009, Accuracy: 8445/10000 (84.45%)\n",
            "\n",
            "[0.0002499999999999998, 0.0005733430403340543, 0.001357504211589605, 0.002151722523143215, 0.0024994558175784865, 0.0024843769856462126, 0.0024353110753621695, 0.0023541191190553593, 0.0022430251548336984, 0.0021050723069329755, 0.001944039427406802, 0.0017643375845060804, 0.0015708892331740513, 0.0013689933774604526, 0.0011641804183725036, 0.0009620606632205155, 0.0007681706461424513, 0.0005878214694486992, 0.0004259533200733236, 0.00028700014626740925, 0.00017476820135723831, 9.233178153863692e-05, 4.194901369382836e-05, 2.5e-05]\n"
          ],
          "name": "stdout"
        },
        {
          "output_type": "display_data",
          "data": {
            "image/png": "[encoded data removed]",
            "text/plain": [
              "<Figure size 432x288 with 1 Axes>"
            ]
          },
          "metadata": {
            "tags": []
          }
        }
      ]
    },
    {
      "cell_type": "code",
      "metadata": {
        "id": "dwrB0AkhAphp",
        "colab_type": "code",
        "colab": {
          "base_uri": "https://localhost:8080/",
          "height": 34
        },
        "outputId": "c24fc63f-ec60-4a47-c55b-76ab98399cdf"
      },
      "source": [
        "len(train_acc)"
      ],
      "execution_count": 34,
      "outputs": [
        {
          "output_type": "execute_result",
          "data": {
            "text/plain": [
              "2352"
            ]
          },
          "metadata": {
            "tags": []
          },
          "execution_count": 34
        }
      ]
    },
    {
      "cell_type": "code",
      "metadata": {
        "colab_type": "code",
        "id": "LR1wwDYrgZVC",
        "colab": {
          "base_uri": "https://localhost:8080/",
          "height": 350
        },
        "outputId": "0574017b-e34f-4104-ed05-9383316c1ad4"
      },
      "source": [
        "import matplotlib.pyplot as plt\n",
        "\n",
        "plt.figure(figsize=(10, 5))\n",
        "ax = plt.subplot(111)\n",
        "ax.plot(train_acc_epoch_end,color = 'g',label=\"Train Accuracy\")\n",
        "ax.plot(test_acc,color = 'b',label=\"Test Accuracy\")\n",
        "ax.set(title=\"Accuracy Plot\", xlabel=\"Epoch\", ylabel=\"Accuracy\")\n",
        "ax.legend()\n",
        "plt.show()"
      ],
      "execution_count": 35,
      "outputs": [
        {
          "output_type": "display_data",
          "data": {
            "image/png": "[encoded data removed]",
            "text/plain": [
              "<Figure size 720x360 with 1 Axes>"
            ]
          },
          "metadata": {
            "tags": []
          }
        }
      ]
    },
    {
      "cell_type": "code",
      "metadata": {
        "colab_type": "code",
        "id": "vnXWhskKw57I",
        "colab": {}
      },
      "source": [
        "misclassify = show_images.show_misclassified_images(model, device, testloader,classes,num=25)"
      ],
      "execution_count": 0,
      "outputs": []
    },
    {
      "cell_type": "code",
      "metadata": {
        "id": "7JIMJyRa36Io",
        "colab_type": "code",
        "colab": {}
      },
      "source": [
        "len(misclassify[1])"
      ],
      "execution_count": 0,
      "outputs": []
    },
    {
      "cell_type": "code",
      "metadata": {
        "id": "zaJwlLAVWCtj",
        "colab_type": "code",
        "colab": {}
      },
      "source": [
        "evaluate.show_predicted_actual(model, device, testloader, classes)"
      ],
      "execution_count": 0,
      "outputs": []
    },
    {
      "cell_type": "code",
      "metadata": {
        "id": "V9an3lH6WCqk",
        "colab_type": "code",
        "colab": {}
      },
      "source": [
        "evaluate.evaluate_accuracy(model, device, testloader)"
      ],
      "execution_count": 0,
      "outputs": []
    },
    {
      "cell_type": "code",
      "metadata": {
        "id": "NOkpbMAdWWh9",
        "colab_type": "code",
        "colab": {}
      },
      "source": [
        "evaluate.evaluate_classwise_accuracy(model, device, classes, testloader)"
      ],
      "execution_count": 0,
      "outputs": []
    },
    {
      "cell_type": "code",
      "metadata": {
        "id": "DeW_NnUQUcbR",
        "colab_type": "code",
        "colab": {}
      },
      "source": [
        ""
      ],
      "execution_count": 0,
      "outputs": []
    },
    {
      "cell_type": "code",
      "metadata": {
        "colab_type": "code",
        "id": "zyD5vNrYvZKJ",
        "colab": {}
      },
      "source": [
        "import torch\n",
        "from torch.nn import functional as F\n",
        "import warnings\n",
        "\n",
        "class GradCam(object):\n",
        "\n",
        "\tdef __init__(self, model, target_layers, num_classes):\n",
        "\t\tsuper(GradCam, self).__init__()\n",
        "\t\tself.model = model\n",
        "\t\tself.target_layers = target_layers\n",
        "\t\tself.num_classes = num_classes\n",
        "\t\tself.device = next(model.parameters()).device\n",
        "\n",
        "\t\tself.activations_map = {}\n",
        "\t\tself.gradients_map = {}\n",
        "\n",
        "\t\tself.model.eval()\n",
        "\t\tself.register_hooks()\n",
        "\n",
        "\tdef register_hooks(self):\n",
        "\t\tdef _wrap_forward_hook(layer_name):\n",
        "\t\t\tdef _forward_hook(module, input, output):\n",
        "\t\t\t\tself.activations_map[layer_name] = output.detach()\n",
        "\t\t\treturn _forward_hook\n",
        "\n",
        "\t\tdef _wrap_backward_hook(layer_name):\n",
        "\t\t\tdef _backward_hook(module, grad_out, grad_in):\n",
        "\t\t\t\tself.gradients_map[layer_name] = grad_out[0].detach()\n",
        "\t\t\treturn _backward_hook\n",
        "\n",
        "\t\tfor name, module in self.model.named_modules():\n",
        "\t\t\tif name in self.target_layers:\n",
        "\t\t\t\tmodule.register_forward_hook(_wrap_forward_hook(name))\n",
        "\t\t\t\tmodule.register_backward_hook(_wrap_backward_hook(name))\n",
        "\n",
        "\tdef make_one_hots(self, target_class=None):\n",
        "\t\tone_hots = torch.zeros_like(self.output)\n",
        "\t\tif target_class:\n",
        "\t\t\tids = torch.LongTensor([[target_class]] * self.batch_size).to(self.device)\n",
        "\t\t\tone_hots.scatter_(1,ids,1.0)\n",
        "\t\telse:\n",
        "\t\t\tone_hots = torch.zeros((self.batch_size, self.num_classes)).to(self.device)\n",
        "\t\t\tfor i in range(len(self.pred)):\n",
        "\t\t\t  one_hots[i][self.pred[i][0]] = 1.0\n",
        "\t\treturn one_hots\n",
        "\n",
        "\tdef forward(self, data):\n",
        "\t\tself.batch_size, self.img_ch, self.img_h, self.img_w = data.shape\n",
        "\t\tdata = data.to(self.device)\n",
        "\t\tself.output = self.model(data)\n",
        "\t\tself.pred = self.output.argmax(dim=1, keepdim=True)\n",
        "\n",
        "\tdef backward(self, target_class=None):\n",
        "\t\tone_hots = self.make_one_hots(target_class)\n",
        "\t\tself.model.zero_grad()\n",
        "\t\tself.output.backward(gradient=one_hots, retain_graph=True)\n",
        "\n",
        "\tdef __call__(self, data, target_layers, target_class=None,name=None):\n",
        "\t\tself.forward(data)\n",
        "\t\tself.backward(target_class)\n",
        "\n",
        "\t\toutput = self.output\n",
        "\t\tsaliency_maps = {}\n",
        "\t\tfor target_layer in target_layers:\n",
        "\t\t\tactivations = self.activations_map[target_layer]\t#[64, 512, 4, 4]\n",
        "\t\t\tgrads = self.gradients_map[target_layer]\t#[64, 512, 4, 4]\n",
        "\t\t\tweights = F.adaptive_avg_pool2d(grads, 1)\t#[64, 512, 1, 1]\n",
        "\n",
        "\t\t\tsaliency_map = torch.mul(activations, weights).sum(dim=1, keepdim=True)\t\n",
        "\t\t\tsaliency_map = F.relu(saliency_map)\t#[64,1,4,4]\n",
        "\t\t\tsaliency_map = F.interpolate(saliency_map, (self.img_h, self.img_w),\n",
        "\t\t\t\tmode=\"bilinear\", align_corners=False)\t#[64,1,32,32]\n",
        "\n",
        "\t\t\tsaliency_map = saliency_map.view(self.batch_size, -1)\n",
        "\t\t\tsaliency_map -= saliency_map.min(dim=1, keepdim=True)[0]\n",
        "\t\t\tsaliency_map /= saliency_map.max(dim=1, keepdim=True)[0]\n",
        "\t\t\tsaliency_map = saliency_map.view(self.batch_size, 1,\n",
        "\t\t\t\t\t\t\t\t\t\t\tself.img_h, self.img_w)\n",
        "\t\t\tsaliency_maps[target_layer] = saliency_map\n",
        "    \n",
        "\t\tif name =='misclassify':\n",
        "\t\t\treturn saliency_maps\n",
        "\t\telse:\n",
        "\t\t\treturn saliency_maps, self.pred\n",
        "\n",
        "import torch\n",
        "import cv2\n",
        "import matplotlib.pyplot as plt\n",
        "import numpy as np\n",
        "\n",
        "\n",
        "def denormalize(tensor, mean=[0.4914, 0.4822, 0.4465],\n",
        "\t\t\t\t\t\tstd=[0.2023, 0.1994, 0.2010]):\n",
        "\tsingle_img = False\n",
        "\tif tensor.ndimension() == 3:\n",
        "\t\tsingle_img = True\n",
        "\t\ttensor = tensor[None,:,:,:]\n",
        "\n",
        "\tif not tensor.ndimension() == 4:\n",
        "\t    raise TypeError('tensor should be 4D')\n",
        "\n",
        "\tmean = torch.FloatTensor(mean).view(1, 3, 1, 1).expand_as(tensor).to(tensor.device)\n",
        "\tstd = torch.FloatTensor(std).view(1, 3, 1, 1).expand_as(tensor).to(tensor.device)\n",
        "\tret = tensor.mul(std).add(mean)\n",
        "\treturn ret[0] if single_img else ret\n",
        "\n",
        "class VisualizeCam(object):\n",
        "\n",
        "\tdef __init__(self, model, classes, target_layers):\n",
        "\t\tsuper(VisualizeCam, self).__init__()\n",
        "\t\tself.model = model\n",
        "\t\tself.classes = classes\n",
        "\t\tself.target_layers = target_layers\n",
        "\t\tself.device = next(model.parameters()).device\n",
        "\n",
        "\t\tself.gcam = GradCam(model, target_layers, len(classes))\n",
        "\t\t\n",
        "\tdef visualize_cam(self, mask, img):\n",
        "\t    heatmap = (255 * mask.squeeze()).type(torch.uint8).cpu().numpy()\n",
        "\t    heatmap = cv2.applyColorMap(heatmap, cv2.COLORMAP_JET)\n",
        "\t    heatmap = torch.from_numpy(heatmap).permute(2, 0, 1).float().div(255)\n",
        "\t    b, g, r = heatmap.split(1)\n",
        "\t    heatmap = torch.cat([r, g, b])\n",
        "\t    \n",
        "\t    result = heatmap+img.cpu()\n",
        "\t    result = result.div(result.max()).squeeze()\n",
        "\t    return heatmap, result\n",
        "\n",
        "\tdef plot_heatmaps(self, img_data, pred_class,target_class, img_name):\n",
        "\t\twarnings.filterwarnings(\"ignore\")\n",
        "\t\tfig, axs = plt.subplots(nrows=2, ncols=5, figsize=(10, 4),\n",
        "\t\t\tsubplot_kw={'xticks': [], 'yticks': []})\n",
        "\t\tfig.suptitle('GradCam at different conv layers for the class: Predicted: %s, Target: %s \\n' % \n",
        "\t\t(\tpred_class,target_class))\n",
        "\n",
        "\t\tfor ax, data in zip(axs.flat, img_data):\n",
        "\t\t\timg = data[\"img\"]\n",
        "\t\t\tnpimg = img.cpu().numpy()\n",
        "\t\t\tax.imshow(np.transpose(npimg, (1, 2, 0)))\n",
        "\t\t\tax.set_title(\"%s\" % (data[\"label\"]))\n",
        "\n",
        "\t\t# plt.savefig('/content/gdrive/My Drive/Colab Notebooks/eva_files/images/'+img_name)\n",
        "\n",
        "\n",
        "\tdef __call__(self, images, target_layers,target_class, target_inds=None, metric=\"\",pred=None,num=25,name=None):\n",
        "\t\tif name=='misclassify':\n",
        "\t\t\tmasks_map = self.gcam(images, target_layers, target_inds,name)\n",
        "\t\telse:\n",
        "\t\t\tmasks_map, pred = self.gcam(images, target_layers, target_inds,name)\n",
        "\t\tfor i in range(min(len(images),num)):\n",
        "\t\t\timg = images[i]\n",
        "\t\t\tresults_data = [{\n",
        "\t\t\t\t\"img\": denormalize(img),\n",
        "\t\t\t\t\"label\": \"Result:\"\n",
        "\t\t\t}]\n",
        "\t\t\theatmaps_data = [{\n",
        "\t\t\t\t\"img\": denormalize(img),\n",
        "\t\t\t\t\"label\": \"Heatmap:\"\n",
        "\t\t\t}]\n",
        "\t\t\tfor layer in target_layers:\n",
        "\t\t\t\tmask = masks_map[layer][i]\n",
        "\t\t\t\theatmap, result = self.visualize_cam(mask, img)\n",
        "\t\t\t\tresults_data.append({\n",
        "\t\t\t\t\t\"img\": result,\n",
        "\t\t\t\t\t\"label\": layer\n",
        "\t\t\t\t})\n",
        "\t\t\t\theatmaps_data.append({\n",
        "\t\t\t\t\t\"img\": heatmap,\n",
        "\t\t\t\t\t\"label\": layer\n",
        "\t\t\t\t})\n",
        "\t\t\tif name=='misclassify':\n",
        "\t\t\t\tpred_class = pred[i]\n",
        "\t\t\telse:\n",
        "\t\t\t\tpred_class = self.classes[pred[i][0]]\n",
        "\t\t\tfname = \"gradcam_%s.png\" % (i)\n",
        "\t\t\tself.plot_heatmaps(results_data+heatmaps_data, pred_class,target_class[i], fname)"
      ],
      "execution_count": 0,
      "outputs": []
    },
    {
      "cell_type": "code",
      "metadata": {
        "id": "rWms5Sb_x9XJ",
        "colab_type": "code",
        "colab": {}
      },
      "source": [
        "max(train_and_test.train_acc)"
      ],
      "execution_count": 0,
      "outputs": []
    },
    {
      "cell_type": "code",
      "metadata": {
        "id": "i4E3bSLghUWe",
        "colab_type": "code",
        "colab": {}
      },
      "source": [
        "images=[]\n",
        "\n",
        "for i in range(25):\n",
        "  images.append(misclassify[0][i]*2-0.5)\n",
        "\n",
        "target_layers = [\"layer1\",\"layer2\",\"layer3\",\"layer4\"]\n",
        "gradcam = VisualizeCam(model,classes, target_layers)\n",
        "gradcam(torch.stack(images), target_layers,target_class=misclassify[2],pred=misclassify[1],num=25,name='misclassify')"
      ],
      "execution_count": 0,
      "outputs": []
    },
    {
      "cell_type": "code",
      "metadata": {
        "id": "dmTybvNuqbeV",
        "colab_type": "code",
        "colab": {}
      },
      "source": [
        ""
      ],
      "execution_count": 0,
      "outputs": []
    }
  ]
}