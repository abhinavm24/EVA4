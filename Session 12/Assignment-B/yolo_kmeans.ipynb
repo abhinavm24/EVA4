{
  "nbformat": 4,
  "nbformat_minor": 0,
  "metadata": {
    "colab": {
      "name": "yolo kmeans.ipynb",
      "provenance": [],
      "collapsed_sections": [],
      "authorship_tag": "ABX9TyPQrhbweuTwDKByanlcKNaO",
      "include_colab_link": true
    },
    "kernelspec": {
      "name": "python3",
      "display_name": "Python 3"
    }
  },
  "cells": [
    {
      "cell_type": "markdown",
      "metadata": {
        "id": "view-in-github",
        "colab_type": "text"
      },
      "source": [
        "<a href=\"https://colab.research.google.com/github/mshilpaa/EVA4/blob/master/Session%2012/Assignment-B/yolo_kmeans.ipynb\" target=\"_parent\"><img src=\"https://colab.research.google.com/assets/colab-badge.svg\" alt=\"Open In Colab\"/></a>"
      ]
    },
    {
      "cell_type": "code",
      "metadata": {
        "id": "E2V8pIf3_Gt3",
        "colab_type": "code",
        "colab": {
          "base_uri": "https://localhost:8080/",
          "height": 34
        },
        "outputId": "053bbf7e-6f35-4ad6-f20d-58fd4dec6438"
      },
      "source": [
        "# mount gdrive and unzip data\n",
        "from google.colab import drive\n",
        "drive.mount('/content/gdrive')"
      ],
      "execution_count": 1,
      "outputs": [
        {
          "output_type": "stream",
          "text": [
            "Drive already mounted at /content/gdrive; to attempt to forcibly remount, call drive.mount(\"/content/gdrive\", force_remount=True).\n"
          ],
          "name": "stdout"
        }
      ]
    },
    {
      "cell_type": "code",
      "metadata": {
        "id": "PI13In2mfCc3",
        "colab_type": "code",
        "colab": {}
      },
      "source": [
        "import pandas as pd\n",
        "import matplotlib.pyplot as plt\n",
        "import numpy as np"
      ],
      "execution_count": 0,
      "outputs": []
    },
    {
      "cell_type": "code",
      "metadata": {
        "id": "qotysdeSgh3o",
        "colab_type": "code",
        "colab": {}
      },
      "source": [
        "import json\n",
        "\n",
        "with open('/content/gdrive/My Drive/eva/yoloData_coco.json') as f:\n",
        "  data = json.load(f)"
      ],
      "execution_count": 0,
      "outputs": []
    },
    {
      "cell_type": "code",
      "metadata": {
        "id": "VoL7emTcpoDj",
        "colab_type": "code",
        "colab": {
          "base_uri": "https://localhost:8080/",
          "height": 34
        },
        "outputId": "102d3bee-f4d5-4e44-9ce5-92f25efc5424"
      },
      "source": [
        "data.keys()"
      ],
      "execution_count": 58,
      "outputs": [
        {
          "output_type": "execute_result",
          "data": {
            "text/plain": [
              "dict_keys(['info', 'images', 'annotations', 'licenses', 'categories'])"
            ]
          },
          "metadata": {
            "tags": []
          },
          "execution_count": 58
        }
      ]
    },
    {
      "cell_type": "code",
      "metadata": {
        "id": "k4oF4tnNpWEZ",
        "colab_type": "code",
        "colab": {
          "base_uri": "https://localhost:8080/",
          "height": 118
        },
        "outputId": "41a79af0-e0a2-4eee-d5a6-b8873a5d4e97"
      },
      "source": [
        "data['info']"
      ],
      "execution_count": 6,
      "outputs": [
        {
          "output_type": "execute_result",
          "data": {
            "text/plain": [
              "{'contributor': '',\n",
              " 'date_created': 'Thu Apr 16 2020 21:36:45 GMT+0530 (India Standard Time)',\n",
              " 'description': 'Exported using VGG Image Annotator (http://www.robots.ox.ac.uk/~vgg/software/via/)',\n",
              " 'url': 'http://www.robots.ox.ac.uk/~vgg/software/via/',\n",
              " 'version': '1',\n",
              " 'year': 2020}"
            ]
          },
          "metadata": {
            "tags": []
          },
          "execution_count": 6
        }
      ]
    },
    {
      "cell_type": "code",
      "metadata": {
        "id": "Pmwbs1EbpuX-",
        "colab_type": "code",
        "colab": {}
      },
      "source": [
        "annotations = data['annotations']"
      ],
      "execution_count": 0,
      "outputs": []
    },
    {
      "cell_type": "code",
      "metadata": {
        "id": "nPR49bjQqfFF",
        "colab_type": "code",
        "colab": {
          "base_uri": "https://localhost:8080/",
          "height": 34
        },
        "outputId": "7f0a93f3-9931-4507-c958-23ea8e07a7cf"
      },
      "source": [
        "annotations[0].keys()"
      ],
      "execution_count": 10,
      "outputs": [
        {
          "output_type": "execute_result",
          "data": {
            "text/plain": [
              "dict_keys(['id', 'image_id', 'segmentation', 'area', 'bbox', 'iscrowd'])"
            ]
          },
          "metadata": {
            "tags": []
          },
          "execution_count": 10
        }
      ]
    },
    {
      "cell_type": "markdown",
      "metadata": {
        "id": "ZTq0NAzFacOq",
        "colab_type": "text"
      },
      "source": [
        "id - It is the unique id for the annotations.\n",
        "\n",
        "image_id - It corresponds to the imageid that we have in the image section.\n",
        "\n",
        "segmentation - the x and y coordinates for the vertices of the polygon around every object instance for the segmentation masks.\n",
        "\n",
        "area - area of the bounding box\n",
        "\n",
        "bbox - the dimensions of the bounding box: *(x-top left, y-top left, width, height)*\n",
        "\n",
        "iscrowd - If we have a single object segmentation then iscrowd is set to zero. For a collection of objects present in the image, we set iscrowd=1, in which case RLE is used.RLE is Run Length Encoding. When iscrowd=1, then we add attribute counts and size in the segmentation section.\n"
      ]
    },
    {
      "cell_type": "code",
      "metadata": {
        "id": "OfY6XrSFqA9g",
        "colab_type": "code",
        "colab": {
          "base_uri": "https://localhost:8080/",
          "height": 118
        },
        "outputId": "d29bea4d-3e3f-4192-9b0c-74f752ea8891"
      },
      "source": [
        "annotations[0]"
      ],
      "execution_count": 57,
      "outputs": [
        {
          "output_type": "execute_result",
          "data": {
            "text/plain": [
              "{'area': 22165,\n",
              " 'bbox': [79, 32, 143, 155],\n",
              " 'id': 0,\n",
              " 'image_id': '0',\n",
              " 'iscrowd': 0,\n",
              " 'segmentation': [79, 32, 222, 32, 222, 187, 79, 187]}"
            ]
          },
          "metadata": {
            "tags": []
          },
          "execution_count": 57
        }
      ]
    },
    {
      "cell_type": "code",
      "metadata": {
        "id": "FwO5TlrJrCEY",
        "colab_type": "code",
        "colab": {
          "base_uri": "https://localhost:8080/",
          "height": 34
        },
        "outputId": "8e7fd5cd-7c9d-4f31-f6a2-af2faa68cc70"
      },
      "source": [
        "len(annotations)"
      ],
      "execution_count": 9,
      "outputs": [
        {
          "output_type": "execute_result",
          "data": {
            "text/plain": [
              "50"
            ]
          },
          "metadata": {
            "tags": []
          },
          "execution_count": 9
        }
      ]
    },
    {
      "cell_type": "code",
      "metadata": {
        "id": "WK3VpAsvPqgp",
        "colab_type": "code",
        "colab": {
          "base_uri": "https://localhost:8080/",
          "height": 34
        },
        "outputId": "8c7b1939-fe43-4300-dcd0-3b331f21299e"
      },
      "source": [
        "data['images'][0].keys()"
      ],
      "execution_count": 24,
      "outputs": [
        {
          "output_type": "execute_result",
          "data": {
            "text/plain": [
              "dict_keys(['id', 'width', 'height', 'file_name', 'license', 'date_captured'])"
            ]
          },
          "metadata": {
            "tags": []
          },
          "execution_count": 24
        }
      ]
    },
    {
      "cell_type": "markdown",
      "metadata": {
        "id": "7dA5j_pCb6YP",
        "colab_type": "text"
      },
      "source": [
        "id: It is the unique id of the image\n",
        "\n",
        "height: height of image in pixels\n",
        "\n",
        "width: width of the image in pixels\n",
        "\n",
        "file_name: name of file"
      ]
    },
    {
      "cell_type": "code",
      "metadata": {
        "id": "D_l6qgZ-aMhl",
        "colab_type": "code",
        "colab": {
          "base_uri": "https://localhost:8080/",
          "height": 118
        },
        "outputId": "ea8ba485-c9cf-44c3-abc0-0825552dc4a7"
      },
      "source": [
        "data['images'][0]"
      ],
      "execution_count": 59,
      "outputs": [
        {
          "output_type": "execute_result",
          "data": {
            "text/plain": [
              "{'date_captured': '',\n",
              " 'file_name': '1.jfif',\n",
              " 'height': 187,\n",
              " 'id': 0,\n",
              " 'license': 1,\n",
              " 'width': 269}"
            ]
          },
          "metadata": {
            "tags": []
          },
          "execution_count": 59
        }
      ]
    },
    {
      "cell_type": "code",
      "metadata": {
        "id": "1rYGSbe3P2sj",
        "colab_type": "code",
        "colab": {
          "base_uri": "https://localhost:8080/",
          "height": 34
        },
        "outputId": "6521db34-aa76-4490-8a98-0a71d52e506e"
      },
      "source": [
        "len(data['images'])"
      ],
      "execution_count": 28,
      "outputs": [
        {
          "output_type": "execute_result",
          "data": {
            "text/plain": [
              "50"
            ]
          },
          "metadata": {
            "tags": []
          },
          "execution_count": 28
        }
      ]
    },
    {
      "cell_type": "markdown",
      "metadata": {
        "id": "_gNGzUd8fFys",
        "colab_type": "text"
      },
      "source": [
        "Normalizing the bounding boxes width and height to make the bounding boxes comparable"
      ]
    },
    {
      "cell_type": "code",
      "metadata": {
        "id": "ZVII3EDEq1Df",
        "colab_type": "code",
        "colab": {}
      },
      "source": [
        "bbox = []\n",
        "for i in range(len(annotations)):\n",
        "  width = annotations[i]['bbox'][2]/data['images'][i]['width']\n",
        "  height = annotations[i]['bbox'][3]/data['images'][i]['height']\n",
        "  bbox.append([width,height])"
      ],
      "execution_count": 0,
      "outputs": []
    },
    {
      "cell_type": "code",
      "metadata": {
        "id": "T1z9CPAzwymD",
        "colab_type": "code",
        "colab": {
          "base_uri": "https://localhost:8080/",
          "height": 857
        },
        "outputId": "a02721ea-0f62-4126-913a-99cf0fed8f5c"
      },
      "source": [
        "bbox"
      ],
      "execution_count": 31,
      "outputs": [
        {
          "output_type": "execute_result",
          "data": {
            "text/plain": [
              "[[0.5315985130111525, 0.8288770053475936],\n",
              " [0.39615384615384613, 0.9742268041237113],\n",
              " [0.3511705685618729, 0.6726190476190477],\n",
              " [0.7075812274368231, 0.9230769230769231],\n",
              " [0.5970695970695971, 0.7135135135135136],\n",
              " [0.3381818181818182, 0.5519125683060109],\n",
              " [0.47876447876447875, 0.8195876288659794],\n",
              " [0.49575070821529743, 0.958041958041958],\n",
              " [0.28363636363636363, 0.7868852459016393],\n",
              " [0.32061068702290074, 0.7447916666666666],\n",
              " [0.6640926640926641, 0.9484536082474226],\n",
              " [0.30666666666666664, 0.875],\n",
              " [0.7333333333333333, 0.6130952380952381],\n",
              " [0.3236363636363636, 0.6120218579234973],\n",
              " [0.33454545454545453, 0.6502732240437158],\n",
              " [0.4072727272727273, 0.6174863387978142],\n",
              " [0.3270440251572327, 0.8805031446540881],\n",
              " [0.5774647887323944, 0.5280898876404494],\n",
              " [0.6476868327402135, 0.6145251396648045],\n",
              " [0.4763636363636364, 0.5901639344262295],\n",
              " [0.4690909090909091, 0.5683060109289617],\n",
              " [0.8066666666666666, 0.6488095238095238],\n",
              " [0.8416988416988417, 0.520618556701031],\n",
              " [0.20422535211267606, 0.6214689265536724],\n",
              " [0.4154929577464789, 0.7740112994350282],\n",
              " [0.3236363636363636, 0.8579234972677595],\n",
              " [0.33440514469453375, 0.8580246913580247],\n",
              " [0.29454545454545455, 0.7759562841530054],\n",
              " [0.6872727272727273, 0.9726775956284153],\n",
              " [0.4682274247491639, 0.9345238095238095],\n",
              " [0.7854545454545454, 0.9508196721311475],\n",
              " [0.283, 0.6406015037593985],\n",
              " [0.5375722543352601, 0.9793103448275862],\n",
              " [0.8773963441818993, 0.7715712988192552],\n",
              " [0.2578125, 0.8343108504398827],\n",
              " [0.276, 0.6760797342192691],\n",
              " [0.6915254237288135, 0.4649532710280374],\n",
              " [0.5013661202185792, 0.9772727272727273],\n",
              " [0.675, 0.758998435054773],\n",
              " [0.3177083333333333, 0.6109375],\n",
              " [0.5185185185185185, 0.9731543624161074],\n",
              " [0.7278688524590164, 0.509090909090909],\n",
              " [0.5081818181818182, 0.7670299727520435],\n",
              " [0.2, 0.41530054644808745],\n",
              " [0.80625, 0.7775],\n",
              " [0.3347107438016529, 0.5968992248062015],\n",
              " [0.818, 0.7065868263473054],\n",
              " [0.5294117647058824, 0.6806167400881057],\n",
              " [0.6734234234234234, 0.684],\n",
              " [0.48375, 0.4352720450281426]]"
            ]
          },
          "metadata": {
            "tags": []
          },
          "execution_count": 31
        }
      ]
    },
    {
      "cell_type": "code",
      "metadata": {
        "id": "uzN_Y-atSHXw",
        "colab_type": "code",
        "colab": {}
      },
      "source": [
        "bbox = np.array(bbox)"
      ],
      "execution_count": 0,
      "outputs": []
    },
    {
      "cell_type": "code",
      "metadata": {
        "colab_type": "code",
        "id": "eMi3hGYkSTqg",
        "colab": {}
      },
      "source": [
        "from sklearn.cluster import KMeans"
      ],
      "execution_count": 0,
      "outputs": []
    },
    {
      "cell_type": "code",
      "metadata": {
        "id": "xyeaFJ7FTOg1",
        "colab_type": "code",
        "colab": {
          "base_uri": "https://localhost:8080/",
          "height": 312
        },
        "outputId": "f346da79-30a5-4aff-dc4f-fba0cd8ee656"
      },
      "source": [
        "clusters = list(range(1,11))\n",
        "\n",
        "inertias = []\n",
        "for cluster in clusters:\n",
        "    kmeans = KMeans(n_clusters=cluster).fit(bbox)\n",
        "    inertias.append(kmeans.inertia_) # gives within-cluster sum-of-squares value\n",
        "\n",
        "plt.plot(clusters,inertias)\n",
        "plt.title('Elbow plot')\n",
        "plt.ylabel('within cluster sum of squares')\n",
        "plt.xlabel('k')"
      ],
      "execution_count": 60,
      "outputs": [
        {
          "output_type": "execute_result",
          "data": {
            "text/plain": [
              "Text(0.5, 0, 'k')"
            ]
          },
          "metadata": {
            "tags": []
          },
          "execution_count": 60
        },
        {
          "output_type": "display_data",
          "data": {
            "image/png": "[encoded data removed]",
            "text/plain": [
              "<Figure size 432x288 with 1 Axes>"
            ]
          },
          "metadata": {
            "tags": [],
            "needs_background": "light"
          }
        }
      ]
    },
    {
      "cell_type": "code",
      "metadata": {
        "id": "ZFGtqf0USUwA",
        "colab_type": "code",
        "colab": {}
      },
      "source": [
        "kmeans = KMeans( n_clusters=3)\n",
        "pred = kmeans.fit_predict(bbox)\n"
      ],
      "execution_count": 0,
      "outputs": []
    },
    {
      "cell_type": "code",
      "metadata": {
        "id": "WJ8ZwdkOYhVj",
        "colab_type": "code",
        "colab": {
          "base_uri": "https://localhost:8080/",
          "height": 67
        },
        "outputId": "018fff80-6ea4-4eb2-e912-7ebb764df3b6"
      },
      "source": [
        "kmeans.cluster_centers_"
      ],
      "execution_count": 54,
      "outputs": [
        {
          "output_type": "execute_result",
          "data": {
            "text/plain": [
              "array([[0.72872185, 0.63933482],\n",
              "       [0.34137158, 0.68030691],\n",
              "       [0.56004114, 0.92361942]])"
            ]
          },
          "metadata": {
            "tags": []
          },
          "execution_count": 54
        }
      ]
    },
    {
      "cell_type": "code",
      "metadata": {
        "id": "tsQaYi_-Ypu8",
        "colab_type": "code",
        "colab": {
          "base_uri": "https://localhost:8080/",
          "height": 34
        },
        "outputId": "e7cc9f0b-0216-4324-a163-3b5d088f051c"
      },
      "source": [
        "kmeans.cluster_centers_[:, 1]"
      ],
      "execution_count": 55,
      "outputs": [
        {
          "output_type": "execute_result",
          "data": {
            "text/plain": [
              "array([0.63933482, 0.68030691, 0.92361942])"
            ]
          },
          "metadata": {
            "tags": []
          },
          "execution_count": 55
        }
      ]
    },
    {
      "cell_type": "code",
      "metadata": {
        "id": "vD57GCEwWzkw",
        "colab_type": "code",
        "colab": {
          "base_uri": "https://localhost:8080/",
          "height": 295
        },
        "outputId": "3f22dced-09fb-499d-d6de-3716da96e679"
      },
      "source": [
        "plt.scatter(bbox[pred == 0, 0], bbox[pred == 0, 1], s = 10, c = 'red', label = 'Cluster 1')\n",
        "plt.scatter(bbox[pred == 1, 0], bbox[pred == 1, 1], s = 10, c = 'blue', label = 'Cluster 2')\n",
        "plt.scatter(bbox[pred == 2, 0], bbox[pred == 2, 1], s = 10, c = 'green', label = 'Cluster 3')\n",
        "plt.scatter(kmeans.cluster_centers_[:, 0], kmeans.cluster_centers_[:, 1], s = 30, c = 'yellow', label = 'Centroids')\n",
        "plt.title('Clusters')\n",
        "plt.xlabel('width')\n",
        "plt.ylabel('height')\n",
        "plt.legend()\n",
        "plt.show()"
      ],
      "execution_count": 56,
      "outputs": [
        {
          "output_type": "display_data",
          "data": {
            "image/png": "[encoded data removed]",
            "text/plain": [
              "<Figure size 432x288 with 1 Axes>"
            ]
          },
          "metadata": {
            "tags": [],
            "needs_background": "light"
          }
        }
      ]
    },
    {
      "cell_type": "code",
      "metadata": {
        "id": "0LUt0ThJZPOh",
        "colab_type": "code",
        "colab": {}
      },
      "source": [
        ""
      ],
      "execution_count": 0,
      "outputs": []
    }
  ]
}