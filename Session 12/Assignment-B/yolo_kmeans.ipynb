{
  "nbformat": 4,
  "nbformat_minor": 0,
  "metadata": {
    "colab": {
      "name": "yolo kmeans.ipynb",
      "provenance": [],
      "collapsed_sections": [],
      "authorship_tag": "ABX9TyMV7xq93DY3s+FQzF6nILFt",
      "include_colab_link": true
    },
    "kernelspec": {
      "name": "python3",
      "display_name": "Python 3"
    }
  },
  "cells": [
    {
      "cell_type": "markdown",
      "metadata": {
        "id": "view-in-github",
        "colab_type": "text"
      },
      "source": [
        "<a href=\"https://colab.research.google.com/github/mshilpaa/EVA4/blob/master/Session%2012/Assignment-B/yolo_kmeans.ipynb\" target=\"_parent\"><img src=\"https://colab.research.google.com/assets/colab-badge.svg\" alt=\"Open In Colab\"/></a>"
      ]
    },
    {
      "cell_type": "code",
      "metadata": {
        "id": "E2V8pIf3_Gt3",
        "colab_type": "code",
        "outputId": "97146c9a-ef21-4baa-9447-c3591fb729ed",
        "colab": {
          "base_uri": "https://localhost:8080/",
          "height": 121
        }
      },
      "source": [
        "# mount gdrive and unzip data\n",
        "from google.colab import drive\n",
        "drive.mount('/content/gdrive')"
      ],
      "execution_count": 1,
      "outputs": [
        {
          "output_type": "stream",
          "text": [
            "Go to this URL in a browser: https://accounts.google.com/o/oauth2/auth?client_id=947318989803-6bn6qk8qdgf4n4g3pfee6491hc0brc4i.apps.googleusercontent.com&redirect_uri=urn%3aietf%3awg%3aoauth%3a2.0%3aoob&response_type=code&scope=email%20https%3a%2f%2fwww.googleapis.com%2fauth%2fdocs.test%20https%3a%2f%2fwww.googleapis.com%2fauth%2fdrive%20https%3a%2f%2fwww.googleapis.com%2fauth%2fdrive.photos.readonly%20https%3a%2f%2fwww.googleapis.com%2fauth%2fpeopleapi.readonly\n",
            "\n",
            "Enter your authorization code:\n",
            "··········\n",
            "Mounted at /content/gdrive\n"
          ],
          "name": "stdout"
        }
      ]
    },
    {
      "cell_type": "code",
      "metadata": {
        "id": "PI13In2mfCc3",
        "colab_type": "code",
        "colab": {}
      },
      "source": [
        "import pandas as pd\n",
        "import matplotlib.pyplot as plt\n",
        "import numpy as np"
      ],
      "execution_count": 0,
      "outputs": []
    },
    {
      "cell_type": "markdown",
      "metadata": {
        "id": "q-T2pjmWq4fp",
        "colab_type": "text"
      },
      "source": [
        "**Loading the json file which is in coco format**"
      ]
    },
    {
      "cell_type": "code",
      "metadata": {
        "id": "qotysdeSgh3o",
        "colab_type": "code",
        "colab": {}
      },
      "source": [
        "import json\n",
        "\n",
        "with open('/content/gdrive/My Drive/eva/yoloData_coco.json') as f:\n",
        "  data = json.load(f)"
      ],
      "execution_count": 0,
      "outputs": []
    },
    {
      "cell_type": "code",
      "metadata": {
        "id": "VoL7emTcpoDj",
        "colab_type": "code",
        "outputId": "c82d42bd-6237-4aed-f704-e4b588212330",
        "colab": {
          "base_uri": "https://localhost:8080/",
          "height": 34
        }
      },
      "source": [
        "data.keys()"
      ],
      "execution_count": 4,
      "outputs": [
        {
          "output_type": "execute_result",
          "data": {
            "text/plain": [
              "dict_keys(['info', 'images', 'annotations', 'licenses', 'categories'])"
            ]
          },
          "metadata": {
            "tags": []
          },
          "execution_count": 4
        }
      ]
    },
    {
      "cell_type": "markdown",
      "metadata": {
        "id": "GhvoTjkirv5I",
        "colab_type": "text"
      },
      "source": [
        "**info:** It contains information about the dataset.\n",
        "\n",
        "**licenses:** It contains a list of image licenses that apply to images in the dataset.\n",
        "\n",
        "**categories:** It contains a list of categories. Categories can belong to a supercategory.\n",
        "\n",
        "**images:** It contains all the attributes of the images in the dataset such as file name,width,height etc.\n",
        "\n",
        "**annotations:** It contains information of the object segmentation and bounding box dimensions."
      ]
    },
    {
      "cell_type": "code",
      "metadata": {
        "id": "k4oF4tnNpWEZ",
        "colab_type": "code",
        "outputId": "b05939f1-a203-4365-9ace-e44a1daf9d50",
        "colab": {
          "base_uri": "https://localhost:8080/",
          "height": 118
        }
      },
      "source": [
        "data['info']"
      ],
      "execution_count": 5,
      "outputs": [
        {
          "output_type": "execute_result",
          "data": {
            "text/plain": [
              "{'contributor': '',\n",
              " 'date_created': 'Thu Apr 16 2020 21:36:45 GMT+0530 (India Standard Time)',\n",
              " 'description': 'Exported using VGG Image Annotator (http://www.robots.ox.ac.uk/~vgg/software/via/)',\n",
              " 'url': 'http://www.robots.ox.ac.uk/~vgg/software/via/',\n",
              " 'version': '1',\n",
              " 'year': 2020}"
            ]
          },
          "metadata": {
            "tags": []
          },
          "execution_count": 5
        }
      ]
    },
    {
      "cell_type": "code",
      "metadata": {
        "id": "nPR49bjQqfFF",
        "colab_type": "code",
        "outputId": "b4b34656-802c-49c6-8f0a-0415ce606609",
        "colab": {
          "base_uri": "https://localhost:8080/",
          "height": 34
        }
      },
      "source": [
        "data['annotations'][0].keys()"
      ],
      "execution_count": 13,
      "outputs": [
        {
          "output_type": "execute_result",
          "data": {
            "text/plain": [
              "dict_keys(['id', 'image_id', 'segmentation', 'area', 'bbox', 'iscrowd'])"
            ]
          },
          "metadata": {
            "tags": []
          },
          "execution_count": 13
        }
      ]
    },
    {
      "cell_type": "markdown",
      "metadata": {
        "id": "ZTq0NAzFacOq",
        "colab_type": "text"
      },
      "source": [
        "**id:** It is the unique id for the annotations.\n",
        "\n",
        "**image_id:** It corresponds to the imageid that we have in the image section.\n",
        "\n",
        "**segmentation:** the x and y coordinates for the vertices of the polygon around every object instance for the segmentation masks.\n",
        "\n",
        "**area:** area of the bounding box\n",
        "\n",
        "**bbox:** the dimensions of the bounding box: *(x-top left, y-top left, width, height)*\n",
        "\n",
        "**iscrowd:** If we have a single object segmentation then iscrowd is set to zero. For a collection of objects present in the image, we set iscrowd=1, in which case RLE is used.RLE is Run Length Encoding. When iscrowd=1, then we add attribute counts and size in the segmentation section.\n"
      ]
    },
    {
      "cell_type": "code",
      "metadata": {
        "id": "OfY6XrSFqA9g",
        "colab_type": "code",
        "outputId": "c9a33d44-9fa5-46c0-faa5-17ca90898352",
        "colab": {
          "base_uri": "https://localhost:8080/",
          "height": 118
        }
      },
      "source": [
        "data['annotations'][0]"
      ],
      "execution_count": 14,
      "outputs": [
        {
          "output_type": "execute_result",
          "data": {
            "text/plain": [
              "{'area': 22165,\n",
              " 'bbox': [79, 32, 143, 155],\n",
              " 'id': 0,\n",
              " 'image_id': '0',\n",
              " 'iscrowd': 0,\n",
              " 'segmentation': [79, 32, 222, 32, 222, 187, 79, 187]}"
            ]
          },
          "metadata": {
            "tags": []
          },
          "execution_count": 14
        }
      ]
    },
    {
      "cell_type": "code",
      "metadata": {
        "id": "FwO5TlrJrCEY",
        "colab_type": "code",
        "outputId": "7d81b53d-cfce-4b8b-e430-012b226c5772",
        "colab": {
          "base_uri": "https://localhost:8080/",
          "height": 34
        }
      },
      "source": [
        "len(data['annotations'])"
      ],
      "execution_count": 15,
      "outputs": [
        {
          "output_type": "execute_result",
          "data": {
            "text/plain": [
              "50"
            ]
          },
          "metadata": {
            "tags": []
          },
          "execution_count": 15
        }
      ]
    },
    {
      "cell_type": "code",
      "metadata": {
        "id": "WK3VpAsvPqgp",
        "colab_type": "code",
        "outputId": "b268c4b9-da14-426c-a93b-083f1750a0b7",
        "colab": {
          "base_uri": "https://localhost:8080/",
          "height": 34
        }
      },
      "source": [
        "data['images'][0].keys()"
      ],
      "execution_count": 10,
      "outputs": [
        {
          "output_type": "execute_result",
          "data": {
            "text/plain": [
              "dict_keys(['id', 'width', 'height', 'file_name', 'license', 'date_captured'])"
            ]
          },
          "metadata": {
            "tags": []
          },
          "execution_count": 10
        }
      ]
    },
    {
      "cell_type": "markdown",
      "metadata": {
        "id": "7dA5j_pCb6YP",
        "colab_type": "text"
      },
      "source": [
        "**id**: It is the unique id of the image\n",
        "\n",
        "**height**: height of image in pixels\n",
        "\n",
        "**width**: width of the image in pixels\n",
        "\n",
        "**file_name**: name of file"
      ]
    },
    {
      "cell_type": "code",
      "metadata": {
        "id": "D_l6qgZ-aMhl",
        "colab_type": "code",
        "outputId": "ec08d40d-0485-4fd3-cacb-1587daeccf46",
        "colab": {
          "base_uri": "https://localhost:8080/",
          "height": 118
        }
      },
      "source": [
        "data['images'][0]"
      ],
      "execution_count": 11,
      "outputs": [
        {
          "output_type": "execute_result",
          "data": {
            "text/plain": [
              "{'date_captured': '',\n",
              " 'file_name': '1.jfif',\n",
              " 'height': 187,\n",
              " 'id': 0,\n",
              " 'license': 1,\n",
              " 'width': 269}"
            ]
          },
          "metadata": {
            "tags": []
          },
          "execution_count": 11
        }
      ]
    },
    {
      "cell_type": "code",
      "metadata": {
        "id": "1rYGSbe3P2sj",
        "colab_type": "code",
        "outputId": "c47956f7-28db-466e-ae82-0d530f62bccd",
        "colab": {
          "base_uri": "https://localhost:8080/",
          "height": 34
        }
      },
      "source": [
        "len(data['images'])"
      ],
      "execution_count": 12,
      "outputs": [
        {
          "output_type": "execute_result",
          "data": {
            "text/plain": [
              "50"
            ]
          },
          "metadata": {
            "tags": []
          },
          "execution_count": 12
        }
      ]
    },
    {
      "cell_type": "markdown",
      "metadata": {
        "id": "_gNGzUd8fFys",
        "colab_type": "text"
      },
      "source": [
        "Normalizing the bounding boxes width and height to make the bounding boxes comparable"
      ]
    },
    {
      "cell_type": "code",
      "metadata": {
        "id": "W_K2dagajSak",
        "colab_type": "code",
        "colab": {
          "base_uri": "https://localhost:8080/",
          "height": 195
        },
        "outputId": "33e91661-db94-4b93-a137-82956801e0e2"
      },
      "source": [
        "import math\n",
        "df = pd.DataFrame()\n",
        "for i in range(len(data['annotations'])):\n",
        "  \n",
        "  image_width = data['images'][i]['width']\n",
        "  image_height = data['images'][i]['height']\n",
        "  bbox_width = data['annotations'][i]['bbox'][2]\n",
        "  bbox_height = data['annotations'][i]['bbox'][3]\n",
        "\n",
        "  # Normalizing the bounding boxes width and height to make the bounding boxes comparable.\n",
        "  width = bbox_width/image_width\n",
        "  height = bbox_height/image_height\n",
        "  log_width = math.log(width)\n",
        "  log_height = math.log(height)\n",
        "\n",
        "  df = df.append({'name': data['images'][i]['file_name'], 'image_width': image_width, 'image_height': image_height,'bbox_width':bbox_width,\n",
        "                  'bbox_height':bbox_height,'normalized_bbox_w':width,'normalized_bbox_h':height,\n",
        "                  'log_normalized_bbox_w':log_width,'log_normalized_bbox_h':log_height}, ignore_index=True) \n",
        "\n",
        "df = df[['name', 'image_width', 'image_height','bbox_width', 'bbox_height','normalized_bbox_w','normalized_bbox_h',\n",
        "                  'log_normalized_bbox_w','log_normalized_bbox_h']]\n",
        "df.head(5)"
      ],
      "execution_count": 31,
      "outputs": [
        {
          "output_type": "execute_result",
          "data": {
            "text/html": [
              "<div>\n",
              "<style scoped>\n",
              "    .dataframe tbody tr th:only-of-type {\n",
              "        vertical-align: middle;\n",
              "    }\n",
              "\n",
              "    .dataframe tbody tr th {\n",
              "        vertical-align: top;\n",
              "    }\n",
              "\n",
              "    .dataframe thead th {\n",
              "        text-align: right;\n",
              "    }\n",
              "</style>\n",
              "<table border=\"1\" class=\"dataframe\">\n",
              "  <thead>\n",
              "    <tr style=\"text-align: right;\">\n",
              "      <th></th>\n",
              "      <th>name</th>\n",
              "      <th>image_width</th>\n",
              "      <th>image_height</th>\n",
              "      <th>bbox_width</th>\n",
              "      <th>bbox_height</th>\n",
              "      <th>normalized_bbox_w</th>\n",
              "      <th>normalized_bbox_h</th>\n",
              "      <th>log_normalized_bbox_w</th>\n",
              "      <th>log_normalized_bbox_h</th>\n",
              "    </tr>\n",
              "  </thead>\n",
              "  <tbody>\n",
              "    <tr>\n",
              "      <th>0</th>\n",
              "      <td>1.jfif</td>\n",
              "      <td>269.0</td>\n",
              "      <td>187.0</td>\n",
              "      <td>143.0</td>\n",
              "      <td>155.0</td>\n",
              "      <td>0.531599</td>\n",
              "      <td>0.828877</td>\n",
              "      <td>-0.631867</td>\n",
              "      <td>-0.187683</td>\n",
              "    </tr>\n",
              "    <tr>\n",
              "      <th>1</th>\n",
              "      <td>2.jfif</td>\n",
              "      <td>260.0</td>\n",
              "      <td>194.0</td>\n",
              "      <td>103.0</td>\n",
              "      <td>189.0</td>\n",
              "      <td>0.396154</td>\n",
              "      <td>0.974227</td>\n",
              "      <td>-0.925953</td>\n",
              "      <td>-0.026111</td>\n",
              "    </tr>\n",
              "    <tr>\n",
              "      <th>2</th>\n",
              "      <td>3.jfif</td>\n",
              "      <td>299.0</td>\n",
              "      <td>168.0</td>\n",
              "      <td>105.0</td>\n",
              "      <td>113.0</td>\n",
              "      <td>0.351171</td>\n",
              "      <td>0.672619</td>\n",
              "      <td>-1.046483</td>\n",
              "      <td>-0.396576</td>\n",
              "    </tr>\n",
              "    <tr>\n",
              "      <th>3</th>\n",
              "      <td>4.jfif</td>\n",
              "      <td>277.0</td>\n",
              "      <td>182.0</td>\n",
              "      <td>196.0</td>\n",
              "      <td>168.0</td>\n",
              "      <td>0.707581</td>\n",
              "      <td>0.923077</td>\n",
              "      <td>-0.345903</td>\n",
              "      <td>-0.080043</td>\n",
              "    </tr>\n",
              "    <tr>\n",
              "      <th>4</th>\n",
              "      <td>5.jfif</td>\n",
              "      <td>273.0</td>\n",
              "      <td>185.0</td>\n",
              "      <td>163.0</td>\n",
              "      <td>132.0</td>\n",
              "      <td>0.597070</td>\n",
              "      <td>0.713514</td>\n",
              "      <td>-0.515722</td>\n",
              "      <td>-0.337554</td>\n",
              "    </tr>\n",
              "  </tbody>\n",
              "</table>\n",
              "</div>"
            ],
            "text/plain": [
              "     name  image_width  ...  log_normalized_bbox_w  log_normalized_bbox_h\n",
              "0  1.jfif        269.0  ...              -0.631867              -0.187683\n",
              "1  2.jfif        260.0  ...              -0.925953              -0.026111\n",
              "2  3.jfif        299.0  ...              -1.046483              -0.396576\n",
              "3  4.jfif        277.0  ...              -0.345903              -0.080043\n",
              "4  5.jfif        273.0  ...              -0.515722              -0.337554\n",
              "\n",
              "[5 rows x 9 columns]"
            ]
          },
          "metadata": {
            "tags": []
          },
          "execution_count": 31
        }
      ]
    },
    {
      "cell_type": "markdown",
      "metadata": {
        "id": "qTnHQUThpYob",
        "colab_type": "text"
      },
      "source": [
        "Plot of width vs height"
      ]
    },
    {
      "cell_type": "code",
      "metadata": {
        "id": "P6TWsEhtqVbd",
        "colab_type": "code",
        "colab": {
          "base_uri": "https://localhost:8080/",
          "height": 299
        },
        "outputId": "415085b7-102e-45c6-f629-6634d096975c"
      },
      "source": [
        "df.plot.scatter('normalized_bbox_w','normalized_bbox_h')"
      ],
      "execution_count": 32,
      "outputs": [
        {
          "output_type": "execute_result",
          "data": {
            "text/plain": [
              "<matplotlib.axes._subplots.AxesSubplot at 0x7f480b1f8048>"
            ]
          },
          "metadata": {
            "tags": []
          },
          "execution_count": 32
        },
        {
          "output_type": "display_data",
          "data": {
            "image/png": "[encoded data removed]",
            "text/plain": [
              "<Figure size 432x288 with 1 Axes>"
            ]
          },
          "metadata": {
            "tags": [],
            "needs_background": "light"
          }
        }
      ]
    },
    {
      "cell_type": "markdown",
      "metadata": {
        "id": "3tvIhh5WyV-L",
        "colab_type": "text"
      },
      "source": [
        "Log of the normalized_bbox_w,normalized_bbox_h will condense the data. Below shows the plot of this data."
      ]
    },
    {
      "cell_type": "code",
      "metadata": {
        "id": "vDgZNuz5qffJ",
        "colab_type": "code",
        "colab": {
          "base_uri": "https://localhost:8080/",
          "height": 297
        },
        "outputId": "2461be6e-d3c8-4a73-b4b5-1c3d297adc0e"
      },
      "source": [
        "df.plot.scatter('log_normalized_bbox_w','log_normalized_bbox_h')"
      ],
      "execution_count": 33,
      "outputs": [
        {
          "output_type": "execute_result",
          "data": {
            "text/plain": [
              "<matplotlib.axes._subplots.AxesSubplot at 0x7f480b347c50>"
            ]
          },
          "metadata": {
            "tags": []
          },
          "execution_count": 33
        },
        {
          "output_type": "display_data",
          "data": {
            "image/png": "[encoded data removed]",
            "text/plain": [
              "<Figure size 432x288 with 1 Axes>"
            ]
          },
          "metadata": {
            "tags": [],
            "needs_background": "light"
          }
        }
      ]
    },
    {
      "cell_type": "code",
      "metadata": {
        "id": "uzN_Y-atSHXw",
        "colab_type": "code",
        "colab": {}
      },
      "source": [
        "x = df[['log_normalized_bbox_w','log_normalized_bbox_h']].to_numpy()"
      ],
      "execution_count": 0,
      "outputs": []
    },
    {
      "cell_type": "markdown",
      "metadata": {
        "id": "H2bGDQoovnZh",
        "colab_type": "text"
      },
      "source": [
        "# **Applying KMeans**"
      ]
    },
    {
      "cell_type": "code",
      "metadata": {
        "colab_type": "code",
        "id": "eMi3hGYkSTqg",
        "colab": {}
      },
      "source": [
        "from sklearn.cluster import KMeans"
      ],
      "execution_count": 0,
      "outputs": []
    },
    {
      "cell_type": "markdown",
      "metadata": {
        "id": "lXn9u_7DytZs",
        "colab_type": "text"
      },
      "source": [
        "**Elbow Plot to find optimal K value**"
      ]
    },
    {
      "cell_type": "code",
      "metadata": {
        "id": "xyeaFJ7FTOg1",
        "colab_type": "code",
        "outputId": "1f63d173-2fa0-485d-b0ee-3becca803882",
        "colab": {
          "base_uri": "https://localhost:8080/",
          "height": 312
        }
      },
      "source": [
        "clusters = list(range(1,15))\n",
        "\n",
        "inertias = []\n",
        "for cluster in clusters:\n",
        "    kmeans = KMeans(n_clusters=cluster).fit(x)\n",
        "    inertias.append(kmeans.inertia_) # gives within-cluster sum-of-squares value\n",
        "\n",
        "plt.plot(clusters,inertias,linestyle='-', marker='o')\n",
        "plt.title('Elbow plot')\n",
        "plt.ylabel('within cluster sum of squares')\n",
        "plt.xlabel('k')"
      ],
      "execution_count": 69,
      "outputs": [
        {
          "output_type": "execute_result",
          "data": {
            "text/plain": [
              "Text(0.5, 0, 'k')"
            ]
          },
          "metadata": {
            "tags": []
          },
          "execution_count": 69
        },
        {
          "output_type": "display_data",
          "data": {
            "image/png": "[encoded data removed]",
            "text/plain": [
              "<Figure size 432x288 with 1 Axes>"
            ]
          },
          "metadata": {
            "tags": [],
            "needs_background": "light"
          }
        }
      ]
    },
    {
      "cell_type": "markdown",
      "metadata": {
        "id": "BJ_NSddZo49K",
        "colab_type": "text"
      },
      "source": [
        "Applying kmeans for k = 2,3,4,5 after observing the eblow plot"
      ]
    },
    {
      "cell_type": "code",
      "metadata": {
        "id": "ZFGtqf0USUwA",
        "colab_type": "code",
        "colab": {}
      },
      "source": [
        "kmeans = KMeans( n_clusters=2)\n",
        "pred = kmeans.fit_predict(x)\n"
      ],
      "execution_count": 0,
      "outputs": []
    },
    {
      "cell_type": "code",
      "metadata": {
        "id": "WJ8ZwdkOYhVj",
        "colab_type": "code",
        "outputId": "0161a03e-d606-488a-c67f-0cf2bab2951b",
        "colab": {
          "base_uri": "https://localhost:8080/",
          "height": 50
        }
      },
      "source": [
        "kmeans.cluster_centers_"
      ],
      "execution_count": 46,
      "outputs": [
        {
          "output_type": "execute_result",
          "data": {
            "text/plain": [
              "array([[-1.16874544, -0.35299712],\n",
              "       [-0.48015995, -0.32227552]])"
            ]
          },
          "metadata": {
            "tags": []
          },
          "execution_count": 46
        }
      ]
    },
    {
      "cell_type": "code",
      "metadata": {
        "id": "tsQaYi_-Ypu8",
        "colab_type": "code",
        "outputId": "d4b3a933-b1a6-493e-97d0-bd5581af4071",
        "colab": {
          "base_uri": "https://localhost:8080/",
          "height": 34
        }
      },
      "source": [
        "kmeans.cluster_centers_[:, 1]"
      ],
      "execution_count": 47,
      "outputs": [
        {
          "output_type": "execute_result",
          "data": {
            "text/plain": [
              "array([-0.35299712, -0.32227552])"
            ]
          },
          "metadata": {
            "tags": []
          },
          "execution_count": 47
        }
      ]
    },
    {
      "cell_type": "code",
      "metadata": {
        "id": "MHUVDYUssEu3",
        "colab_type": "code",
        "colab": {
          "base_uri": "https://localhost:8080/",
          "height": 295
        },
        "outputId": "490fd466-2409-47af-a106-b2e912fa7e52"
      },
      "source": [
        "plt.scatter(x[pred == 0, 0], x[pred == 0, 1], s = 10, c = 'red', label = 'Cluster 1')\n",
        "plt.scatter(x[pred == 1, 0], x[pred == 1, 1], s = 10, c = 'blue', label = 'Cluster 2')\n",
        "plt.scatter(kmeans.cluster_centers_[:, 0], kmeans.cluster_centers_[:, 1], s = 30, c = 'yellow', label = 'Centroids')\n",
        "plt.title('Clusters for k = 2')\n",
        "plt.xlabel('width')\n",
        "plt.ylabel('height')\n",
        "plt.legend()\n",
        "plt.show()"
      ],
      "execution_count": 50,
      "outputs": [
        {
          "output_type": "display_data",
          "data": {
            "image/png": "[encoded data removed]",
            "text/plain": [
              "<Figure size 432x288 with 1 Axes>"
            ]
          },
          "metadata": {
            "tags": [],
            "needs_background": "light"
          }
        }
      ]
    },
    {
      "cell_type": "code",
      "metadata": {
        "id": "0LUt0ThJZPOh",
        "colab_type": "code",
        "colab": {}
      },
      "source": [
        "def kmeans(k,x):\n",
        "  kmeans = KMeans( n_clusters=k)\n",
        "  pred = kmeans.fit_predict(x)\n",
        "  for i in range(k):\n",
        "    label = 'Cluster '+str(i+1)\n",
        "    plt.scatter(x[pred == i, 0], x[pred == i, 1], s = 10,  label = label)\n",
        "\n",
        "  plt.scatter(kmeans.cluster_centers_[:, 0], kmeans.cluster_centers_[:, 1], s = 30, c = 'yellow', label = 'Centroids')\n",
        "  title = 'Clusters for k = '+str(k)\n",
        "  plt.title(title)\n",
        "  plt.xlabel('width')\n",
        "  plt.ylabel('height')\n",
        "  plt.legend()\n",
        "  plt.show()"
      ],
      "execution_count": 0,
      "outputs": []
    },
    {
      "cell_type": "code",
      "metadata": {
        "id": "0bskVnV5uhdC",
        "colab_type": "code",
        "colab": {
          "base_uri": "https://localhost:8080/",
          "height": 295
        },
        "outputId": "5a5fe715-41df-4053-ee7a-55f58c9e801a"
      },
      "source": [
        "kmeans(3,x)"
      ],
      "execution_count": 74,
      "outputs": [
        {
          "output_type": "display_data",
          "data": {
            "image/png": "[encoded data removed]",
            "text/plain": [
              "<Figure size 432x288 with 1 Axes>"
            ]
          },
          "metadata": {
            "tags": [],
            "needs_background": "light"
          }
        }
      ]
    },
    {
      "cell_type": "code",
      "metadata": {
        "id": "ADz9EYipujXh",
        "colab_type": "code",
        "colab": {
          "base_uri": "https://localhost:8080/",
          "height": 295
        },
        "outputId": "126bbf17-7def-4ea8-c8bf-b52e7ecdc13d"
      },
      "source": [
        "kmeans(4,x)"
      ],
      "execution_count": 75,
      "outputs": [
        {
          "output_type": "display_data",
          "data": {
            "image/png": "[encoded data removed]",
            "text/plain": [
              "<Figure size 432x288 with 1 Axes>"
            ]
          },
          "metadata": {
            "tags": [],
            "needs_background": "light"
          }
        }
      ]
    },
    {
      "cell_type": "code",
      "metadata": {
        "id": "DOwm6GKCu7R9",
        "colab_type": "code",
        "colab": {
          "base_uri": "https://localhost:8080/",
          "height": 295
        },
        "outputId": "5dc85f5b-a09b-42c4-a0d0-b3c5248758d5"
      },
      "source": [
        "kmeans(5,x)"
      ],
      "execution_count": 76,
      "outputs": [
        {
          "output_type": "display_data",
          "data": {
            "image/png": "[encoded data removed]",
            "text/plain": [
              "<Figure size 432x288 with 1 Axes>"
            ]
          },
          "metadata": {
            "tags": [],
            "needs_background": "light"
          }
        }
      ]
    },
    {
      "cell_type": "code",
      "metadata": {
        "id": "nKvpQmXV0tyu",
        "colab_type": "code",
        "colab": {}
      },
      "source": [
        ""
      ],
      "execution_count": 0,
      "outputs": []
    }
  ]
}