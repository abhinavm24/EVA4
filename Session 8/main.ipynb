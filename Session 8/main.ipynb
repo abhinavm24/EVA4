{
  "nbformat": 4,
  "nbformat_minor": 0,
  "metadata": {
    "colab": {
      "name": "s8.ipynb",
      "provenance": [],
      "collapsed_sections": [],
      "authorship_tag": "ABX9TyPLCDrKdchC5QOGimiX3TO7",
      "include_colab_link": true
    },
    "kernelspec": {
      "name": "python3",
      "display_name": "Python 3"
    },
    "accelerator": "GPU"
  },
  "cells": [
    {
      "cell_type": "markdown",
      "metadata": {
        "id": "view-in-github",
        "colab_type": "text"
      },
      "source": [
        "<a href=\"https://colab.research.google.com/github/mshilpaa/EVA4/blob/master/Session%208/main.ipynb\" target=\"_parent\"><img src=\"https://colab.research.google.com/assets/colab-badge.svg\" alt=\"Open In Colab\"/></a>"
      ]
    },
    {
      "cell_type": "code",
      "metadata": {
        "id": "7bO4KQZ2BnVd",
        "colab_type": "code",
        "outputId": "3e7326c9-f1b4-471e-df0b-1a3773dca13f",
        "colab": {
          "base_uri": "https://localhost:8080/",
          "height": 34
        }
      },
      "source": [
        "# mount gdrive and unzip data\n",
        "from google.colab import drive\n",
        "drive.mount('/content/gdrive')"
      ],
      "execution_count": 1,
      "outputs": [
        {
          "output_type": "stream",
          "text": [
            "Drive already mounted at /content/gdrive; to attempt to forcibly remount, call drive.mount(\"/content/gdrive\", force_remount=True).\n"
          ],
          "name": "stdout"
        }
      ]
    },
    {
      "cell_type": "code",
      "metadata": {
        "id": "zuVC28FuBrx_",
        "colab_type": "code",
        "colab": {}
      },
      "source": [
        "import sys\n",
        "folder = '/content/gdrive/My Drive/Colab Notebooks/s8'\n",
        "sys.path.append(folder)"
      ],
      "execution_count": 0,
      "outputs": []
    },
    {
      "cell_type": "code",
      "metadata": {
        "id": "KQfrOaeWCAeC",
        "colab_type": "code",
        "colab": {}
      },
      "source": [
        "%matplotlib inline\n",
        "import torch\n",
        "import data_loading\n",
        "import show_images\n",
        "import dnn_architecture\n",
        "import train_and_test\n",
        "import evaluate"
      ],
      "execution_count": 0,
      "outputs": []
    },
    {
      "cell_type": "code",
      "metadata": {
        "id": "Ny0tOxfPCV5t",
        "colab_type": "code",
        "outputId": "aedbb160-740a-42e3-9fe1-1973a1ee994b",
        "colab": {
          "base_uri": "https://localhost:8080/",
          "height": 67
        }
      },
      "source": [
        "classes, trainloader, testloader = data_loading.load()"
      ],
      "execution_count": 4,
      "outputs": [
        {
          "output_type": "stream",
          "text": [
            "Files already downloaded and verified\n",
            "Files already downloaded and verified\n",
            "CUDA Available? True\n"
          ],
          "name": "stdout"
        }
      ]
    },
    {
      "cell_type": "code",
      "metadata": {
        "id": "2WQOV5JOCcdh",
        "colab_type": "code",
        "outputId": "845babb5-292a-4aa2-b4af-62ad5ab9d820",
        "colab": {
          "base_uri": "https://localhost:8080/",
          "height": 154
        }
      },
      "source": [
        "show_images.show_random_images(trainloader, classes)"
      ],
      "execution_count": 5,
      "outputs": [
        {
          "output_type": "stream",
          "text": [
            "shape: torch.Size([128, 3, 32, 32])\n",
            "  cat truck truck   cat   cat\n"
          ],
          "name": "stdout"
        },
        {
          "output_type": "display_data",
          "data": {
            "image/png": "[encoded data removed]",
            "text/plain": [
              "<Figure size 432x288 with 1 Axes>"
            ]
          },
          "metadata": {
            "tags": []
          }
        }
      ]
    },
    {
      "cell_type": "code",
      "metadata": {
        "id": "MeFhl0oHCirx",
        "colab_type": "code",
        "outputId": "353a6926-38c7-4b49-e56a-99b35eb7739a",
        "colab": {
          "base_uri": "https://localhost:8080/",
          "height": 1000
        }
      },
      "source": [
        "!pip install torchsummary\n",
        "from torchsummary import summary\n",
        "use_cuda = torch.cuda.is_available()\n",
        "device = torch.device(\"cuda\" if use_cuda else \"cpu\")\n",
        "print(device)\n",
        "model = dnn_architecture.Net().to(device)\n",
        "summary(model, input_size=(3, 32, 32))"
      ],
      "execution_count": 6,
      "outputs": [
        {
          "output_type": "stream",
          "text": [
            "Requirement already satisfied: torchsummary in /usr/local/lib/python3.6/dist-packages (1.5.1)\n",
            "cuda\n",
            "----------------------------------------------------------------\n",
            "        Layer (type)               Output Shape         Param #\n",
            "================================================================\n",
            "            Conv2d-1           [-1, 64, 32, 32]           1,728\n",
            "       BatchNorm2d-2           [-1, 64, 32, 32]             128\n",
            "            Conv2d-3           [-1, 64, 32, 32]          36,864\n",
            "       BatchNorm2d-4           [-1, 64, 32, 32]             128\n",
            "           Dropout-5           [-1, 64, 32, 32]               0\n",
            "            Conv2d-6           [-1, 64, 32, 32]          36,864\n",
            "       BatchNorm2d-7           [-1, 64, 32, 32]             128\n",
            "           Dropout-8           [-1, 64, 32, 32]               0\n",
            "        BasicBlock-9           [-1, 64, 32, 32]               0\n",
            "           Conv2d-10           [-1, 64, 32, 32]          36,864\n",
            "      BatchNorm2d-11           [-1, 64, 32, 32]             128\n",
            "          Dropout-12           [-1, 64, 32, 32]               0\n",
            "           Conv2d-13           [-1, 64, 32, 32]          36,864\n",
            "      BatchNorm2d-14           [-1, 64, 32, 32]             128\n",
            "          Dropout-15           [-1, 64, 32, 32]               0\n",
            "       BasicBlock-16           [-1, 64, 32, 32]               0\n",
            "           Conv2d-17          [-1, 128, 16, 16]          73,728\n",
            "      BatchNorm2d-18          [-1, 128, 16, 16]             256\n",
            "          Dropout-19          [-1, 128, 16, 16]               0\n",
            "           Conv2d-20          [-1, 128, 16, 16]         147,456\n",
            "      BatchNorm2d-21          [-1, 128, 16, 16]             256\n",
            "          Dropout-22          [-1, 128, 16, 16]               0\n",
            "           Conv2d-23          [-1, 128, 16, 16]           8,192\n",
            "      BatchNorm2d-24          [-1, 128, 16, 16]             256\n",
            "          Dropout-25          [-1, 128, 16, 16]               0\n",
            "       BasicBlock-26          [-1, 128, 16, 16]               0\n",
            "           Conv2d-27          [-1, 128, 16, 16]         147,456\n",
            "      BatchNorm2d-28          [-1, 128, 16, 16]             256\n",
            "          Dropout-29          [-1, 128, 16, 16]               0\n",
            "           Conv2d-30          [-1, 128, 16, 16]         147,456\n",
            "      BatchNorm2d-31          [-1, 128, 16, 16]             256\n",
            "          Dropout-32          [-1, 128, 16, 16]               0\n",
            "       BasicBlock-33          [-1, 128, 16, 16]               0\n",
            "           Conv2d-34            [-1, 256, 8, 8]         294,912\n",
            "      BatchNorm2d-35            [-1, 256, 8, 8]             512\n",
            "          Dropout-36            [-1, 256, 8, 8]               0\n",
            "           Conv2d-37            [-1, 256, 8, 8]         589,824\n",
            "      BatchNorm2d-38            [-1, 256, 8, 8]             512\n",
            "          Dropout-39            [-1, 256, 8, 8]               0\n",
            "           Conv2d-40            [-1, 256, 8, 8]          32,768\n",
            "      BatchNorm2d-41            [-1, 256, 8, 8]             512\n",
            "          Dropout-42            [-1, 256, 8, 8]               0\n",
            "       BasicBlock-43            [-1, 256, 8, 8]               0\n",
            "           Conv2d-44            [-1, 256, 8, 8]         589,824\n",
            "      BatchNorm2d-45            [-1, 256, 8, 8]             512\n",
            "          Dropout-46            [-1, 256, 8, 8]               0\n",
            "           Conv2d-47            [-1, 256, 8, 8]         589,824\n",
            "      BatchNorm2d-48            [-1, 256, 8, 8]             512\n",
            "          Dropout-49            [-1, 256, 8, 8]               0\n",
            "       BasicBlock-50            [-1, 256, 8, 8]               0\n",
            "           Conv2d-51            [-1, 512, 4, 4]       1,179,648\n",
            "      BatchNorm2d-52            [-1, 512, 4, 4]           1,024\n",
            "          Dropout-53            [-1, 512, 4, 4]               0\n",
            "           Conv2d-54            [-1, 512, 4, 4]       2,359,296\n",
            "      BatchNorm2d-55            [-1, 512, 4, 4]           1,024\n",
            "          Dropout-56            [-1, 512, 4, 4]               0\n",
            "           Conv2d-57            [-1, 512, 4, 4]         131,072\n",
            "      BatchNorm2d-58            [-1, 512, 4, 4]           1,024\n",
            "          Dropout-59            [-1, 512, 4, 4]               0\n",
            "       BasicBlock-60            [-1, 512, 4, 4]               0\n",
            "           Conv2d-61            [-1, 512, 4, 4]       2,359,296\n",
            "      BatchNorm2d-62            [-1, 512, 4, 4]           1,024\n",
            "          Dropout-63            [-1, 512, 4, 4]               0\n",
            "           Conv2d-64            [-1, 512, 4, 4]       2,359,296\n",
            "      BatchNorm2d-65            [-1, 512, 4, 4]           1,024\n",
            "          Dropout-66            [-1, 512, 4, 4]               0\n",
            "       BasicBlock-67            [-1, 512, 4, 4]               0\n",
            "           Linear-68                   [-1, 10]           5,130\n",
            "================================================================\n",
            "Total params: 11,173,962\n",
            "Trainable params: 11,173,962\n",
            "Non-trainable params: 0\n",
            "----------------------------------------------------------------\n",
            "Input size (MB): 0.01\n",
            "Forward/backward pass size (MB): 15.44\n",
            "Params size (MB): 42.63\n",
            "Estimated Total Size (MB): 58.07\n",
            "----------------------------------------------------------------\n"
          ],
          "name": "stdout"
        }
      ]
    },
    {
      "cell_type": "code",
      "metadata": {
        "id": "gC2_JrBKDJiT",
        "colab_type": "code",
        "colab": {}
      },
      "source": [
        "import torch.nn as nn\n",
        "import torch.optim as optim\n",
        "from torch.optim.lr_scheduler import StepLR,MultiStepLR\n",
        "\n",
        "criterion = nn.CrossEntropyLoss()\n",
        "optimizer = optim.SGD(model.parameters(), lr=0.1, momentum=0.9,weight_decay=0.0005)\n",
        "scheduler = MultiStepLR(optimizer, milestones=[10,13,15], gamma=0.1)"
      ],
      "execution_count": 0,
      "outputs": []
    },
    {
      "cell_type": "code",
      "metadata": {
        "id": "_ATOpWGADK0Y",
        "colab_type": "code",
        "outputId": "a15145bd-47bf-4993-b6b1-c7a9679020f1",
        "colab": {
          "base_uri": "https://localhost:8080/",
          "height": 1000
        }
      },
      "source": [
        "\n",
        "EPOCHS = 30\n",
        "for epoch in range(EPOCHS):\n",
        "    print(\"EPOCH:\", epoch+1, 'LR:',optimizer.param_groups[0]['lr'])\n",
        "    train_and_test.train(model, device, trainloader, optimizer, criterion, epoch)\n",
        "    scheduler.step()\n",
        "    train_and_test.test(model, device, criterion, testloader)"
      ],
      "execution_count": 8,
      "outputs": [
        {
          "output_type": "stream",
          "text": [
            "\r  0%|          | 0/391 [00:00<?, ?it/s]"
          ],
          "name": "stderr"
        },
        {
          "output_type": "stream",
          "text": [
            "EPOCH: 1 LR: 0.1\n"
          ],
          "name": "stdout"
        },
        {
          "output_type": "stream",
          "text": [
            "Loss=1.5971373319625854 Batch_id=390 Accuracy=29.68: 100%|██████████| 391/391 [00:30<00:00, 12.72it/s]\n",
            "  0%|          | 0/391 [00:00<?, ?it/s]"
          ],
          "name": "stderr"
        },
        {
          "output_type": "stream",
          "text": [
            "\n",
            "Test set: Average loss: 0.0121, Accuracy: 4255/10000 (42.55%)\n",
            "\n",
            "EPOCH: 2 LR: 0.1\n"
          ],
          "name": "stdout"
        },
        {
          "output_type": "stream",
          "text": [
            "Loss=1.3908355236053467 Batch_id=390 Accuracy=50.30: 100%|██████████| 391/391 [00:31<00:00, 13.64it/s]\n",
            "  0%|          | 0/391 [00:00<?, ?it/s]"
          ],
          "name": "stderr"
        },
        {
          "output_type": "stream",
          "text": [
            "\n",
            "Test set: Average loss: 0.0093, Accuracy: 5706/10000 (57.06%)\n",
            "\n",
            "EPOCH: 3 LR: 0.1\n"
          ],
          "name": "stdout"
        },
        {
          "output_type": "stream",
          "text": [
            "Loss=0.9335561990737915 Batch_id=390 Accuracy=61.14: 100%|██████████| 391/391 [00:30<00:00, 12.64it/s]\n",
            "  0%|          | 0/391 [00:00<?, ?it/s]"
          ],
          "name": "stderr"
        },
        {
          "output_type": "stream",
          "text": [
            "\n",
            "Test set: Average loss: 0.0084, Accuracy: 6192/10000 (61.92%)\n",
            "\n",
            "EPOCH: 4 LR: 0.1\n"
          ],
          "name": "stdout"
        },
        {
          "output_type": "stream",
          "text": [
            "Loss=0.8426440358161926 Batch_id=390 Accuracy=68.75: 100%|██████████| 391/391 [00:30<00:00, 13.78it/s]\n",
            "  0%|          | 0/391 [00:00<?, ?it/s]"
          ],
          "name": "stderr"
        },
        {
          "output_type": "stream",
          "text": [
            "\n",
            "Test set: Average loss: 0.0070, Accuracy: 6959/10000 (69.59%)\n",
            "\n",
            "EPOCH: 5 LR: 0.1\n"
          ],
          "name": "stdout"
        },
        {
          "output_type": "stream",
          "text": [
            "Loss=0.609618604183197 Batch_id=390 Accuracy=74.52: 100%|██████████| 391/391 [00:31<00:00, 13.65it/s]\n",
            "  0%|          | 0/391 [00:00<?, ?it/s]"
          ],
          "name": "stderr"
        },
        {
          "output_type": "stream",
          "text": [
            "\n",
            "Test set: Average loss: 0.0067, Accuracy: 7098/10000 (70.98%)\n",
            "\n",
            "EPOCH: 6 LR: 0.1\n"
          ],
          "name": "stdout"
        },
        {
          "output_type": "stream",
          "text": [
            "Loss=0.5603557825088501 Batch_id=390 Accuracy=78.23: 100%|██████████| 391/391 [00:30<00:00, 13.78it/s]\n",
            "  0%|          | 0/391 [00:00<?, ?it/s]"
          ],
          "name": "stderr"
        },
        {
          "output_type": "stream",
          "text": [
            "\n",
            "Test set: Average loss: 0.0060, Accuracy: 7449/10000 (74.49%)\n",
            "\n",
            "EPOCH: 7 LR: 0.1\n"
          ],
          "name": "stdout"
        },
        {
          "output_type": "stream",
          "text": [
            "Loss=0.6042784452438354 Batch_id=390 Accuracy=81.38: 100%|██████████| 391/391 [00:31<00:00, 12.53it/s]\n",
            "  0%|          | 0/391 [00:00<?, ?it/s]"
          ],
          "name": "stderr"
        },
        {
          "output_type": "stream",
          "text": [
            "\n",
            "Test set: Average loss: 0.0054, Accuracy: 7723/10000 (77.23%)\n",
            "\n",
            "EPOCH: 8 LR: 0.1\n"
          ],
          "name": "stdout"
        },
        {
          "output_type": "stream",
          "text": [
            "Loss=0.7243821024894714 Batch_id=390 Accuracy=83.17: 100%|██████████| 391/391 [00:30<00:00, 13.82it/s]\n",
            "  0%|          | 0/391 [00:00<?, ?it/s]"
          ],
          "name": "stderr"
        },
        {
          "output_type": "stream",
          "text": [
            "\n",
            "Test set: Average loss: 0.0051, Accuracy: 7802/10000 (78.02%)\n",
            "\n",
            "EPOCH: 9 LR: 0.1\n"
          ],
          "name": "stdout"
        },
        {
          "output_type": "stream",
          "text": [
            "Loss=0.4854341149330139 Batch_id=390 Accuracy=84.75: 100%|██████████| 391/391 [00:31<00:00, 12.61it/s]\n",
            "  0%|          | 0/391 [00:00<?, ?it/s]"
          ],
          "name": "stderr"
        },
        {
          "output_type": "stream",
          "text": [
            "\n",
            "Test set: Average loss: 0.0048, Accuracy: 7938/10000 (79.38%)\n",
            "\n",
            "EPOCH: 10 LR: 0.1\n"
          ],
          "name": "stdout"
        },
        {
          "output_type": "stream",
          "text": [
            "Loss=0.48524385690689087 Batch_id=390 Accuracy=85.82: 100%|██████████| 391/391 [00:30<00:00, 13.75it/s]\n",
            "  0%|          | 0/391 [00:00<?, ?it/s]"
          ],
          "name": "stderr"
        },
        {
          "output_type": "stream",
          "text": [
            "\n",
            "Test set: Average loss: 0.0053, Accuracy: 7792/10000 (77.92%)\n",
            "\n",
            "EPOCH: 11 LR: 0.010000000000000002\n"
          ],
          "name": "stdout"
        },
        {
          "output_type": "stream",
          "text": [
            "Loss=0.21378132700920105 Batch_id=390 Accuracy=93.97: 100%|██████████| 391/391 [00:31<00:00, 13.64it/s]\n",
            "  0%|          | 0/391 [00:00<?, ?it/s]"
          ],
          "name": "stderr"
        },
        {
          "output_type": "stream",
          "text": [
            "\n",
            "Test set: Average loss: 0.0033, Accuracy: 8664/10000 (86.64%)\n",
            "\n",
            "EPOCH: 12 LR: 0.010000000000000002\n"
          ],
          "name": "stdout"
        },
        {
          "output_type": "stream",
          "text": [
            "Loss=0.14581522345542908 Batch_id=390 Accuracy=96.54: 100%|██████████| 391/391 [00:30<00:00, 13.63it/s]\n",
            "  0%|          | 0/391 [00:00<?, ?it/s]"
          ],
          "name": "stderr"
        },
        {
          "output_type": "stream",
          "text": [
            "\n",
            "Test set: Average loss: 0.0033, Accuracy: 8660/10000 (86.60%)\n",
            "\n",
            "EPOCH: 13 LR: 0.010000000000000002\n"
          ],
          "name": "stdout"
        },
        {
          "output_type": "stream",
          "text": [
            "Loss=0.09039582312107086 Batch_id=390 Accuracy=97.78: 100%|██████████| 391/391 [00:30<00:00, 13.79it/s]\n",
            "  0%|          | 0/391 [00:00<?, ?it/s]"
          ],
          "name": "stderr"
        },
        {
          "output_type": "stream",
          "text": [
            "\n",
            "Test set: Average loss: 0.0035, Accuracy: 8702/10000 (87.02%)\n",
            "\n",
            "EPOCH: 14 LR: 0.0010000000000000002\n"
          ],
          "name": "stdout"
        },
        {
          "output_type": "stream",
          "text": [
            "Loss=0.0651538074016571 Batch_id=390 Accuracy=98.84: 100%|██████████| 391/391 [00:30<00:00, 13.59it/s]\n",
            "  0%|          | 0/391 [00:00<?, ?it/s]"
          ],
          "name": "stderr"
        },
        {
          "output_type": "stream",
          "text": [
            "\n",
            "Test set: Average loss: 0.0034, Accuracy: 8699/10000 (86.99%)\n",
            "\n",
            "EPOCH: 15 LR: 0.0010000000000000002\n"
          ],
          "name": "stdout"
        },
        {
          "output_type": "stream",
          "text": [
            "Loss=0.016569506376981735 Batch_id=390 Accuracy=99.05: 100%|██████████| 391/391 [00:31<00:00, 13.67it/s]\n",
            "  0%|          | 0/391 [00:00<?, ?it/s]"
          ],
          "name": "stderr"
        },
        {
          "output_type": "stream",
          "text": [
            "\n",
            "Test set: Average loss: 0.0034, Accuracy: 8726/10000 (87.26%)\n",
            "\n",
            "EPOCH: 16 LR: 0.00010000000000000003\n"
          ],
          "name": "stdout"
        },
        {
          "output_type": "stream",
          "text": [
            "Loss=0.05092785507440567 Batch_id=390 Accuracy=99.15: 100%|██████████| 391/391 [00:31<00:00, 13.54it/s]\n",
            "  0%|          | 0/391 [00:00<?, ?it/s]"
          ],
          "name": "stderr"
        },
        {
          "output_type": "stream",
          "text": [
            "\n",
            "Test set: Average loss: 0.0035, Accuracy: 8723/10000 (87.23%)\n",
            "\n",
            "EPOCH: 17 LR: 0.00010000000000000003\n"
          ],
          "name": "stdout"
        },
        {
          "output_type": "stream",
          "text": [
            "Loss=0.04671851545572281 Batch_id=390 Accuracy=99.12: 100%|██████████| 391/391 [00:30<00:00, 13.50it/s]\n",
            "  0%|          | 0/391 [00:00<?, ?it/s]"
          ],
          "name": "stderr"
        },
        {
          "output_type": "stream",
          "text": [
            "\n",
            "Test set: Average loss: 0.0034, Accuracy: 8716/10000 (87.16%)\n",
            "\n",
            "EPOCH: 18 LR: 0.00010000000000000003\n"
          ],
          "name": "stdout"
        },
        {
          "output_type": "stream",
          "text": [
            "Loss=0.05552821606397629 Batch_id=390 Accuracy=99.13: 100%|██████████| 391/391 [00:31<00:00, 12.50it/s]\n",
            "  0%|          | 0/391 [00:00<?, ?it/s]"
          ],
          "name": "stderr"
        },
        {
          "output_type": "stream",
          "text": [
            "\n",
            "Test set: Average loss: 0.0034, Accuracy: 8717/10000 (87.17%)\n",
            "\n",
            "EPOCH: 19 LR: 0.00010000000000000003\n"
          ],
          "name": "stdout"
        },
        {
          "output_type": "stream",
          "text": [
            "Loss=0.06317327916622162 Batch_id=390 Accuracy=99.18: 100%|██████████| 391/391 [00:31<00:00, 12.48it/s]\n",
            "  0%|          | 0/391 [00:00<?, ?it/s]"
          ],
          "name": "stderr"
        },
        {
          "output_type": "stream",
          "text": [
            "\n",
            "Test set: Average loss: 0.0034, Accuracy: 8705/10000 (87.05%)\n",
            "\n",
            "EPOCH: 20 LR: 0.00010000000000000003\n"
          ],
          "name": "stdout"
        },
        {
          "output_type": "stream",
          "text": [
            "Loss=0.06697026640176773 Batch_id=390 Accuracy=99.08: 100%|██████████| 391/391 [00:31<00:00, 13.54it/s]\n",
            "  0%|          | 0/391 [00:00<?, ?it/s]"
          ],
          "name": "stderr"
        },
        {
          "output_type": "stream",
          "text": [
            "\n",
            "Test set: Average loss: 0.0034, Accuracy: 8722/10000 (87.22%)\n",
            "\n",
            "EPOCH: 21 LR: 0.00010000000000000003\n"
          ],
          "name": "stdout"
        },
        {
          "output_type": "stream",
          "text": [
            "Loss=0.026319563388824463 Batch_id=390 Accuracy=99.13: 100%|██████████| 391/391 [00:30<00:00, 13.63it/s]\n",
            "  0%|          | 0/391 [00:00<?, ?it/s]"
          ],
          "name": "stderr"
        },
        {
          "output_type": "stream",
          "text": [
            "\n",
            "Test set: Average loss: 0.0034, Accuracy: 8715/10000 (87.15%)\n",
            "\n",
            "EPOCH: 22 LR: 0.00010000000000000003\n"
          ],
          "name": "stdout"
        },
        {
          "output_type": "stream",
          "text": [
            "Loss=0.051699090749025345 Batch_id=390 Accuracy=99.13: 100%|██████████| 391/391 [00:31<00:00, 13.57it/s]\n",
            "  0%|          | 0/391 [00:00<?, ?it/s]"
          ],
          "name": "stderr"
        },
        {
          "output_type": "stream",
          "text": [
            "\n",
            "Test set: Average loss: 0.0035, Accuracy: 8726/10000 (87.26%)\n",
            "\n",
            "EPOCH: 23 LR: 0.00010000000000000003\n"
          ],
          "name": "stdout"
        },
        {
          "output_type": "stream",
          "text": [
            "Loss=0.02219628170132637 Batch_id=390 Accuracy=99.18: 100%|██████████| 391/391 [00:31<00:00, 12.52it/s]\n",
            "  0%|          | 0/391 [00:00<?, ?it/s]"
          ],
          "name": "stderr"
        },
        {
          "output_type": "stream",
          "text": [
            "\n",
            "Test set: Average loss: 0.0035, Accuracy: 8721/10000 (87.21%)\n",
            "\n",
            "EPOCH: 24 LR: 0.00010000000000000003\n"
          ],
          "name": "stdout"
        },
        {
          "output_type": "stream",
          "text": [
            "Loss=0.03816375881433487 Batch_id=390 Accuracy=99.14: 100%|██████████| 391/391 [00:31<00:00, 13.60it/s]\n",
            "  0%|          | 0/391 [00:00<?, ?it/s]"
          ],
          "name": "stderr"
        },
        {
          "output_type": "stream",
          "text": [
            "\n",
            "Test set: Average loss: 0.0035, Accuracy: 8707/10000 (87.07%)\n",
            "\n",
            "EPOCH: 25 LR: 0.00010000000000000003\n"
          ],
          "name": "stdout"
        },
        {
          "output_type": "stream",
          "text": [
            "Loss=0.06717289984226227 Batch_id=390 Accuracy=99.17: 100%|██████████| 391/391 [00:31<00:00, 13.35it/s]\n",
            "  0%|          | 0/391 [00:00<?, ?it/s]"
          ],
          "name": "stderr"
        },
        {
          "output_type": "stream",
          "text": [
            "\n",
            "Test set: Average loss: 0.0035, Accuracy: 8719/10000 (87.19%)\n",
            "\n",
            "EPOCH: 26 LR: 0.00010000000000000003\n"
          ],
          "name": "stdout"
        },
        {
          "output_type": "stream",
          "text": [
            "Loss=0.014595734886825085 Batch_id=390 Accuracy=99.21: 100%|██████████| 391/391 [00:30<00:00, 13.65it/s]\n",
            "  0%|          | 0/391 [00:00<?, ?it/s]"
          ],
          "name": "stderr"
        },
        {
          "output_type": "stream",
          "text": [
            "\n",
            "Test set: Average loss: 0.0035, Accuracy: 8720/10000 (87.20%)\n",
            "\n",
            "EPOCH: 27 LR: 0.00010000000000000003\n"
          ],
          "name": "stdout"
        },
        {
          "output_type": "stream",
          "text": [
            "Loss=0.035962097346782684 Batch_id=390 Accuracy=99.15: 100%|██████████| 391/391 [00:30<00:00, 12.66it/s]\n",
            "  0%|          | 0/391 [00:00<?, ?it/s]"
          ],
          "name": "stderr"
        },
        {
          "output_type": "stream",
          "text": [
            "\n",
            "Test set: Average loss: 0.0034, Accuracy: 8726/10000 (87.26%)\n",
            "\n",
            "EPOCH: 28 LR: 0.00010000000000000003\n"
          ],
          "name": "stdout"
        },
        {
          "output_type": "stream",
          "text": [
            "Loss=0.03014182485640049 Batch_id=390 Accuracy=99.16: 100%|██████████| 391/391 [00:30<00:00, 13.51it/s]\n",
            "  0%|          | 0/391 [00:00<?, ?it/s]"
          ],
          "name": "stderr"
        },
        {
          "output_type": "stream",
          "text": [
            "\n",
            "Test set: Average loss: 0.0035, Accuracy: 8718/10000 (87.18%)\n",
            "\n",
            "EPOCH: 29 LR: 0.00010000000000000003\n"
          ],
          "name": "stdout"
        },
        {
          "output_type": "stream",
          "text": [
            "Loss=0.058505892753601074 Batch_id=390 Accuracy=99.27: 100%|██████████| 391/391 [00:31<00:00, 12.59it/s]\n",
            "  0%|          | 0/391 [00:00<?, ?it/s]"
          ],
          "name": "stderr"
        },
        {
          "output_type": "stream",
          "text": [
            "\n",
            "Test set: Average loss: 0.0035, Accuracy: 8713/10000 (87.13%)\n",
            "\n",
            "EPOCH: 30 LR: 0.00010000000000000003\n"
          ],
          "name": "stdout"
        },
        {
          "output_type": "stream",
          "text": [
            "Loss=0.05488462373614311 Batch_id=390 Accuracy=99.20: 100%|██████████| 391/391 [00:30<00:00, 13.71it/s]\n"
          ],
          "name": "stderr"
        },
        {
          "output_type": "stream",
          "text": [
            "\n",
            "Test set: Average loss: 0.0034, Accuracy: 8715/10000 (87.15%)\n",
            "\n"
          ],
          "name": "stdout"
        }
      ]
    },
    {
      "cell_type": "code",
      "metadata": {
        "id": "ALThI24lDLXn",
        "colab_type": "code",
        "outputId": "7b39ba8d-3974-4384-cd4c-0fa41e06ecc8",
        "colab": {
          "base_uri": "https://localhost:8080/",
          "height": 154
        }
      },
      "source": [
        "evaluate.show_predicted_actual(model, device, testloader, classes)"
      ],
      "execution_count": 9,
      "outputs": [
        {
          "output_type": "stream",
          "text": [
            "GroundTruth:   ship horse plane  bird   dog\n",
            "Predicted:   ship horse  ship  bird   dog\n"
          ],
          "name": "stdout"
        },
        {
          "output_type": "display_data",
          "data": {
            "image/png": "[encoded data removed]",
            "text/plain": [
              "<Figure size 432x288 with 1 Axes>"
            ]
          },
          "metadata": {
            "tags": []
          }
        }
      ]
    },
    {
      "cell_type": "code",
      "metadata": {
        "id": "GdxrItSeDLlX",
        "colab_type": "code",
        "outputId": "9a36ce67-c602-468a-87cc-eb7fc102a5b6",
        "colab": {
          "base_uri": "https://localhost:8080/",
          "height": 34
        }
      },
      "source": [
        "evaluate.evaluate_accuracy(model, device, testloader)"
      ],
      "execution_count": 10,
      "outputs": [
        {
          "output_type": "stream",
          "text": [
            "Accuracy of the network on the 10000 test images: 87 %\n"
          ],
          "name": "stdout"
        }
      ]
    },
    {
      "cell_type": "code",
      "metadata": {
        "id": "0mEFsGkeDL6f",
        "colab_type": "code",
        "outputId": "7788eb87-a534-4e14-c315-51f4d55c7ebc",
        "colab": {
          "base_uri": "https://localhost:8080/",
          "height": 185
        }
      },
      "source": [
        "evaluate.evaluate_classwise_accuracy(model, device, classes, testloader)"
      ],
      "execution_count": 11,
      "outputs": [
        {
          "output_type": "stream",
          "text": [
            "Accuracy of plane : 83 %\n",
            "Accuracy of   car : 100 %\n",
            "Accuracy of  bird : 88 %\n",
            "Accuracy of   cat : 72 %\n",
            "Accuracy of  deer : 78 %\n",
            "Accuracy of   dog : 71 %\n",
            "Accuracy of  frog : 88 %\n",
            "Accuracy of horse : 88 %\n",
            "Accuracy of  ship : 92 %\n",
            "Accuracy of truck : 93 %\n"
          ],
          "name": "stdout"
        }
      ]
    },
    {
      "cell_type": "code",
      "metadata": {
        "id": "9bTgxbcOGDDk",
        "colab_type": "code",
        "colab": {}
      },
      "source": [
        ""
      ],
      "execution_count": 0,
      "outputs": []
    }
  ]
}