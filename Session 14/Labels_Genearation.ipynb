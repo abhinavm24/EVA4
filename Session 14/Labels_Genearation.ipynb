{
  "nbformat": 4,
  "nbformat_minor": 0,
  "metadata": {
    "colab": {
      "name": "Copy of Generate Labels.ipynb",
      "provenance": [],
      "include_colab_link": true
    },
    "kernelspec": {
      "name": "python3",
      "display_name": "Python 3"
    },
    "accelerator": "GPU"
  },
  "cells": [
    {
      "cell_type": "markdown",
      "metadata": {
        "id": "view-in-github",
        "colab_type": "text"
      },
      "source": [
        "<a href=\"https://colab.research.google.com/github/mshilpaa/EVA4/blob/master/Session%2014/Labels_Genearation.ipynb\" target=\"_parent\"><img src=\"https://colab.research.google.com/assets/colab-badge.svg\" alt=\"Open In Colab\"/></a>"
      ]
    },
    {
      "cell_type": "code",
      "metadata": {
        "id": "vK9DUoMdEgGn",
        "colab_type": "code",
        "outputId": "890ffe20-036e-4482-af04-bd8fc7ca64e5",
        "colab": {
          "base_uri": "https://localhost:8080/",
          "height": 122
        }
      },
      "source": [
        "from google.colab import drive\n",
        "drive.mount('/content/gdrive')"
      ],
      "execution_count": 0,
      "outputs": [
        {
          "output_type": "stream",
          "text": [
            "Go to this URL in a browser: https://accounts.google.com/o/oauth2/auth?client_id=947318989803-6bn6qk8qdgf4n4g3pfee6491hc0brc4i.apps.googleusercontent.com&redirect_uri=urn%3aietf%3awg%3aoauth%3a2.0%3aoob&response_type=code&scope=email%20https%3a%2f%2fwww.googleapis.com%2fauth%2fdocs.test%20https%3a%2f%2fwww.googleapis.com%2fauth%2fdrive%20https%3a%2f%2fwww.googleapis.com%2fauth%2fdrive.photos.readonly%20https%3a%2f%2fwww.googleapis.com%2fauth%2fpeopleapi.readonly\n",
            "\n",
            "Enter your authorization code:\n",
            "··········\n",
            "Mounted at /content/gdrive\n"
          ],
          "name": "stdout"
        }
      ]
    },
    {
      "cell_type": "markdown",
      "metadata": {
        "id": "yhRPGzoPc3LU",
        "colab_type": "text"
      },
      "source": [
        "# **Labels.txt File**"
      ]
    },
    {
      "cell_type": "code",
      "metadata": {
        "id": "S3pbqzRCPb60",
        "colab_type": "code",
        "outputId": "81311e5b-309e-4f1c-c347-1e981c1d4021",
        "colab": {
          "base_uri": "https://localhost:8080/",
          "height": 102
        }
      },
      "source": [
        "start =1 \n",
        "file = open(\"labels.txt\",\"w\")\n",
        "for part in range(1,6): #5 sets\n",
        "  for i in range(1,101): #background\n",
        "      for j in  range(1,21): #foreground\n",
        "        for k in range(1,21): \n",
        "            file.write(f\"Background/bg{i}.jpg\\tForeground/fg{j}.png\\tdata_{part}/Fg-Bg/fg-bg{start}.jpg\\tdata_{part}/Fg-Bg-Mask/fg-bg-mask{start}.jpg\\tdata_{part}/Depth/depth{start}.jpg\\n\")\n",
        "            start+=1\n",
        "            file.write(f\"Background/bg{i}.jpg\\tForeground/fg{j}.png\\tdata_{part}/Fg-Bg/fg-bg{start}.jpg\\tdata_{part}/Fg-Bg-Mask/fg-bg-mask{start}.jpg\\tdata_{part}/Depth/depth{start}.jpg\\n\")\n",
        "            start+=1\n",
        "\n",
        "  print(start)\n",
        "file.close()"
      ],
      "execution_count": 0,
      "outputs": [
        {
          "output_type": "stream",
          "text": [
            "80001\n",
            "160001\n",
            "240001\n",
            "320001\n",
            "400001\n"
          ],
          "name": "stdout"
        }
      ]
    },
    {
      "cell_type": "code",
      "metadata": {
        "id": "FTjTJIMZadlo",
        "colab_type": "code",
        "colab": {}
      },
      "source": [
        "!mv labels.txt \"/content/gdrive/My Drive/Mask_Rcnn\""
      ],
      "execution_count": 0,
      "outputs": []
    }
  ]
}