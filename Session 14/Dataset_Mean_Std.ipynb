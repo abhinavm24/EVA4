{
  "nbformat": 4,
  "nbformat_minor": 0,
  "metadata": {
    "colab": {
      "name": "s15.ipynb",
      "provenance": [],
      "collapsed_sections": [],
      "machine_shape": "hm",
      "authorship_tag": "ABX9TyPX7x8InLBMdiy3WF1Oj6sT",
      "include_colab_link": true
    },
    "kernelspec": {
      "name": "python3",
      "display_name": "Python 3"
    }
  },
  "cells": [
    {
      "cell_type": "markdown",
      "metadata": {
        "id": "view-in-github",
        "colab_type": "text"
      },
      "source": [
        "<a href=\"https://colab.research.google.com/github/mshilpaa/EVA4/blob/master/Session%2014/Dataset_Mean_Std.ipynb\" target=\"_parent\"><img src=\"https://colab.research.google.com/assets/colab-badge.svg\" alt=\"Open In Colab\"/></a>"
      ]
    },
    {
      "cell_type": "code",
      "metadata": {
        "id": "ri2H3BJsaPyD",
        "colab_type": "code",
        "outputId": "09d29aac-1896-4622-889a-0782bcfd0cf7",
        "colab": {
          "base_uri": "https://localhost:8080/",
          "height": 120
        }
      },
      "source": [
        "from google.colab import drive\n",
        "drive.mount('/content/gdrive')"
      ],
      "execution_count": 1,
      "outputs": [
        {
          "output_type": "stream",
          "text": [
            "Go to this URL in a browser: https://accounts.google.com/o/oauth2/auth?client_id=947318989803-6bn6qk8qdgf4n4g3pfee6491hc0brc4i.apps.googleusercontent.com&redirect_uri=urn%3aietf%3awg%3aoauth%3a2.0%3aoob&response_type=code&scope=email%20https%3a%2f%2fwww.googleapis.com%2fauth%2fdocs.test%20https%3a%2f%2fwww.googleapis.com%2fauth%2fdrive%20https%3a%2f%2fwww.googleapis.com%2fauth%2fdrive.photos.readonly%20https%3a%2f%2fwww.googleapis.com%2fauth%2fpeopleapi.readonly\n",
            "\n",
            "Enter your authorization code:\n",
            "··········\n",
            "Mounted at /content/gdrive\n"
          ],
          "name": "stdout"
        }
      ]
    },
    {
      "cell_type": "code",
      "metadata": {
        "id": "zNwFVj6-3Oqg",
        "colab_type": "code",
        "colab": {}
      },
      "source": [
        "import os\n",
        "from zipfile import ZipFile \n",
        "import torch\n",
        "import numpy as np\n",
        "from PIL import Image\n",
        "from matplotlib.image import imread"
      ],
      "execution_count": 0,
      "outputs": []
    },
    {
      "cell_type": "code",
      "metadata": {
        "id": "4t61iVOl1p22",
        "colab_type": "code",
        "outputId": "5b153474-cc2a-45dd-b3f5-da987782a136",
        "colab": {
          "base_uri": "https://localhost:8080/",
          "height": 268
        }
      },
      "source": [
        "for i in os.listdir('/content/gdrive/My Drive/Mask_Rcnn/Dataset'):\n",
        "  filename = f'/content/gdrive/My Drive/Mask_Rcnn/Dataset/{i}'\n",
        "  print(filename)\n",
        "# opening the zip file in READ mode \n",
        "  with ZipFile(filename, 'r') as zip_file: \n",
        "      # printing all the contents of the zip file \n",
        "      #zip.printdir() \n",
        "    \n",
        "      # extracting all the files \n",
        "      print('Extracting all the files now...') \n",
        "      zip_file.extractall() \n",
        "      print('Done!')"
      ],
      "execution_count": 3,
      "outputs": [
        {
          "output_type": "stream",
          "text": [
            "/content/gdrive/My Drive/Mask_Rcnn/Dataset/data_part1.zip\n",
            "Extracting all the files now...\n",
            "Done!\n",
            "/content/gdrive/My Drive/Mask_Rcnn/Dataset/data_part2.zip\n",
            "Extracting all the files now...\n",
            "Done!\n",
            "/content/gdrive/My Drive/Mask_Rcnn/Dataset/data_part3.zip\n",
            "Extracting all the files now...\n",
            "Done!\n",
            "/content/gdrive/My Drive/Mask_Rcnn/Dataset/data_part4.zip\n",
            "Extracting all the files now...\n",
            "Done!\n",
            "/content/gdrive/My Drive/Mask_Rcnn/Dataset/data_part5.zip\n",
            "Extracting all the files now...\n",
            "Done!\n"
          ],
          "name": "stdout"
        }
      ]
    },
    {
      "cell_type": "code",
      "metadata": {
        "id": "-KUHoUY8eM68",
        "colab_type": "code",
        "outputId": "dec65daf-d00d-4b42-e427-883c900b4295",
        "colab": {
          "base_uri": "https://localhost:8080/",
          "height": 268
        }
      },
      "source": [
        "!ls /content/data_1/Fg-Bg | wc -l\n",
        "!ls /content/data_2/Fg-Bg | wc -l\n",
        "!ls /content/data_3/Fg-Bg | wc -l\n",
        "!ls /content/data_4/Fg-Bg | wc -l\n",
        "!ls /content/data_5/Fg-Bg | wc -l\n",
        "\n",
        "!ls /content/data_1/Fg-Bg-Mask | wc -l\n",
        "!ls /content/data_2/Fg-Bg-Mask | wc -l\n",
        "!ls /content/data_3/Fg-Bg-Mask | wc -l\n",
        "!ls /content/data_4/Fg-Bg-Mask | wc -l\n",
        "!ls /content/data_5/Fg-Bg-Mask | wc -l\n",
        "\n",
        "!ls /content/data_1/Depth | wc -l\n",
        "!ls /content/data_2/Depth | wc -l\n",
        "!ls /content/data_3/Depth | wc -l\n",
        "!ls /content/data_4/Depth | wc -l\n",
        "!ls /content/data_5/Depth | wc -l"
      ],
      "execution_count": 4,
      "outputs": [
        {
          "output_type": "stream",
          "text": [
            "80000\n",
            "80000\n",
            "80000\n",
            "80000\n",
            "80000\n",
            "80000\n",
            "80000\n",
            "80000\n",
            "80000\n",
            "80000\n",
            "80000\n",
            "80000\n",
            "80000\n",
            "80000\n",
            "80000\n"
          ],
          "name": "stdout"
        }
      ]
    },
    {
      "cell_type": "code",
      "metadata": {
        "id": "Z4xAi8jYPTev",
        "colab_type": "code",
        "colab": {}
      },
      "source": [
        "# mean and std of dataset\n",
        "\n",
        "def mean_std(folder=None):\n",
        "  n = 0\n",
        "  s = np.zeros(3)\n",
        "  sq = np.zeros(3)\n",
        "\n",
        "  for i in range(1,6):\n",
        "    dirs = f'/content/data_{str(i)}/{folder}'\n",
        "    for j in os.listdir(dirs): \n",
        "      x = np.asarray(Image.open(f'{dirs}/{j}'))/255\n",
        "      s += x.sum(axis=(0,1))\n",
        "      sq += np.sum(np.square(x), axis=(0,1))\n",
        "      n += x.shape[0]*x.shape[1]\n",
        "\n",
        "  mu = s/n\n",
        "  std = np.sqrt((sq/n - np.square(mu)))\n",
        "  print('Folder: ',folder)\n",
        "  print('Mean: ',mu)\n",
        "  print('std: ',std)"
      ],
      "execution_count": 0,
      "outputs": []
    },
    {
      "cell_type": "code",
      "metadata": {
        "id": "sVXUiVHPXlOj",
        "colab_type": "code",
        "colab": {
          "base_uri": "https://localhost:8080/",
          "height": 67
        },
        "outputId": "918b0da4-227c-4238-9dfa-db0fa15a40c9"
      },
      "source": [
        "mean_std(folder='Fg-Bg')"
      ],
      "execution_count": 11,
      "outputs": [
        {
          "output_type": "stream",
          "text": [
            "Folder:  Fg-Bg\n",
            "Mean:  [0.65830478 0.61511271 0.5740604 ]\n",
            "std:  [0.24408717 0.2542491  0.26870159]\n"
          ],
          "name": "stdout"
        }
      ]
    },
    {
      "cell_type": "code",
      "metadata": {
        "id": "K4uqpFX-PcEI",
        "colab_type": "code",
        "colab": {
          "base_uri": "https://localhost:8080/",
          "height": 67
        },
        "outputId": "a58eab75-8a89-4921-fdaa-cdad6d9ea291"
      },
      "source": [
        "mean_std(folder='Depth')"
      ],
      "execution_count": 9,
      "outputs": [
        {
          "output_type": "stream",
          "text": [
            "Folder:  Depth\n",
            "Mean:  [0.50911522 0.50911522 0.50911522]\n",
            "std:  [0.28174302 0.28174302 0.28174302]\n"
          ],
          "name": "stdout"
        }
      ]
    },
    {
      "cell_type": "code",
      "metadata": {
        "id": "BQ7W1TH4QXaH",
        "colab_type": "code",
        "colab": {
          "base_uri": "https://localhost:8080/",
          "height": 67
        },
        "outputId": "d8874550-59f7-41c4-c1aa-60b48b6f6965"
      },
      "source": [
        "mean_std(folder='Fg-Bg-Mask')"
      ],
      "execution_count": 10,
      "outputs": [
        {
          "output_type": "stream",
          "text": [
            "Folder:  Fg-Bg-Mask\n",
            "Mean:  [0.04608837 0.04608837 0.04608837]\n",
            "std:  [0.20544916 0.20544916 0.20544916]\n"
          ],
          "name": "stdout"
        }
      ]
    }
  ]
}