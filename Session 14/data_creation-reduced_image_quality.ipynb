{
  "nbformat": 4,
  "nbformat_minor": 0,
  "metadata": {
    "colab": {
      "name": "Untitled0.ipynb",
      "provenance": [],
      "collapsed_sections": [],
      "authorship_tag": "ABX9TyP2WR5PpF7TNfjiLoz/LRuv",
      "include_colab_link": true
    },
    "kernelspec": {
      "name": "python3",
      "display_name": "Python 3"
    }
  },
  "cells": [
    {
      "cell_type": "markdown",
      "metadata": {
        "id": "view-in-github",
        "colab_type": "text"
      },
      "source": [
        "<a href=\"https://colab.research.google.com/github/mshilpaa/EVA4/blob/master/Session%2014/data_creation-reduced_image_quality.ipynb\" target=\"_parent\"><img src=\"https://colab.research.google.com/assets/colab-badge.svg\" alt=\"Open In Colab\"/></a>"
      ]
    },
    {
      "cell_type": "code",
      "metadata": {
        "id": "iQMPlRIQZ08C",
        "colab_type": "code",
        "colab": {}
      },
      "source": [
        "from IPython.display import Image as IMAGE\n",
        "import numpy as np\n",
        "from PIL import Image,ImageOps\n",
        "import os\n",
        "import random\n",
        "import matplotlib.pyplot as plt\n",
        "from tqdm import tqdm"
      ],
      "execution_count": 0,
      "outputs": []
    },
    {
      "cell_type": "code",
      "metadata": {
        "id": "PjKrxtRrZ3ej",
        "colab_type": "code",
        "outputId": "47664773-6496-4494-83a3-bcae06e90a25",
        "colab": {
          "base_uri": "https://localhost:8080/"
        }
      },
      "source": [
        "from google.colab import drive\n",
        "drive.mount('/content/gdrive')"
      ],
      "execution_count": 0,
      "outputs": [
        {
          "output_type": "stream",
          "text": [
            "Drive already mounted at /content/gdrive; to attempt to forcibly remount, call drive.mount(\"/content/gdrive\", force_remount=True).\n"
          ],
          "name": "stdout"
        }
      ]
    },
    {
      "cell_type": "code",
      "metadata": {
        "id": "m2K8bGBJZ5up",
        "colab_type": "code",
        "colab": {}
      },
      "source": [
        "os.mkdir('/content/Overlay2')\n",
        "os.mkdir('/content/Overlay2/Fg-Bg')\n",
        "os.mkdir('/content/Overlay2/Fg-Bg-Mask')"
      ],
      "execution_count": 0,
      "outputs": []
    },
    {
      "cell_type": "code",
      "metadata": {
        "id": "T-90UoVibgAF",
        "colab_type": "code",
        "outputId": "2314fdf5-8d4c-4686-f4b8-d8d36461b7bc",
        "colab": {
          "base_uri": "https://localhost:8080/",
          "height": 34
        }
      },
      "source": [
        "fg_bg_num=80001\n",
        "\n",
        "\n",
        "fg_path = \"/content/gdrive/My Drive/Mask_Rcnn/Shilpa/Foreground/\"\n",
        "mask_path = \"/content/gdrive/My Drive/Mask_Rcnn/Shilpa/Foreground-mask/\"\n",
        "\n",
        "fg_bg_path = '/content/Overlay2/Fg-Bg/'\n",
        "fg_bg_mask_path = '/content/Overlay2/Fg-Bg-Mask/'\n",
        "\n",
        "for fg_img in tqdm(range(1,21),position=0): # run for 20 foreground images\n",
        "\n",
        "  black = np.zeros((224,224))\n",
        "\n",
        "  fg = Image.open(f'{fg_path}{str(fg_img)}.png')\n",
        "  fg_mask = Image.open(f'{mask_path}{str(fg_img)}.png')\n",
        "\n",
        "  # flip the images\n",
        "  fg_flip = ImageOps.mirror(fg)\n",
        "  fg_mask_flip = ImageOps.mirror(fg_mask)\n",
        "\n",
        "\n",
        "\n",
        "  for bg_img in range(1,101): # run for 100 background-images\n",
        "\n",
        "    bg_path = f'/content/gdrive/My Drive/Mask_Rcnn/living_room_224_224/bg{str(bg_img)}.jpg'\n",
        "    \n",
        "    for _ in range(20):   # overlay each fg + fg-flip 20 times randomly on the bg image\n",
        "      \n",
        "      # choose random numbers for location where fg must be pasted on bg\n",
        "      x = random.randint(0,100)\n",
        "      y = random.randint(0,100)\n",
        "\n",
        "      bg = Image.open(bg_path)\n",
        "        \n",
        "      # overly fg on bg\n",
        "      bg.paste(fg,(x,y),fg)\n",
        "\n",
        "      # save the fg-bg image\n",
        "      bg.save(f'{fg_bg_path}fg-bg{str(fg_bg_num)}.jpg',optimize=True, quality=30)\n",
        "\n",
        "      \n",
        "      black_img = Image.fromarray(black,mode='1')\n",
        "      \n",
        "      # overlay fg-mask on bg-mask    \n",
        "      black_img.paste(fg_mask,(x,y),fg_mask)\n",
        "      black_img.save(f'{fg_bg_mask_path}fg-bg-mask{str(fg_bg_num)}.jpg',optimize=True, quality=30)\n",
        "\n",
        "      fg_bg_num +=1\n",
        "      x = random.randint(0,100)\n",
        "      y = random.randint(0,100)\n",
        "\n",
        "      # open bg image\n",
        "      bg = Image.open(bg_path)\n",
        "      \n",
        "      # overlay fg-flip on bg\n",
        "      bg.paste(fg_flip,(x,y),fg_flip)\n",
        "      bg.save(f'{fg_bg_path}fg-bg{str(fg_bg_num)}.jpg',optimize=True, quality=30)\n",
        "      \n",
        "    \n",
        "      # create a black img\n",
        "      black_img = Image.fromarray(black,mode='1')\n",
        "      \n",
        "      # overlay fg-flip-mask on bg\n",
        "      black_img.paste(fg_mask_flip,(x,y),fg_mask_flip)\n",
        "      black_img.save(f'{fg_bg_mask_path}fg-bg-mask{str(fg_bg_num)}.jpg',optimize=True, quality=30)\n",
        "\n",
        "      fg_bg_num +=1\n",
        "    # print(fg_bg_num)"
      ],
      "execution_count": 0,
      "outputs": [
        {
          "output_type": "stream",
          "text": [
            "100%|██████████| 20/20 [07:27<00:00, 22.38s/it]\n"
          ],
          "name": "stderr"
        }
      ]
    },
    {
      "cell_type": "code",
      "metadata": {
        "id": "oJV3G1Dlcs0S",
        "colab_type": "code",
        "outputId": "4a2425ba-d854-4677-cb0c-ebb930490ced",
        "colab": {
          "base_uri": "https://localhost:8080/",
          "height": 34
        }
      },
      "source": [
        "!ls Overlay2/Fg-Bg | wc -l"
      ],
      "execution_count": 0,
      "outputs": [
        {
          "output_type": "stream",
          "text": [
            "80000\n"
          ],
          "name": "stdout"
        }
      ]
    },
    {
      "cell_type": "code",
      "metadata": {
        "id": "v7rDKCXIcucJ",
        "colab_type": "code",
        "outputId": "9ecaf458-df1e-4478-cc8d-682a37f24e5f",
        "colab": {
          "base_uri": "https://localhost:8080/",
          "height": 34
        }
      },
      "source": [
        "!ls Overlay2/Fg-Bg-Mask | wc -l"
      ],
      "execution_count": 0,
      "outputs": [
        {
          "output_type": "stream",
          "text": [
            "80000\n"
          ],
          "name": "stdout"
        }
      ]
    },
    {
      "cell_type": "code",
      "metadata": {
        "id": "QB1GqMA5bidM",
        "colab_type": "code",
        "outputId": "c9865e81-a5a4-445f-e28c-3383f44110a7",
        "colab": {
          "base_uri": "https://localhost:8080/"
        }
      },
      "source": [
        "#Export Zip file\n",
        "from zipfile import ZipFile \n",
        "import zipfile\n",
        "  \n",
        "def get_all_file_paths(directory): \n",
        "  \n",
        "    # initializing empty file paths list \n",
        "    file_paths = [] \n",
        "  \n",
        "    # crawling through directory and subdirectories \n",
        "    for root, directories, files in os.walk(directory): \n",
        "        for filename in files: \n",
        "            # join the two strings in order to form the full filepath. \n",
        "            filepath = os.path.join(root, filename) \n",
        "            file_paths.append(filepath) \n",
        "  \n",
        "    # returning all file paths \n",
        "    return file_paths         \n",
        "  \n",
        "def main(): \n",
        "    # path to folder which needs to be zipped \n",
        "    directory = 'Overlay2'\n",
        "  \n",
        "    # calling function to get all file paths in the directory \n",
        "    file_paths = get_all_file_paths(directory) \n",
        "  \n",
        "    # printing the list of all files to be zipped \n",
        "    # print('Following files will be zipped:') \n",
        "    # for file_name in file_paths: \n",
        "    #     print(file_name) \n",
        "  \n",
        "    # writing files to a zipfile \n",
        "    with ZipFile('/content/gdrive/My Drive/data_Part2.zip','a', compression = zipfile.ZIP_DEFLATED) as zip: \n",
        "        # writing each file one by one \n",
        "        for file in file_paths: \n",
        "            zip.write(file) \n",
        "  \n",
        "    print('All files zipped successfully!')         \n",
        "  \n",
        "  \n",
        "\n",
        "main() "
      ],
      "execution_count": 0,
      "outputs": [
        {
          "output_type": "stream",
          "text": [
            "All files zipped successfully!\n"
          ],
          "name": "stdout"
        }
      ]
    }
  ]
}